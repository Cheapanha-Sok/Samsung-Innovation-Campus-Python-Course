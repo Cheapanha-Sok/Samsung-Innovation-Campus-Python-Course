{
 "cells": [
  {
   "cell_type": "markdown",
   "metadata": {},
   "source": [
    "## Unit 10 - List and Tuple Data Types"
   ]
  },
  {
   "cell_type": "markdown",
   "metadata": {},
   "source": [
    "#### Keywords: List, Indexing, Slicing, in/not in operators and Tuple"
   ]
  },
  {
   "cell_type": "markdown",
   "metadata": {},
   "source": [
    "## Mission"
   ]
  },
  {
   "cell_type": "code",
   "execution_count": 3,
   "metadata": {},
   "outputs": [
    {
     "name": "stdout",
     "output_type": "stream",
     "text": [
      "the average age is 26.75\n"
     ]
    }
   ],
   "source": [
    "person1 = ['David Doe', 20, 1, 180.0, 100.0]\n",
    "person2 = ['John Smith', 25, 1, 170.0, 70.0]\n",
    "person3 = ['Jane Carter', 22, 0, 169.0, 60.0]\n",
    "person4 = ['Peter Kelly', 40, 1, 150.0, 50.0]\n",
    "\n",
    "person_list = person1 + person2 + person3 + person4\n",
    "\n",
    "n_persons = int(len(person_list) / 5)\n",
    "age_sum = 0.0\n",
    "for age in person_list[1::5]:\n",
    "    age_sum += age\n",
    "average_age = float(age_sum) / n_persons\n",
    "print('the average age is ' + str(average_age))"
   ]
  },
  {
   "cell_type": "markdown",
   "metadata": {},
   "source": [
    "## Keyconcept"
   ]
  },
  {
   "cell_type": "markdown",
   "metadata": {},
   "source": [
    "## 1. List and Dictionary"
   ]
  },
  {
   "cell_type": "markdown",
   "metadata": {},
   "source": [
    "#### 1.1. Efficient data processing"
   ]
  },
  {
   "cell_type": "code",
   "execution_count": 4,
   "metadata": {},
   "outputs": [
    {
     "name": "stdout",
     "output_type": "stream",
     "text": [
      "87 67\n"
     ]
    }
   ],
   "source": [
    "score0 = 87\n",
    "score1 = 84\n",
    "score2 = 95\n",
    "score3 = 67\n",
    "score4 = 88\n",
    "score5 = 94\n",
    "score6 = 63\n",
    "print(score0, score3)"
   ]
  },
  {
   "cell_type": "markdown",
   "metadata": {},
   "source": [
    "## 2. List Declaration"
   ]
  },
  {
   "cell_type": "markdown",
   "metadata": {},
   "source": [
    "#### 2.1. What is list?"
   ]
  },
  {
   "cell_type": "code",
   "execution_count": 5,
   "metadata": {},
   "outputs": [
    {
     "data": {
      "text/plain": [
       "[87, 84, 95, 67, 88, 94, 63]"
      ]
     },
     "execution_count": 5,
     "metadata": {},
     "output_type": "execute_result"
    }
   ],
   "source": [
    "score_list = [87, 84, 95, 67, 88, 94, 63]\n",
    "score_list"
   ]
  },
  {
   "cell_type": "code",
   "execution_count": 1,
   "metadata": {},
   "outputs": [
    {
     "name": "stdout",
     "output_type": "stream",
     "text": [
      "87 67\n"
     ]
    }
   ],
   "source": [
    "score_list = [87, 84, 95, 67, 88, 94, 63]\n",
    "print(score_list[0], score_list[3])"
   ]
  },
  {
   "cell_type": "markdown",
   "metadata": {},
   "source": [
    "#### 2.2. List and index"
   ]
  },
  {
   "cell_type": "code",
   "execution_count": 3,
   "metadata": {},
   "outputs": [
    {
     "name": "stdout",
     "output_type": "stream",
     "text": [
      "['banana', 'apple', 'orange', 'kiwi']\n",
      "[100, 200, 'apple', 400]\n"
     ]
    }
   ],
   "source": [
    "fruits = ['banana', 'apple', 'orange', 'kiwi'] # list with strings\n",
    "print(fruits)\n",
    "mixed_list = [100, 200, 'apple', 400] # Python list can have different data types including integers, real numbers, strings, etc.\n",
    "print(mixed_list)"
   ]
  },
  {
   "cell_type": "markdown",
   "metadata": {},
   "source": [
    "#### 2.3. The range function to create a sequence"
   ]
  },
  {
   "cell_type": "code",
   "execution_count": 5,
   "metadata": {},
   "outputs": [
    {
     "data": {
      "text/plain": [
       "[1, 2, 3, 4, 5, 6, 7, 8, 9]"
      ]
     },
     "execution_count": 5,
     "metadata": {},
     "output_type": "execute_result"
    }
   ],
   "source": [
    "list4 = list(range(1, 10))\n",
    "list4"
   ]
  },
  {
   "cell_type": "markdown",
   "metadata": {},
   "source": [
    "## 3. List and Indexing and Calculating Length"
   ]
  },
  {
   "cell_type": "markdown",
   "metadata": {},
   "source": [
    "#### 3.1. Definitions: List, index, indexing"
   ]
  },
  {
   "cell_type": "markdown",
   "metadata": {},
   "source": [
    "List is a data structure that can hold a single value in a single variable or data value.\n",
    "\n",
    "- It is much more convenient and efficient than writing and handling multiple variable names.\n",
    "- Duplication and operation can be done at one time.\n",
    "\n",
    "element or item\n",
    "\n",
    "- The items or elements form a list.\n",
    "- Data values are distinguished with a comma to save them.\n",
    "- The reference is importing the list and uses the index.\n",
    "- The declaration of the list and the reference of the elements can be done as follows"
   ]
  },
  {
   "cell_type": "markdown",
   "metadata": {},
   "source": [
    "#### 3.2. List indexing and calculating length"
   ]
  },
  {
   "cell_type": "code",
   "execution_count": 7,
   "metadata": {},
   "outputs": [
    {
     "name": "stdout",
     "output_type": "stream",
     "text": [
      "[11, 22, 33, 44, 55, 66]\n",
      "6\n"
     ]
    }
   ],
   "source": [
    "n_list = [11, 22, 33, 44, 55, 66]\n",
    "print(n_list)\n",
    "print(len(n_list))"
   ]
  },
  {
   "cell_type": "code",
   "execution_count": 11,
   "metadata": {},
   "outputs": [
    {
     "data": {
      "text/plain": [
       "11"
      ]
     },
     "execution_count": 11,
     "metadata": {},
     "output_type": "execute_result"
    }
   ],
   "source": [
    "n_list[0] # The index of the first item of list is 0"
   ]
  },
  {
   "cell_type": "code",
   "execution_count": 12,
   "metadata": {},
   "outputs": [
    {
     "data": {
      "text/plain": [
       "22"
      ]
     },
     "execution_count": 12,
     "metadata": {},
     "output_type": "execute_result"
    }
   ],
   "source": [
    "n_list[1] # The index of the second item of list is 1"
   ]
  },
  {
   "cell_type": "markdown",
   "metadata": {},
   "source": [
    "#### 3.3. Cautions in list indexing"
   ]
  },
  {
   "cell_type": "code",
   "execution_count": 14,
   "metadata": {},
   "outputs": [
    {
     "data": {
      "text/plain": [
       "66"
      ]
     },
     "execution_count": 14,
     "metadata": {},
     "output_type": "execute_result"
    }
   ],
   "source": [
    "n_list = [11, 22, 33, 44, 55, 66] # index with 6 elements\n",
    "n_list[5]                         # The last element value of the list"
   ]
  },
  {
   "cell_type": "code",
   "execution_count": 13,
   "metadata": {},
   "outputs": [
    {
     "ename": "IndexError",
     "evalue": "list index out of range",
     "output_type": "error",
     "traceback": [
      "\u001b[1;31m---------------------------------------------------------------------------\u001b[0m",
      "\u001b[1;31mIndexError\u001b[0m                                Traceback (most recent call last)",
      "Cell \u001b[1;32mIn[13], line 1\u001b[0m\n\u001b[1;32m----> 1\u001b[0m n_list[\u001b[39m6\u001b[39;49m]\n",
      "\u001b[1;31mIndexError\u001b[0m: list index out of range"
     ]
    }
   ],
   "source": [
    "n_list[6]"
   ]
  },
  {
   "cell_type": "markdown",
   "metadata": {},
   "source": [
    "#### 3.4. Negative index"
   ]
  },
  {
   "cell_type": "code",
   "execution_count": 16,
   "metadata": {},
   "outputs": [],
   "source": [
    "n_list = [11, 22, 33, 44, 55, 66]"
   ]
  },
  {
   "cell_type": "code",
   "execution_count": 17,
   "metadata": {},
   "outputs": [
    {
     "data": {
      "text/plain": [
       "55"
      ]
     },
     "execution_count": 17,
     "metadata": {},
     "output_type": "execute_result"
    }
   ],
   "source": [
    "n_list[-2]"
   ]
  },
  {
   "cell_type": "code",
   "execution_count": 18,
   "metadata": {},
   "outputs": [
    {
     "data": {
      "text/plain": [
       "44"
      ]
     },
     "execution_count": 18,
     "metadata": {},
     "output_type": "execute_result"
    }
   ],
   "source": [
    "n_list[-3]"
   ]
  },
  {
   "cell_type": "markdown",
   "metadata": {},
   "source": [
    "## 4. Addition, Deletion, and Expansion of List Elements"
   ]
  },
  {
   "cell_type": "markdown",
   "metadata": {},
   "source": [
    "## 4.1. + calculation to add lists"
   ]
  },
  {
   "cell_type": "code",
   "execution_count": 20,
   "metadata": {},
   "outputs": [
    {
     "name": "stdout",
     "output_type": "stream",
     "text": [
      "['David Doe', 20, 1, 180.0, 100.0, 'John Smith', 25, 1, 170.0, 70.0]\n"
     ]
    }
   ],
   "source": [
    "person1 = ['David Doe', 20, 1, 180.0, 100.0]\n",
    "person2 = ['John Smith', 25, 1, 170.0, 70.0]\n",
    "\n",
    "person_list = person1 + person2 # add items of two lists to make a single list\n",
    "print(person_list)"
   ]
  },
  {
   "cell_type": "markdown",
   "metadata": {},
   "source": [
    "#### 4.2. The append method for list element addition"
   ]
  },
  {
   "cell_type": "code",
   "execution_count": 24,
   "metadata": {},
   "outputs": [
    {
     "data": {
      "text/plain": [
       "['a', 'b', 'c', 'd', 'e', 'f']"
      ]
     },
     "execution_count": 24,
     "metadata": {},
     "output_type": "execute_result"
    }
   ],
   "source": [
    "a_list = ['a', 'b', 'c', 'd', 'e']\n",
    "a_list.append('f') # add 'f'\n",
    "a_list"
   ]
  },
  {
   "cell_type": "code",
   "execution_count": 25,
   "metadata": {},
   "outputs": [
    {
     "data": {
      "text/plain": [
       "[10, 20, 30, 40, 50]"
      ]
     },
     "execution_count": 25,
     "metadata": {},
     "output_type": "execute_result"
    }
   ],
   "source": [
    "n_list = [10, 20, 30, 40]\n",
    "n_list.append(50) # add 50\n",
    "n_list"
   ]
  },
  {
   "cell_type": "markdown",
   "metadata": {},
   "source": [
    "#### 4.3. The extend method for list elements addition"
   ]
  },
  {
   "cell_type": "code",
   "execution_count": 32,
   "metadata": {},
   "outputs": [
    {
     "data": {
      "text/plain": [
       "['a', 'b', 'c', 1, 2, 3]"
      ]
     },
     "execution_count": 32,
     "metadata": {},
     "output_type": "execute_result"
    }
   ],
   "source": [
    "list1 = ['a', 'b', 'c']\n",
    "list2 = [1, 2, 3]\n",
    "list1.extend(list2)\n",
    "list1"
   ]
  },
  {
   "cell_type": "code",
   "execution_count": 33,
   "metadata": {},
   "outputs": [
    {
     "data": {
      "text/plain": [
       "['a', 'b', 'c', 1, 2, 3, 'd']"
      ]
     },
     "execution_count": 33,
     "metadata": {},
     "output_type": "execute_result"
    }
   ],
   "source": [
    "list1.extend('d')\n",
    "list1"
   ]
  },
  {
   "cell_type": "code",
   "execution_count": 34,
   "metadata": {},
   "outputs": [
    {
     "data": {
      "text/plain": [
       "[11, 22, 33, 44, [55, 66]]"
      ]
     },
     "execution_count": 34,
     "metadata": {},
     "output_type": "execute_result"
    }
   ],
   "source": [
    "list1 = [11, 22, 33, 44]\n",
    "list1.append([55, 66])\n",
    "list1"
   ]
  },
  {
   "cell_type": "code",
   "execution_count": 40,
   "metadata": {},
   "outputs": [
    {
     "data": {
      "text/plain": [
       "[11, 22, 33, 44, 55, 66]"
      ]
     },
     "execution_count": 40,
     "metadata": {},
     "output_type": "execute_result"
    }
   ],
   "source": [
    "list1 = [11, 22, 33, 44]\n",
    "list1.extend([55, 66])\n",
    "list1"
   ]
  },
  {
   "cell_type": "markdown",
   "metadata": {},
   "source": [
    "#### 4.4. Methods to delete list element"
   ]
  },
  {
   "cell_type": "markdown",
   "metadata": {},
   "source": [
    "#### 4.5. Deletion with the del keyword"
   ]
  },
  {
   "cell_type": "code",
   "execution_count": 41,
   "metadata": {},
   "outputs": [
    {
     "name": "stdout",
     "output_type": "stream",
     "text": [
      "[11, 22, 33, 44]\n",
      "[11, 22, 33]\n"
     ]
    }
   ],
   "source": [
    "n_list = [11, 22, 33, 44]\n",
    "print(n_list) # print the entire items\n",
    "\n",
    "del n_list[3] # Delete 44\n",
    "print(n_list)"
   ]
  },
  {
   "cell_type": "markdown",
   "metadata": {},
   "source": [
    "#### 4.6. Deletion with the pop method"
   ]
  },
  {
   "cell_type": "code",
   "execution_count": 3,
   "metadata": {},
   "outputs": [
    {
     "name": "stdout",
     "output_type": "stream",
     "text": [
      "[10, 20, 30]\n"
     ]
    }
   ],
   "source": [
    "n_list = [10, 20, 30]\n",
    "print(n_list) # print the entire items"
   ]
  },
  {
   "cell_type": "code",
   "execution_count": 4,
   "metadata": {},
   "outputs": [
    {
     "name": "stdout",
     "output_type": "stream",
     "text": [
      "n = 30\n",
      "n_list = [10, 20]\n"
     ]
    }
   ],
   "source": [
    "n = n_list.pop()\n",
    "print('n =', n)\n",
    "print('n_list =', n_list)"
   ]
  },
  {
   "cell_type": "markdown",
   "metadata": {},
   "source": [
    "#### 4.7. Deletion with the remove method"
   ]
  },
  {
   "cell_type": "code",
   "execution_count": 6,
   "metadata": {},
   "outputs": [
    {
     "name": "stdout",
     "output_type": "stream",
     "text": [
      "[11, 22, 33, 44, 55, 66]\n",
      "[11, 22, 33, 55, 66]\n"
     ]
    }
   ],
   "source": [
    "n_list = [11, 22, 33, 44, 55, 66]\n",
    "print(n_list)\n",
    "\n",
    "n_list.remove(44)\n",
    "print(n_list)"
   ]
  },
  {
   "cell_type": "markdown",
   "metadata": {},
   "source": [
    "#### 4.8. Cautions when deleting with the remove method"
   ]
  },
  {
   "cell_type": "code",
   "execution_count": 7,
   "metadata": {},
   "outputs": [
    {
     "name": "stdout",
     "output_type": "stream",
     "text": [
      "[11, 22, 33, 44, 55, 66]\n"
     ]
    },
    {
     "ename": "ValueError",
     "evalue": "list.remove(x): x not in list",
     "output_type": "error",
     "traceback": [
      "\u001b[1;31m---------------------------------------------------------------------------\u001b[0m",
      "\u001b[1;31mValueError\u001b[0m                                Traceback (most recent call last)",
      "Cell \u001b[1;32mIn[7], line 4\u001b[0m\n\u001b[0;32m      1\u001b[0m n_list \u001b[39m=\u001b[39m [\u001b[39m11\u001b[39m, \u001b[39m22\u001b[39m, \u001b[39m33\u001b[39m, \u001b[39m44\u001b[39m, \u001b[39m55\u001b[39m, \u001b[39m66\u001b[39m]\n\u001b[0;32m      2\u001b[0m \u001b[39mprint\u001b[39m(n_list)\n\u001b[1;32m----> 4\u001b[0m n_list\u001b[39m.\u001b[39;49mremove(\u001b[39m88\u001b[39;49m)\n\u001b[0;32m      5\u001b[0m \u001b[39mprint\u001b[39m(n_list)\n",
      "\u001b[1;31mValueError\u001b[0m: list.remove(x): x not in list"
     ]
    }
   ],
   "source": [
    "n_list = [11, 22, 33, 44, 55, 66]\n",
    "print(n_list)\n",
    "\n",
    "n_list.remove(88)\n",
    "print(n_list)"
   ]
  },
  {
   "cell_type": "markdown",
   "metadata": {},
   "source": [
    "## 5. List Slicing"
   ]
  },
  {
   "cell_type": "markdown",
   "metadata": {},
   "source": [
    "#### 5.2. Slicing example"
   ]
  },
  {
   "cell_type": "code",
   "execution_count": 12,
   "metadata": {},
   "outputs": [
    {
     "data": {
      "text/plain": [
       "[20, 30, 40, 50]"
      ]
     },
     "execution_count": 12,
     "metadata": {},
     "output_type": "execute_result"
    }
   ],
   "source": [
    "a_list = [10, 20, 30, 40, 50, 60, 70, 80]\n",
    "a_list[1:5] # index start from 1 end 5 so 1 -> 4 index will print out or sliced from the second element 20 to the fifth element 50."
   ]
  },
  {
   "cell_type": "code",
   "execution_count": 25,
   "metadata": {},
   "outputs": [
    {
     "data": {
      "text/plain": [
       "[10, 20, 30, 40, 50]"
      ]
     },
     "execution_count": 25,
     "metadata": {},
     "output_type": "execute_result"
    }
   ],
   "source": [
    "a_list[0:5] # index start from 0 end 5 so 0 -> 4 index will print out or sliced from the first element 10 to the fifth element 50."
   ]
  },
  {
   "cell_type": "code",
   "execution_count": 24,
   "metadata": {},
   "outputs": [
    {
     "data": {
      "text/plain": [
       "[20, 30, 40, 50, 60, 70, 80]"
      ]
     },
     "execution_count": 24,
     "metadata": {},
     "output_type": "execute_result"
    }
   ],
   "source": [
    "a_list[1:] # index start from 1 to the end so 1 -> 7 index will print out or sliced from the second element 20 to the last element."
   ]
  },
  {
   "cell_type": "code",
   "execution_count": 23,
   "metadata": {},
   "outputs": [
    {
     "data": {
      "text/plain": [
       "[10, 20, 30, 40, 50]"
      ]
     },
     "execution_count": 23,
     "metadata": {},
     "output_type": "execute_result"
    }
   ],
   "source": [
    "a_list[:5] # index start from 0 end 5 so 0 -> 4 index will print out or sliced from the first element 10 to the fifth element 50."
   ]
  },
  {
   "cell_type": "code",
   "execution_count": 22,
   "metadata": {},
   "outputs": [
    {
     "data": {
      "text/plain": [
       "[10, 20, 30, 40, 50, 60, 70, 80]"
      ]
     },
     "execution_count": 22,
     "metadata": {},
     "output_type": "execute_result"
    }
   ],
   "source": [
    "a_list[:] # index start from 0 to the rest so 0 -> 7 will print out or omitting all indices, slice from the first element to the last element."
   ]
  },
  {
   "cell_type": "markdown",
   "metadata": {},
   "source": [
    "#### 5.3. Summary of list slicing"
   ]
  },
  {
   "cell_type": "markdown",
   "metadata": {},
   "source": [
    "Python tray supports negative indices and negative cutoff step values\n",
    "\n",
    "<table>\n",
    "<tr>\n",
    "   <td><strong>Syntax</strong></td>\n",
    "   <td><strong>Function</strong></td>\n",
    "<tr>\n",
    "   <td>a_list[start:end]</td>\n",
    "   <td>Slice elements from start to (end-1) (does not include end index elements)</td>\n",
    "<tr>\n",
    "   <td>a_list[start:]</td>\n",
    "   <td>Cutting from the beginning to the end of the list. Cutting off the end of the list.</td>\n",
    "<tr>\n",
    "   <td>a_list[:final]</td>\n",
    "   <td>Cutting from start to end index-1</td>\n",
    "<tr>\n",
    "   <td>a_list[:]</td>\n",
    "   <td>Severing the entire list</td>\n",
    "</tr>\n",
    "   <td>a_list[start:end:steps]</td>\n",
    "   <td>Cutting a step from start to finish</td>\n",
    "</tr>\n",
    "   <td>a_list[-2:]</td>\n",
    "   <td>Cut two elements from the end</td>\n",
    "</tr>\n",
    "   <td>a_list[-2:]</td>\n",
    "   <td>Cut entire articles from the beginning, except the last two elements</td>\n",
    "</tr>\n",
    "   <td>a_list[::-1]</td>\n",
    "   <td>Import all articles but cut in reverse order</td>\n",
    "</tr>\n",
    "   <td>a_list[1::-1]</td>\n",
    "   <td>Slice the first two elements in reverse order</td>\n",
    "</tr>\n",
    "</table>"
   ]
  },
  {
   "cell_type": "markdown",
   "metadata": {},
   "source": [
    "#### 5.4. List slicing with the start and end indices stated"
   ]
  },
  {
   "cell_type": "markdown",
   "metadata": {},
   "source": [
    "a_list[1:5]: Imports the items from a_list[1] to a_list[5-1]."
   ]
  },
  {
   "cell_type": "code",
   "execution_count": 29,
   "metadata": {},
   "outputs": [
    {
     "data": {
      "text/plain": [
       "[20, 30, 40, 50]"
      ]
     },
     "execution_count": 29,
     "metadata": {},
     "output_type": "execute_result"
    }
   ],
   "source": [
    "a_list = [10, 20, 30, 40, 50, 60, 70, 80]\n",
    "a_list[1:5]"
   ]
  },
  {
   "cell_type": "markdown",
   "metadata": {},
   "source": [
    "#### 5.5. Omitting the last index"
   ]
  },
  {
   "cell_type": "markdown",
   "metadata": {},
   "source": [
    "a_list[1:]: Import form a_list[1] until the last item of the list"
   ]
  },
  {
   "cell_type": "code",
   "execution_count": 30,
   "metadata": {},
   "outputs": [
    {
     "data": {
      "text/plain": [
       "[20, 30, 40, 50, 60, 70, 80]"
      ]
     },
     "execution_count": 30,
     "metadata": {},
     "output_type": "execute_result"
    }
   ],
   "source": [
    "a_list[1:]"
   ]
  },
  {
   "cell_type": "markdown",
   "metadata": {},
   "source": [
    "#### 5.6. Omitting both the start and end indices"
   ]
  },
  {
   "cell_type": "markdown",
   "metadata": {},
   "source": [
    "[:] method slicing: Import all items of the list"
   ]
  },
  {
   "cell_type": "code",
   "execution_count": 31,
   "metadata": {},
   "outputs": [
    {
     "data": {
      "text/plain": [
       "[10, 20, 30, 40, 50, 60, 70, 80]"
      ]
     },
     "execution_count": 31,
     "metadata": {},
     "output_type": "execute_result"
    }
   ],
   "source": [
    "a_list[:]"
   ]
  },
  {
   "cell_type": "markdown",
   "metadata": {},
   "source": [
    "#### 5.7. List slicing of negative indices"
   ]
  },
  {
   "cell_type": "markdown",
   "metadata": {},
   "source": [
    "The index of the end element becomes -1, and the elements in front of it are assigned -2, -3, ..."
   ]
  },
  {
   "cell_type": "markdown",
   "metadata": {},
   "source": [
    "#### 5.8. Slicing with using negative indices"
   ]
  },
  {
   "cell_type": "markdown",
   "metadata": {},
   "source": [
    "a_list[-7: -2]: Import the items of a_list[-7] into a_list[-2-1] using the negative index range.\n",
    "As a result, it will include [20, 30, 40, 50, 60]."
   ]
  },
  {
   "cell_type": "code",
   "execution_count": 32,
   "metadata": {},
   "outputs": [
    {
     "data": {
      "text/plain": [
       "[20, 30, 40, 50, 60]"
      ]
     },
     "execution_count": 32,
     "metadata": {},
     "output_type": "execute_result"
    }
   ],
   "source": [
    "a_list[-7:-2]"
   ]
  },
  {
   "cell_type": "markdown",
   "metadata": {},
   "source": [
    "#### 5.9. Omitting the last index from negative indices"
   ]
  },
  {
   "cell_type": "markdown",
   "metadata": {},
   "source": [
    "If you omit the last index when using negative indices, it will import until the last items of the list as follows."
   ]
  },
  {
   "cell_type": "code",
   "execution_count": 33,
   "metadata": {},
   "outputs": [
    {
     "data": {
      "text/plain": [
       "[20, 30, 40, 50, 60, 70, 80]"
      ]
     },
     "execution_count": 33,
     "metadata": {},
     "output_type": "execute_result"
    }
   ],
   "source": [
    "a_list[-7:]"
   ]
  },
  {
   "cell_type": "markdown",
   "metadata": {},
   "source": [
    "####  5.10. Omitting the first index from negative indices"
   ]
  },
  {
   "cell_type": "markdown",
   "metadata": {},
   "source": [
    "Omitting the first index is possible for slicing using negative indices.\n",
    "\n",
    "a_list[:-2]: Imports the indices from the first item up to (-2-1) = -3 index"
   ]
  },
  {
   "cell_type": "code",
   "execution_count": 34,
   "metadata": {},
   "outputs": [
    {
     "data": {
      "text/plain": [
       "[10, 20, 30, 40, 50, 60]"
      ]
     },
     "execution_count": 34,
     "metadata": {},
     "output_type": "execute_result"
    }
   ],
   "source": [
    "a_list[:-2]"
   ]
  },
  {
   "cell_type": "markdown",
   "metadata": {},
   "source": [
    "## 6. Examining Internal List Values"
   ]
  },
  {
   "cell_type": "markdown",
   "metadata": {},
   "source": [
    "#### 6.1. in operator"
   ]
  },
  {
   "cell_type": "code",
   "execution_count": 35,
   "metadata": {},
   "outputs": [
    {
     "data": {
      "text/plain": [
       "True"
      ]
     },
     "execution_count": 35,
     "metadata": {},
     "output_type": "execute_result"
    }
   ],
   "source": [
    "a_list = [10, 20, 30, 40]\n",
    "10 in a_list"
   ]
  },
  {
   "cell_type": "code",
   "execution_count": 36,
   "metadata": {},
   "outputs": [
    {
     "data": {
      "text/plain": [
       "False"
      ]
     },
     "execution_count": 36,
     "metadata": {},
     "output_type": "execute_result"
    }
   ],
   "source": [
    "50 in a_list"
   ]
  },
  {
   "cell_type": "code",
   "execution_count": 37,
   "metadata": {},
   "outputs": [
    {
     "data": {
      "text/plain": [
       "False"
      ]
     },
     "execution_count": 37,
     "metadata": {},
     "output_type": "execute_result"
    }
   ],
   "source": [
    "10 not in a_list"
   ]
  },
  {
   "cell_type": "code",
   "execution_count": 38,
   "metadata": {},
   "outputs": [
    {
     "data": {
      "text/plain": [
       "True"
      ]
     },
     "execution_count": 38,
     "metadata": {},
     "output_type": "execute_result"
    }
   ],
   "source": [
    "50 not in a_list"
   ]
  },
  {
   "cell_type": "code",
   "execution_count": 39,
   "metadata": {},
   "outputs": [
    {
     "name": "stdout",
     "output_type": "stream",
     "text": [
      "10 20 30 40 "
     ]
    }
   ],
   "source": [
    "for n in a_list:\n",
    "    print(n, end = \" \")"
   ]
  },
  {
   "cell_type": "markdown",
   "metadata": {},
   "source": [
    "#### 6.2. Using the in operator"
   ]
  },
  {
   "cell_type": "code",
   "execution_count": 41,
   "metadata": {},
   "outputs": [
    {
     "name": "stdout",
     "output_type": "stream",
     "text": [
      "False\n",
      "True\n"
     ]
    }
   ],
   "source": [
    "n_list = [11, 22, 33, 44, 55, 66]\n",
    "print(80 in n_list) # 88 is not in the n_list\n",
    "print(55 in n_list) # 55 is in the n_list"
   ]
  },
  {
   "cell_type": "markdown",
   "metadata": {},
   "source": [
    "Avoid an error in advance by using the \"in\" operation.\n",
    "\n",
    "Check if there is a value to be deleted. Delete with the remove method only if there is a value for deletion."
   ]
  },
  {
   "cell_type": "code",
   "execution_count": 43,
   "metadata": {},
   "outputs": [
    {
     "name": "stdout",
     "output_type": "stream",
     "text": [
      "[11, 22, 33, 44, 66]\n"
     ]
    }
   ],
   "source": [
    "n_list = [11, 22, 33, 44, 55, 66]\n",
    "if (55 in n_list):      # if 55 is an element of the list\n",
    "    n_list.remove(55)   # Delete 55 from the list\n",
    "if (88 in n_list):      # if 88 is an elemment of the list\n",
    "    n_list.remove(88)   # Delete 88 from the list\n",
    "print(n_list)"
   ]
  },
  {
   "cell_type": "markdown",
   "metadata": {},
   "source": [
    "## 7. Tuple"
   ]
  },
  {
   "cell_type": "markdown",
   "metadata": {},
   "source": [
    "#### 7.1. Immutable and mutable data types"
   ]
  },
  {
   "cell_type": "markdown",
   "metadata": {},
   "source": [
    "<img src='./images/Python data types.jpg' width='600'>"
   ]
  },
  {
   "cell_type": "markdown",
   "metadata": {},
   "source": [
    "#### 7.2. Data type in which the values cannot be changed once created: Tuple"
   ]
  },
  {
   "cell_type": "code",
   "execution_count": 44,
   "metadata": {},
   "outputs": [
    {
     "data": {
      "text/plain": [
       "('red', 'green', 'blue')"
      ]
     },
     "execution_count": 44,
     "metadata": {},
     "output_type": "execute_result"
    }
   ],
   "source": [
    "colors = (\"red\", \"green\", \"blue\")\n",
    "colors"
   ]
  },
  {
   "cell_type": "code",
   "execution_count": 48,
   "metadata": {},
   "outputs": [
    {
     "data": {
      "text/plain": [
       "(1, 2, 3, 4, 5)"
      ]
     },
     "execution_count": 48,
     "metadata": {},
     "output_type": "execute_result"
    }
   ],
   "source": [
    "numbers = (1, 2, 3, 4, 5)\n",
    "numbers"
   ]
  },
  {
   "cell_type": "code",
   "execution_count": 49,
   "metadata": {},
   "outputs": [
    {
     "ename": "TypeError",
     "evalue": "'tuple' object does not support item assignment",
     "output_type": "error",
     "traceback": [
      "\u001b[1;31m---------------------------------------------------------------------------\u001b[0m",
      "\u001b[1;31mTypeError\u001b[0m                                 Traceback (most recent call last)",
      "Cell \u001b[1;32mIn[49], line 2\u001b[0m\n\u001b[0;32m      1\u001b[0m t1 \u001b[39m=\u001b[39m (\u001b[39m1\u001b[39m, \u001b[39m2\u001b[39m, \u001b[39m3\u001b[39m, \u001b[39m4\u001b[39m, \u001b[39m5\u001b[39m)\n\u001b[1;32m----> 2\u001b[0m t1[\u001b[39m0\u001b[39;49m] \u001b[39m=\u001b[39m \u001b[39m100\u001b[39m\n",
      "\u001b[1;31mTypeError\u001b[0m: 'tuple' object does not support item assignment"
     ]
    }
   ],
   "source": [
    "t1 = (1, 2, 3, 4, 5)\n",
    "t1[0] = 100"
   ]
  },
  {
   "cell_type": "markdown",
   "metadata": {},
   "source": [
    "#### Q1. Create prime_list that has prime numbers between 2~10 as its elements. Then, use list indexing to the first element of the list and print as shown below."
   ]
  },
  {
   "cell_type": "code",
   "execution_count": 51,
   "metadata": {},
   "outputs": [
    {
     "name": "stdout",
     "output_type": "stream",
     "text": [
      "1st element of prime_list: 2\n"
     ]
    }
   ],
   "source": [
    "prime_list = [2, 3, 4, 5, 6, 7, 8, 9, 10]\n",
    "print('1st element of prime_list:', prime_list[0])"
   ]
  },
  {
   "cell_type": "markdown",
   "metadata": {},
   "source": [
    "#### Q2. Create prime_list that has prime numbers between 1~10 as its elements. Then, use the append method to add 11."
   ]
  },
  {
   "cell_type": "code",
   "execution_count": 54,
   "metadata": {},
   "outputs": [
    {
     "name": "stdout",
     "output_type": "stream",
     "text": [
      "Prime numbers : [2, 3, 5, 7]\n",
      "Prime numbers after addition : [2, 3, 5, 7, 11]\n"
     ]
    }
   ],
   "source": [
    "prime_list = [2, 3, 5, 7]\n",
    "print('Prime numbers :', prime_list)\n",
    "prime_list.append(11)\n",
    "print('Prime numbers after addition :', prime_list)"
   ]
  },
  {
   "cell_type": "markdown",
   "metadata": {},
   "source": [
    "#### Q3. For the list1 and list2, use the nested for loop to multiply each elements of list1 and list2 and then print the result with the element multiplication result."
   ]
  },
  {
   "cell_type": "code",
   "execution_count": 57,
   "metadata": {},
   "outputs": [
    {
     "name": "stdout",
     "output_type": "stream",
     "text": [
      "3 * 2 = 6\n",
      "3 * 3 = 9\n",
      "3 * 4 = 12\n",
      "3 * 5 = 15\n",
      "3 * 6 = 18\n",
      "5 * 2 = 10\n",
      "5 * 3 = 15\n",
      "5 * 4 = 20\n",
      "5 * 5 = 25\n",
      "5 * 6 = 30\n",
      "7 * 2 = 14\n",
      "7 * 3 = 21\n",
      "7 * 4 = 28\n",
      "7 * 5 = 35\n",
      "7 * 6 = 42\n"
     ]
    }
   ],
   "source": [
    "list1 = [3, 5, 7]\n",
    "list2 = [2, 3, 4, 5, 6]\n",
    "for i in list1:\n",
    "    for j in list2:\n",
    "        print('{} * {} = {}'.format(i, j, i * j))"
   ]
  },
  {
   "cell_type": "markdown",
   "metadata": {},
   "source": [
    "#### Q1"
   ]
  },
  {
   "cell_type": "code",
   "execution_count": 9,
   "metadata": {},
   "outputs": [
    {
     "name": "stdout",
     "output_type": "stream",
     "text": [
      "abc\n"
     ]
    }
   ],
   "source": [
    "s_list = ['abc', 'bcd', 'bcdefg', 'abba', 'cddc', 'opq']\n",
    "for i in s_list:\n",
    "    if len(i) < len(s_list[0]):\n",
    "        s_list[0] = i\n",
    "print(s_list[0])"
   ]
  },
  {
   "cell_type": "markdown",
   "metadata": {},
   "source": [
    "#### Q2"
   ]
  },
  {
   "cell_type": "code",
   "execution_count": 10,
   "metadata": {},
   "outputs": [
    {
     "name": "stdout",
     "output_type": "stream",
     "text": [
      "bcdefg\n"
     ]
    }
   ],
   "source": [
    "s_list = ['abc', 'bcd', 'bcdefg', 'abba', 'cddc', 'opq']\n",
    "for i in s_list:\n",
    "    if len(i) > len(s_list[0]):\n",
    "        s_list[0] = i\n",
    "print(s_list[0])"
   ]
  },
  {
   "cell_type": "markdown",
   "metadata": {},
   "source": [
    "#### Q3"
   ]
  },
  {
   "cell_type": "code",
   "execution_count": 5,
   "metadata": {},
   "outputs": [
    {
     "name": "stdout",
     "output_type": "stream",
     "text": [
      "abc\n",
      "bcd\n",
      "opq\n"
     ]
    }
   ],
   "source": [
    "s_list = ['abc', 'bcd', 'bcdefg', 'abba', 'cddc', 'opq']\n",
    "s_list.sort(key=len)\n",
    "for i in s_list: \n",
    "    if len(i) == len(s_list[0]): print(i)"
   ]
  },
  {
   "cell_type": "code",
   "execution_count": 58,
   "metadata": {},
   "outputs": [
    {
     "name": "stdout",
     "output_type": "stream",
     "text": [
      "['abc', 'bcd', 'opq']\n"
     ]
    }
   ],
   "source": [
    "s_list = ['abc', 'bcd', 'bcdefg', 'abba', 'cddc', 'opq']\n",
    "s_list.sort(key=len)\n",
    "print([i for i in s_list if len(i) == len(s_list[0])])"
   ]
  }
 ],
 "metadata": {
  "kernelspec": {
   "display_name": "Python 3",
   "language": "python",
   "name": "python3"
  },
  "language_info": {
   "codemirror_mode": {
    "name": "ipython",
    "version": 3
   },
   "file_extension": ".py",
   "mimetype": "text/x-python",
   "name": "python",
   "nbconvert_exporter": "python",
   "pygments_lexer": "ipython3",
   "version": "3.10.11"
  },
  "orig_nbformat": 4
 },
 "nbformat": 4,
 "nbformat_minor": 2
}
