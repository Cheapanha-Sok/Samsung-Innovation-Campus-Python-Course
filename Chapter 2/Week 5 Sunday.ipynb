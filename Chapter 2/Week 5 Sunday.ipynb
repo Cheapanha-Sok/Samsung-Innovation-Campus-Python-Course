{
 "cells": [
  {
   "cell_type": "markdown",
   "metadata": {},
   "source": [
    "## Unit 11 - Dictionary Data Types"
   ]
  },
  {
   "cell_type": "markdown",
   "metadata": {},
   "source": [
    "## Mission"
   ]
  },
  {
   "cell_type": "code",
   "execution_count": 4,
   "metadata": {},
   "outputs": [
    {
     "name": "stdout",
     "output_type": "stream",
     "text": [
      "Americano        Price : 3,000KRW\n",
      "Ice Americano    Price : 3,500KRW\n",
      "Cappuccino       Price : 4,000KRW\n",
      "Cafe Latte       Price : 4,500KRW\n",
      "Espresso         Price : 3,600KRW\n"
     ]
    }
   ],
   "source": [
    "menu = {\n",
    "    'Americano' : 3000, \n",
    "    'Ice Americano' : 3500,\n",
    "    'Cappuccino' : 4000,\n",
    "    'Cafe Latte' : 4500,\n",
    "    'Espresso' : 3600\n",
    "}\n",
    "\n",
    "for key in menu:\n",
    "    print(\"{:16s} Price : {:,}KRW\".format(key, menu[key]))"
   ]
  },
  {
   "cell_type": "code",
   "execution_count": 6,
   "metadata": {},
   "outputs": [
    {
     "name": "stdout",
     "output_type": "stream",
     "text": [
      "Americano        Price : 3,000KRW\n",
      "Ice Americano    Price : 3,500KRW\n",
      "Cappuccino       Price : 4,000KRW\n",
      "Cafe Latte       Price : 4,500KRW\n",
      "Espresso         Price : 3,600KRW\n",
      "Cafe Latte is 4,500KRW. Please make a payment.\n"
     ]
    }
   ],
   "source": [
    "print('Americano        Price : 3,000KRW')\n",
    "print('Ice Americano    Price : 3,500KRW')\n",
    "print('Cappuccino       Price : 4,000KRW')\n",
    "print('Cafe Latte       Price : 4,500KRW')\n",
    "print('Espresso         Price : 3,600KRW')\n",
    "choice = input('Select one menu from the list:')\n",
    "if choice in menu.keys():\n",
    "    print('{} is {:,}KRW. Please make a payment.'.format(choice, menu[choice]))\n",
    "else:\n",
    "    print('Sorry. {} is not in the menu.'.format(choice))"
   ]
  },
  {
   "cell_type": "markdown",
   "metadata": {},
   "source": [
    "## 1. Dictionary Declaration"
   ]
  },
  {
   "cell_type": "markdown",
   "metadata": {},
   "source": [
    "#### 1.1. Definition of dictionary"
   ]
  },
  {
   "cell_type": "code",
   "execution_count": 7,
   "metadata": {},
   "outputs": [],
   "source": [
    "person = {\n",
    "    'Name' : 'David Doe',\n",
    "    'Age' : 26,\n",
    "    'Weight' : 82\n",
    "}"
   ]
  },
  {
   "cell_type": "code",
   "execution_count": 8,
   "metadata": {},
   "outputs": [
    {
     "data": {
      "text/plain": [
       "'David Doe'"
      ]
     },
     "execution_count": 8,
     "metadata": {},
     "output_type": "execute_result"
    }
   ],
   "source": [
    "person['Name']"
   ]
  },
  {
   "cell_type": "code",
   "execution_count": 9,
   "metadata": {},
   "outputs": [
    {
     "data": {
      "text/plain": [
       "26"
      ]
     },
     "execution_count": 9,
     "metadata": {},
     "output_type": "execute_result"
    }
   ],
   "source": [
    "person['Age']"
   ]
  },
  {
   "cell_type": "code",
   "execution_count": 10,
   "metadata": {},
   "outputs": [
    {
     "data": {
      "text/plain": [
       "82"
      ]
     },
     "execution_count": 10,
     "metadata": {},
     "output_type": "execute_result"
    }
   ],
   "source": [
    "person['Weight']"
   ]
  },
  {
   "cell_type": "markdown",
   "metadata": {},
   "source": [
    "#### 2.2. Example code for dictionary key-value"
   ]
  },
  {
   "cell_type": "code",
   "execution_count": 15,
   "metadata": {},
   "outputs": [
    {
     "data": {
      "text/plain": [
       "'John Smith'"
      ]
     },
     "execution_count": 15,
     "metadata": {},
     "output_type": "execute_result"
    }
   ],
   "source": [
    "students = {\n",
    "    2019001 : 'John Smith',\n",
    "    2019002 : 'Jane Carter',\n",
    "    2019003 : 'Peter Kelly'\n",
    "}\n",
    "students[2019001]"
   ]
  },
  {
   "cell_type": "code",
   "execution_count": 14,
   "metadata": {},
   "outputs": [
    {
     "data": {
      "text/plain": [
       "'Jane Carter'"
      ]
     },
     "execution_count": 14,
     "metadata": {},
     "output_type": "execute_result"
    }
   ],
   "source": [
    "students[2019002]"
   ]
  },
  {
   "cell_type": "code",
   "execution_count": 16,
   "metadata": {},
   "outputs": [
    {
     "data": {
      "text/plain": [
       "'Peter Kelly'"
      ]
     },
     "execution_count": 16,
     "metadata": {},
     "output_type": "execute_result"
    }
   ],
   "source": [
    "students[2019003]"
   ]
  },
  {
   "cell_type": "markdown",
   "metadata": {},
   "source": [
    "## 3. Key Approach and Value Assignment of Dictionary"
   ]
  },
  {
   "cell_type": "markdown",
   "metadata": {},
   "source": [
    "#### 3.2. Item insertion and change in dictionary"
   ]
  },
  {
   "cell_type": "code",
   "execution_count": 18,
   "metadata": {},
   "outputs": [],
   "source": [
    "person = {\n",
    "    'Name' : 'David Doe',\n",
    "    'Age' : 26,\n",
    "    'Weight' : 82\n",
    "}"
   ]
  },
  {
   "cell_type": "code",
   "execution_count": 19,
   "metadata": {},
   "outputs": [],
   "source": [
    "person['Job'] = 'Data Scientist'"
   ]
  },
  {
   "cell_type": "code",
   "execution_count": 20,
   "metadata": {},
   "outputs": [
    {
     "data": {
      "text/plain": [
       "{'Name': 'David Doe', 'Age': 26, 'Weight': 82, 'Job': 'Data Scientist'}"
      ]
     },
     "execution_count": 20,
     "metadata": {},
     "output_type": "execute_result"
    }
   ],
   "source": [
    "person"
   ]
  },
  {
   "cell_type": "code",
   "execution_count": 21,
   "metadata": {},
   "outputs": [],
   "source": [
    "person = {\n",
    "    'Name' : 'David Doe',\n",
    "    'Age' : 26,\n",
    "    'Weight' : 82\n",
    "}"
   ]
  },
  {
   "cell_type": "code",
   "execution_count": 23,
   "metadata": {},
   "outputs": [],
   "source": [
    "person['Age'] = 27"
   ]
  },
  {
   "cell_type": "code",
   "execution_count": 24,
   "metadata": {},
   "outputs": [
    {
     "data": {
      "text/plain": [
       "{'Name': 'David Doe', 'Age': 27, 'Weight': 82}"
      ]
     },
     "execution_count": 24,
     "metadata": {},
     "output_type": "execute_result"
    }
   ],
   "source": [
    "person"
   ]
  },
  {
   "cell_type": "markdown",
   "metadata": {},
   "source": [
    "#### 3.3. Deleting an item in dictionary"
   ]
  },
  {
   "cell_type": "code",
   "execution_count": 26,
   "metadata": {},
   "outputs": [],
   "source": [
    "person = {\n",
    "    'Name' : 'David Doe',\n",
    "    'Age' : 26,\n",
    "    'Weight' : 82\n",
    "}"
   ]
  },
  {
   "cell_type": "code",
   "execution_count": 27,
   "metadata": {},
   "outputs": [],
   "source": [
    "del person['Age']"
   ]
  },
  {
   "cell_type": "code",
   "execution_count": 28,
   "metadata": {},
   "outputs": [
    {
     "data": {
      "text/plain": [
       "{'Name': 'David Doe', 'Weight': 82}"
      ]
     },
     "execution_count": 28,
     "metadata": {},
     "output_type": "execute_result"
    }
   ],
   "source": [
    "person"
   ]
  },
  {
   "cell_type": "code",
   "execution_count": 29,
   "metadata": {},
   "outputs": [],
   "source": [
    "person = {\n",
    "    'Name' : 'David Doe',\n",
    "    'Age' : 26,\n",
    "    'Weight' : 82\n",
    "}"
   ]
  },
  {
   "cell_type": "code",
   "execution_count": 30,
   "metadata": {},
   "outputs": [
    {
     "ename": "KeyError",
     "evalue": "'Hometown'",
     "output_type": "error",
     "traceback": [
      "\u001b[1;31m---------------------------------------------------------------------------\u001b[0m",
      "\u001b[1;31mKeyError\u001b[0m                                  Traceback (most recent call last)",
      "Cell \u001b[1;32mIn[30], line 1\u001b[0m\n\u001b[1;32m----> 1\u001b[0m \u001b[39mdel\u001b[39;00m person[\u001b[39m'\u001b[39;49m\u001b[39mHometown\u001b[39;49m\u001b[39m'\u001b[39;49m]\n",
      "\u001b[1;31mKeyError\u001b[0m: 'Hometown'"
     ]
    }
   ],
   "source": [
    "del person['Hometown']"
   ]
  },
  {
   "cell_type": "markdown",
   "metadata": {},
   "source": [
    "#### 3.4. Functions and operators for dictionary"
   ]
  },
  {
   "cell_type": "code",
   "execution_count": 31,
   "metadata": {},
   "outputs": [],
   "source": [
    "person = {\n",
    "    'Name' : 'David Doe',\n",
    "    'Age' : 26,\n",
    "    'Weight' : 82\n",
    "}"
   ]
  },
  {
   "cell_type": "code",
   "execution_count": 33,
   "metadata": {},
   "outputs": [
    {
     "data": {
      "text/plain": [
       "3"
      ]
     },
     "execution_count": 33,
     "metadata": {},
     "output_type": "execute_result"
    }
   ],
   "source": [
    "len(person) # Return the number of items in dictionary"
   ]
  },
  {
   "cell_type": "code",
   "execution_count": 38,
   "metadata": {},
   "outputs": [
    {
     "data": {
      "text/plain": [
       "True"
      ]
     },
     "execution_count": 38,
     "metadata": {},
     "output_type": "execute_result"
    }
   ],
   "source": [
    "'Name' in person # 'Name' is found in the key"
   ]
  },
  {
   "cell_type": "code",
   "execution_count": 39,
   "metadata": {},
   "outputs": [
    {
     "data": {
      "text/plain": [
       "False"
      ]
     },
     "execution_count": 39,
     "metadata": {},
     "output_type": "execute_result"
    }
   ],
   "source": [
    "'Job' in person # 'Job' is not found in the key"
   ]
  },
  {
   "cell_type": "code",
   "execution_count": 40,
   "metadata": {},
   "outputs": [
    {
     "data": {
      "text/plain": [
       "False"
      ]
     },
     "execution_count": 40,
     "metadata": {},
     "output_type": "execute_result"
    }
   ],
   "source": [
    "'David Doe' in person # 'David Doe' is found in the value but not in the key (caution)"
   ]
  },
  {
   "cell_type": "code",
   "execution_count": 41,
   "metadata": {},
   "outputs": [
    {
     "data": {
      "text/plain": [
       "True"
      ]
     },
     "execution_count": 41,
     "metadata": {},
     "output_type": "execute_result"
    }
   ],
   "source": [
    "'David Doe' not in person # Returns True because 'David Doe' is not found in the key"
   ]
  },
  {
   "cell_type": "code",
   "execution_count": 42,
   "metadata": {},
   "outputs": [],
   "source": [
    "d1 = {\n",
    "    'Name' : 'David Doe',\n",
    "    'Age' : 26\n",
    "}"
   ]
  },
  {
   "cell_type": "code",
   "execution_count": 44,
   "metadata": {},
   "outputs": [],
   "source": [
    "d2 = {\n",
    "    'Age' : 26,\n",
    "    'Name' : 'David Doe'\n",
    "}"
   ]
  },
  {
   "cell_type": "code",
   "execution_count": 45,
   "metadata": {},
   "outputs": [
    {
     "data": {
      "text/plain": [
       "True"
      ]
     },
     "execution_count": 45,
     "metadata": {},
     "output_type": "execute_result"
    }
   ],
   "source": [
    "d1 == d2"
   ]
  },
  {
   "cell_type": "code",
   "execution_count": 46,
   "metadata": {},
   "outputs": [
    {
     "data": {
      "text/plain": [
       "False"
      ]
     },
     "execution_count": 46,
     "metadata": {},
     "output_type": "execute_result"
    }
   ],
   "source": [
    "d1 != d2"
   ]
  },
  {
   "cell_type": "markdown",
   "metadata": {},
   "source": [
    "#### 3.5. Comparison operation is not applicable in dictionary"
   ]
  },
  {
   "cell_type": "code",
   "execution_count": 47,
   "metadata": {},
   "outputs": [
    {
     "ename": "TypeError",
     "evalue": "'>' not supported between instances of 'dict' and 'dict'",
     "output_type": "error",
     "traceback": [
      "\u001b[1;31m---------------------------------------------------------------------------\u001b[0m",
      "\u001b[1;31mTypeError\u001b[0m                                 Traceback (most recent call last)",
      "Cell \u001b[1;32mIn[47], line 1\u001b[0m\n\u001b[1;32m----> 1\u001b[0m d1 \u001b[39m>\u001b[39;49m d2\n",
      "\u001b[1;31mTypeError\u001b[0m: '>' not supported between instances of 'dict' and 'dict'"
     ]
    }
   ],
   "source": [
    "d1 > d2"
   ]
  },
  {
   "cell_type": "markdown",
   "metadata": {},
   "source": [
    "## 4. json Data Dictionary / List Conversion"
   ]
  },
  {
   "cell_type": "markdown",
   "metadata": {},
   "source": [
    "#### 4.5. Example code to convert json data into dictionary"
   ]
  },
  {
   "cell_type": "code",
   "execution_count": 6,
   "metadata": {},
   "outputs": [
    {
     "name": "stdout",
     "output_type": "stream",
     "text": [
      "<class 'dict'>\n",
      "David Doe\n",
      "{'father': 'John Doe', 'mother': 'Marry Doe'}\n",
      "True\n"
     ]
    }
   ],
   "source": [
    "import json\n",
    "\n",
    "data = '{\"Name\": \"David Doe\", \"Age\" : 25, \"Hobby\" : [\"basketball\"], \\\n",
    "\"Family\" : {\"father\": \"John Doe\", \"mother\" : \"Marry Doe\"}, \"Married\" : true}'\n",
    "\n",
    "\n",
    "json_data = json.loads(data)\n",
    "\n",
    "print(type(json_data))\n",
    "print(json_data['Name'])\n",
    "print(json_data['Family'])\n",
    "print(json_data['Married'])"
   ]
  },
  {
   "cell_type": "code",
   "execution_count": 82,
   "metadata": {},
   "outputs": [],
   "source": [
    "import json\n",
    "\n",
    "data = '{\"title\" : \"The Old man and The Sea\", \"ISBN\" : \"12345\", \"Author\" : \"Penh Polydet\"}'\n",
    "\n",
    "json_data = json.loads(data)\n",
    "\n",
    "with open('book.json', 'w') as f:\n",
    "    json.dump(json_data, f, indent = '\\t')"
   ]
  },
  {
   "cell_type": "markdown",
   "metadata": {},
   "source": [
    "#### Q1"
   ]
  },
  {
   "cell_type": "code",
   "execution_count": 18,
   "metadata": {},
   "outputs": [
    {
     "name": "stdout",
     "output_type": "stream",
     "text": [
      "key : Korea            \n",
      "value : Seoul\n",
      "key : China            \n",
      "value : Beijing\n",
      "key : USA              \n",
      "value : Washington DC\n"
     ]
    },
    {
     "data": {
      "text/plain": [
       "'Seoul'"
      ]
     },
     "execution_count": 18,
     "metadata": {},
     "output_type": "execute_result"
    }
   ],
   "source": [
    "capital_dic = {\n",
    "    \"Korea\" : \"Seoul\",\n",
    "    \"China\" : \"Beijing\",\n",
    "    \"USA\" : \"Washington DC\",\n",
    "}\n",
    "for cap in capital_dic:\n",
    "    print('key : {:16s} \\nvalue : {:}'.format(cap, capital_dic[cap]))\n",
    "\n",
    "capital_dic[\"Korea\"]"
   ]
  },
  {
   "cell_type": "markdown",
   "metadata": {},
   "source": [
    "#### Q2"
   ]
  },
  {
   "cell_type": "code",
   "execution_count": 24,
   "metadata": {},
   "outputs": [
    {
     "name": "stdout",
     "output_type": "stream",
     "text": [
      "The price of an apple is 5000 KRW\n",
      "The price of an banana is 4000 KRW\n",
      "The price of an grape is 5300 KRW\n",
      "The price of an melon is 6500 KRW\n"
     ]
    }
   ],
   "source": [
    "fruits_dictionary = {\n",
    "    \"apple\" : 5000,\n",
    "    \"banana\" : 4000,\n",
    "    \"grape\" : 5300,\n",
    "    \"melon\" : 6500\n",
    "}\n",
    "\n",
    "for fruits in fruits_dictionary:\n",
    "    print(\"The price of an {} is {} KRW\".format(fruits, fruits_dictionary[fruits]))"
   ]
  },
  {
   "cell_type": "markdown",
   "metadata": {},
   "source": [
    "## Let's Code"
   ]
  },
  {
   "cell_type": "markdown",
   "metadata": {},
   "source": [
    "## 1. Dictionary"
   ]
  },
  {
   "cell_type": "markdown",
   "metadata": {},
   "source": [
    "#### 1.1. Structure of dictionary"
   ]
  },
  {
   "cell_type": "markdown",
   "metadata": {},
   "source": [
    "#### 1.2. Dictionary declaration"
   ]
  },
  {
   "cell_type": "code",
   "execution_count": 5,
   "metadata": {},
   "outputs": [],
   "source": [
    "phone_book = {} # Create an empty dictionary"
   ]
  },
  {
   "cell_type": "code",
   "execution_count": 6,
   "metadata": {},
   "outputs": [],
   "source": [
    "phone_book[\"David\"] = \"010-1234-5678\""
   ]
  },
  {
   "cell_type": "markdown",
   "metadata": {},
   "source": [
    "#### 1.3. How to operate dictionary"
   ]
  },
  {
   "cell_type": "code",
   "execution_count": 7,
   "metadata": {},
   "outputs": [
    {
     "name": "stdout",
     "output_type": "stream",
     "text": [
      "{'David': '010-1234-5678'}\n"
     ]
    }
   ],
   "source": [
    "print(phone_book)"
   ]
  },
  {
   "cell_type": "code",
   "execution_count": 8,
   "metadata": {},
   "outputs": [],
   "source": [
    "phone_book = {\"David\" : \"010-1234-5678\"}"
   ]
  },
  {
   "cell_type": "code",
   "execution_count": 9,
   "metadata": {},
   "outputs": [
    {
     "name": "stdout",
     "output_type": "stream",
     "text": [
      "{'David': '010-1234-5678', 'John': '010-1234-5679', 'Daniel': '010-1234-5680'}\n"
     ]
    }
   ],
   "source": [
    "phone_book[\"John\"] = \"010-1234-5679\"\n",
    "phone_book[\"Daniel\"] = \"010-1234-5680\"\n",
    "print(phone_book)"
   ]
  },
  {
   "cell_type": "markdown",
   "metadata": {},
   "source": [
    "## 2. Comparison of the list and dictionary"
   ]
  },
  {
   "cell_type": "markdown",
   "metadata": {},
   "source": [
    "#### 2.2. How to delete an item in the list"
   ]
  },
  {
   "cell_type": "code",
   "execution_count": 12,
   "metadata": {},
   "outputs": [
    {
     "name": "stdout",
     "output_type": "stream",
     "text": [
      "before pop(0) : [11, 22, 33, 44, 55]\n",
      "before pop(0) lst[1] = 22\n",
      "after pop(0) : [22, 33, 44, 55]\n",
      "after pop(0) lst[1] = 33\n"
     ]
    }
   ],
   "source": [
    "lst = [11, 22, 33, 44, 55]\n",
    "print('before pop(0) :', lst)\n",
    "print('before pop(0) lst[1] =', lst[1])\n",
    "lst.pop(0)  # Use index 0 to delete the first item of the list\n",
    "print('after pop(0) :', lst)\n",
    "print('after pop(0) lst[1] =', lst[1]) # The value referred by lst[1] changes"
   ]
  },
  {
   "cell_type": "code",
   "execution_count": 16,
   "metadata": {},
   "outputs": [
    {
     "name": "stdout",
     "output_type": "stream",
     "text": [
      "before pop(0) : dict_items([(0, 11), (1, 22), (2, 33), (3, 44), (4, 55)])\n",
      "before pop(0) dic[1] = 22\n",
      "after pop(0) : dict_items([(1, 22), (2, 33), (3, 44), (4, 55)])\n",
      "after pop(0) dic[1] = 22\n"
     ]
    }
   ],
   "source": [
    "dic = {\n",
    "    0 : 11,\n",
    "    1 : 22,\n",
    "    2 : 33,\n",
    "    3 : 44,\n",
    "    4 : 55\n",
    "}\n",
    "\n",
    "# Print the items() function that returns the tuple pair (key-value) of dictionary\n",
    "print('before pop(0) :', dic.items())\n",
    "print('before pop(0) dic[1] =', dic[1])\n",
    "dic.pop(0)  # Items (0, 11) are selected with the key 0\n",
    "print('after pop(0) :', dic.items())\n",
    "print('after pop(0) dic[1] =', dic[1]) # The value referred by dic[1] does not change"
   ]
  },
  {
   "cell_type": "markdown",
   "metadata": {},
   "source": [
    "## 3. Formatting for better print"
   ]
  },
  {
   "cell_type": "markdown",
   "metadata": {},
   "source": [
    "#### 3.1. format as print method"
   ]
  },
  {
   "cell_type": "code",
   "execution_count": 17,
   "metadata": {},
   "outputs": [
    {
     "data": {
      "text/plain": [
       "'Hello Python!'"
      ]
     },
     "execution_count": 17,
     "metadata": {},
     "output_type": "execute_result"
    }
   ],
   "source": [
    "'{} Python!'.format('Hello')"
   ]
  },
  {
   "cell_type": "code",
   "execution_count": 18,
   "metadata": {},
   "outputs": [
    {
     "data": {
      "text/plain": [
       "'I like Python and Java'"
      ]
     },
     "execution_count": 18,
     "metadata": {},
     "output_type": "execute_result"
    }
   ],
   "source": [
    "'I like {} and {}'.format('Python', 'Java')"
   ]
  },
  {
   "cell_type": "markdown",
   "metadata": {},
   "source": [
    "#### 3.2. Index for print"
   ]
  },
  {
   "cell_type": "code",
   "execution_count": 19,
   "metadata": {},
   "outputs": [
    {
     "data": {
      "text/plain": [
       "'I like Python and Java'"
      ]
     },
     "execution_count": 19,
     "metadata": {},
     "output_type": "execute_result"
    }
   ],
   "source": [
    "'I like {0} and {1}'.format('Python', 'Java')"
   ]
  },
  {
   "cell_type": "code",
   "execution_count": 20,
   "metadata": {},
   "outputs": [
    {
     "data": {
      "text/plain": [
       "'I like Java and Python'"
      ]
     },
     "execution_count": 20,
     "metadata": {},
     "output_type": "execute_result"
    }
   ],
   "source": [
    "'I like {1} and {0}'.format('Python', 'Java')"
   ]
  },
  {
   "cell_type": "code",
   "execution_count": 21,
   "metadata": {},
   "outputs": [
    {
     "data": {
      "text/plain": [
       "'I like Python, Python, Python'"
      ]
     },
     "execution_count": 21,
     "metadata": {},
     "output_type": "execute_result"
    }
   ],
   "source": [
    "'I like {0}, {0}, {0}'.format('Python', 'Java')"
   ]
  },
  {
   "cell_type": "code",
   "execution_count": 22,
   "metadata": {},
   "outputs": [
    {
     "name": "stdout",
     "output_type": "stream",
     "text": [
      "12345678901234567890\n",
      " 123,   123,    123\n"
     ]
    }
   ],
   "source": [
    "print('12345678901234567890')\n",
    "print('{0:4d}, {0:5d}, {0:6d}'.format(123))"
   ]
  },
  {
   "cell_type": "markdown",
   "metadata": {},
   "source": [
    "#### 3.3. Field width designation for neat printing"
   ]
  },
  {
   "cell_type": "code",
   "execution_count": 23,
   "metadata": {},
   "outputs": [
    {
     "data": {
      "text/plain": [
       "'Precision of two decimal places : 0.33, Precision of three decimal places 0.333'"
      ]
     },
     "execution_count": 23,
     "metadata": {},
     "output_type": "execute_result"
    }
   ],
   "source": [
    "'Precision of two decimal places : {0:.2f}, Precision of three decimal places {0:.3f}'.format(1/3)"
   ]
  },
  {
   "cell_type": "code",
   "execution_count": 24,
   "metadata": {},
   "outputs": [
    {
     "data": {
      "text/plain": [
       "'Real numbers for 10 spaces :      3.142,     3.1416'"
      ]
     },
     "execution_count": 24,
     "metadata": {},
     "output_type": "execute_result"
    }
   ],
   "source": [
    "'Real numbers for 10 spaces : {0:10.3f}, {0:10.4f}'.format(3.1415926)"
   ]
  },
  {
   "cell_type": "code",
   "execution_count": 25,
   "metadata": {},
   "outputs": [
    {
     "name": "stdout",
     "output_type": "stream",
     "text": [
      "  2    4     8\n",
      "  4   16    64\n",
      "  6   36   216\n",
      "  8   64   512\n",
      " 10  100  1000\n"
     ]
    }
   ],
   "source": [
    "for i in range(2, 11, 2):\n",
    "    print('{0:3d} {1:4d} {2:5d}'.format(i, i * i, i * i * i))"
   ]
  },
  {
   "cell_type": "markdown",
   "metadata": {},
   "source": [
    "#### Q1"
   ]
  },
  {
   "cell_type": "code",
   "execution_count": 29,
   "metadata": {},
   "outputs": [
    {
     "name": "stdout",
     "output_type": "stream",
     "text": [
      "dict_keys(['apple', 'melon', 'banana', 'grape'])\n",
      "apple is in fruit_dic\n",
      "apple is not in fruit_dic\n"
     ]
    }
   ],
   "source": [
    "fruits_dictionary = {\n",
    "    \"apple\" : 6000,\n",
    "    \"melon\" : 3000,\n",
    "    \"banana\" : 5000,\n",
    "    \"grape\" : 4000\n",
    "}\n",
    "\n",
    "print(fruits_dictionary.keys())\n",
    "if \"apple\" in fruits_dictionary:\n",
    "    print(\"apple is in fruit_dic\")\n",
    "if \"mango\" not in fruits_dictionary:\n",
    "    print(\"apple is not in fruit_dic\")"
   ]
  },
  {
   "cell_type": "markdown",
   "metadata": {},
   "source": [
    "## Unit 12 - Sequence Data Types"
   ]
  }
 ],
 "metadata": {
  "kernelspec": {
   "display_name": "Python 3",
   "language": "python",
   "name": "python3"
  },
  "language_info": {
   "codemirror_mode": {
    "name": "ipython",
    "version": 3
   },
   "file_extension": ".py",
   "mimetype": "text/x-python",
   "name": "python",
   "nbconvert_exporter": "python",
   "pygments_lexer": "ipython3",
   "version": "3.11.4"
  },
  "orig_nbformat": 4
 },
 "nbformat": 4,
 "nbformat_minor": 2
}
