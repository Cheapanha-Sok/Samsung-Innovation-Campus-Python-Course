{
 "cells": [
  {
   "cell_type": "markdown",
   "metadata": {},
   "source": [
    "## Let's Code"
   ]
  },
  {
   "cell_type": "markdown",
   "metadata": {},
   "source": [
    "## 1. Generating Two-Dimensional List"
   ]
  },
  {
   "cell_type": "markdown",
   "metadata": {},
   "source": [
    "#### 1.1. Create 3x2 size two-dimensional list using loop statement"
   ]
  },
  {
   "cell_type": "code",
   "execution_count": 4,
   "metadata": {},
   "outputs": [
    {
     "name": "stdout",
     "output_type": "stream",
     "text": [
      "[[0, 0], [0, 0], [0, 0]]\n"
     ]
    }
   ],
   "source": [
    "list_array = []\n",
    "\n",
    "for i in range(3):\n",
    "    line = []\n",
    "    for j in range(2):\n",
    "        line.append(0)\n",
    "    list_array.append(line)\n",
    "\n",
    "print(list_array)"
   ]
  },
  {
   "cell_type": "markdown",
   "metadata": {},
   "source": [
    "#### 1.2. Creating two-dimensional list using list comprehension expressions"
   ]
  },
  {
   "cell_type": "code",
   "execution_count": 5,
   "metadata": {},
   "outputs": [
    {
     "name": "stdout",
     "output_type": "stream",
     "text": [
      "[[0, 0], [0, 0], [0, 0]]\n"
     ]
    }
   ],
   "source": [
    "list_array = [[0] * 2 for i in range(3)]\n",
    "print(list_array)"
   ]
  },
  {
   "cell_type": "markdown",
   "metadata": {},
   "source": [
    "#### 1.3. Example code of creating two-dimensional list using list comprehension"
   ]
  },
  {
   "cell_type": "code",
   "execution_count": 6,
   "metadata": {},
   "outputs": [
    {
     "name": "stdout",
     "output_type": "stream",
     "text": [
      "[[0, 0], [0, 0], [0, 0]]\n"
     ]
    }
   ],
   "source": [
    "list_array = [[0 for j in range(2)] for i in range(3)]\n",
    "print(list_array)"
   ]
  },
  {
   "cell_type": "markdown",
   "metadata": {},
   "source": [
    "## 2. Printing Two-Dimensional List Element"
   ]
  },
  {
   "cell_type": "markdown",
   "metadata": {},
   "source": [
    "#### 2.2. Printing two-dimensional list element using while statement"
   ]
  },
  {
   "cell_type": "code",
   "execution_count": 8,
   "metadata": {},
   "outputs": [
    {
     "name": "stdout",
     "output_type": "stream",
     "text": [
      "1 2 3\n",
      "4 5 6\n",
      "7 8 9\n"
     ]
    }
   ],
   "source": [
    "list_array = [[1, 2, 3], [4, 5, 6], [7, 8, 9]]\n",
    "i = 0\n",
    "while i < len(list_array):\n",
    "    a, b, c = list_array[i]\n",
    "    print(a, b, c)\n",
    "\n",
    "    i += 1"
   ]
  },
  {
   "cell_type": "markdown",
   "metadata": {},
   "source": [
    "## 3. Creating Jagged Lists"
   ]
  },
  {
   "cell_type": "markdown",
   "metadata": {},
   "source": [
    "#### 3.1. Creating and printing jagged lists"
   ]
  },
  {
   "cell_type": "code",
   "execution_count": 9,
   "metadata": {},
   "outputs": [
    {
     "name": "stdout",
     "output_type": "stream",
     "text": [
      "[[0], [0, 0], [0, 0, 0], [0, 0, 0, 0], [0, 0, 0, 0, 0]]\n"
     ]
    }
   ],
   "source": [
    "list1 = [[0] * i for i in [1, 2, 3, 4, 5]]\n",
    "print(list1)"
   ]
  },
  {
   "cell_type": "code",
   "execution_count": 10,
   "metadata": {},
   "outputs": [
    {
     "name": "stdout",
     "output_type": "stream",
     "text": [
      "0 \n",
      "0 0 \n",
      "0 0 0 \n",
      "0 0 0 0 \n",
      "0 0 0 0 0 \n"
     ]
    }
   ],
   "source": [
    "for i in list1:\n",
    "    for j in i:\n",
    "        print(j, end = ' ')\n",
    "    print()"
   ]
  },
  {
   "cell_type": "markdown",
   "metadata": {},
   "source": [
    "#### 3.2. Append method"
   ]
  },
  {
   "cell_type": "code",
   "execution_count": 11,
   "metadata": {},
   "outputs": [
    {
     "name": "stdout",
     "output_type": "stream",
     "text": [
      "[[10], [20, 20], [30, 30, 30], [40, 40, 40, 40], [50, 50, 50, 50, 50]]\n"
     ]
    }
   ],
   "source": [
    "list1 = [[10 * i] * i for i in [1, 2, 3, 4, 5]]\n",
    "print(list1)"
   ]
  },
  {
   "cell_type": "code",
   "execution_count": 12,
   "metadata": {},
   "outputs": [
    {
     "name": "stdout",
     "output_type": "stream",
     "text": [
      "[[10, 99], [20, 20, 77], [30, 30, 30], [40, 40, 40, 40], [50, 50, 50, 50, 50]]\n"
     ]
    }
   ],
   "source": [
    "list1[0].append(99)\n",
    "list1[1].append(77)\n",
    "print(list1)"
   ]
  },
  {
   "cell_type": "markdown",
   "metadata": {},
   "source": [
    "## 4. Read and Save Data from a File"
   ]
  },
  {
   "cell_type": "markdown",
   "metadata": {},
   "source": [
    "#### 4.3. Writing files and modes"
   ]
  },
  {
   "cell_type": "code",
   "execution_count": 15,
   "metadata": {},
   "outputs": [],
   "source": [
    "f = open('hello.txt', 'w')\n",
    "f.write('hello world!')\n",
    "f.close()"
   ]
  },
  {
   "cell_type": "markdown",
   "metadata": {},
   "source": [
    "#### 4.7. Open function example code"
   ]
  },
  {
   "cell_type": "code",
   "execution_count": 16,
   "metadata": {},
   "outputs": [],
   "source": [
    "f = open('hello.txt', 'w') # Open file"
   ]
  },
  {
   "cell_type": "code",
   "execution_count": 18,
   "metadata": {},
   "outputs": [],
   "source": [
    "f = open('hello.txt', 'wt') # Open file in text"
   ]
  },
  {
   "cell_type": "code",
   "execution_count": 19,
   "metadata": {},
   "outputs": [],
   "source": [
    "f = open('hello.txt', 'wb') # Open file in binary"
   ]
  },
  {
   "cell_type": "code",
   "execution_count": 20,
   "metadata": {},
   "outputs": [],
   "source": [
    "f = open('hello.txt', 'r+t') # Text read/write mode"
   ]
  },
  {
   "cell_type": "markdown",
   "metadata": {},
   "source": [
    "#### 4.8. open, write function"
   ]
  },
  {
   "cell_type": "code",
   "execution_count": 54,
   "metadata": {},
   "outputs": [],
   "source": [
    "f = open('hello.txt', 'w+t') # Text write/read mode"
   ]
  },
  {
   "cell_type": "code",
   "execution_count": 55,
   "metadata": {},
   "outputs": [],
   "source": [
    "f = open('hello.txt', 'a+t') # Add text"
   ]
  },
  {
   "cell_type": "code",
   "execution_count": 56,
   "metadata": {},
   "outputs": [
    {
     "data": {
      "text/plain": [
       "12"
      ]
     },
     "execution_count": 56,
     "metadata": {},
     "output_type": "execute_result"
    }
   ],
   "source": [
    "f.write('Hello World!')"
   ]
  },
  {
   "cell_type": "code",
   "execution_count": 57,
   "metadata": {},
   "outputs": [],
   "source": [
    "f.write('Love of my life, you\\'ve hurt me\\n')\n",
    "f.write('You\\'ve broken my heart and now you leave me\\n')\n",
    "f.write('Love of my life, can\\'t you see?\\n')\n",
    "f.close()"
   ]
  },
  {
   "cell_type": "markdown",
   "metadata": {},
   "source": [
    "#### 4.10 Read file"
   ]
  },
  {
   "cell_type": "code",
   "execution_count": 63,
   "metadata": {},
   "outputs": [
    {
     "name": "stdout",
     "output_type": "stream",
     "text": [
      "Hello\n"
     ]
    }
   ],
   "source": [
    "f = open('hello.txt', 'r')\n",
    "s = f.read(5)\n",
    "print(s)\n",
    "f.close()"
   ]
  },
  {
   "cell_type": "markdown",
   "metadata": {},
   "source": [
    "#### 4.11. Readline method"
   ]
  },
  {
   "cell_type": "code",
   "execution_count": 64,
   "metadata": {},
   "outputs": [
    {
     "name": "stdout",
     "output_type": "stream",
     "text": [
      "Hello World!Love of my life, you've hurt me\n",
      "You've broken my heart and now you leave me\n"
     ]
    }
   ],
   "source": [
    "f = open('hello.txt', 'r') # Open file\n",
    "s = f.readline()           # Read first line of the file 'AAA'\n",
    "print(s, end = '')         # print the line\n",
    "s = f.readline()           # Read second line of the file 'BBB'\n",
    "print(s, end = '')         # print the line\n",
    "f.close()                  # Close file"
   ]
  },
  {
   "cell_type": "markdown",
   "metadata": {},
   "source": [
    "#### 4.12. Add files"
   ]
  },
  {
   "cell_type": "code",
   "execution_count": 65,
   "metadata": {},
   "outputs": [],
   "source": [
    "f = open('hello.txt', 'a+') # Open file\n",
    "f.write('This will be appended.\\n')\n",
    "f.write('This too.\\n')\n",
    "f.close()"
   ]
  },
  {
   "cell_type": "code",
   "execution_count": 66,
   "metadata": {},
   "outputs": [
    {
     "name": "stdout",
     "output_type": "stream",
     "text": [
      "Hello World!Love of my life, you've hurt me\n",
      "You've broken my heart and now you leave me\n",
      "Love of my life, can't you see?\n",
      "This will be appended.\n",
      "This too.\n",
      "\n"
     ]
    }
   ],
   "source": [
    "f = open('hello.txt', 'r') # Open file\n",
    "s = f.read()\n",
    "print(s)\n",
    "f.close()"
   ]
  },
  {
   "cell_type": "markdown",
   "metadata": {},
   "source": [
    "#### 4.13. Example of file reading and writing"
   ]
  },
  {
   "cell_type": "code",
   "execution_count": 67,
   "metadata": {},
   "outputs": [],
   "source": [
    "f = open('data5.txt', 'w')          # Open file in writing mode\n",
    "for _ in range(5):                  \n",
    "    n = input('Enter integer: ')    \n",
    "    f.write(n)                      # Write the input in string\n",
    "    f.write('\\n')                   # Write the value and change file\n",
    "f.close()                           # close file"
   ]
  },
  {
   "cell_type": "code",
   "execution_count": 68,
   "metadata": {},
   "outputs": [
    {
     "name": "stdout",
     "output_type": "stream",
     "text": [
      "Sum of the numbers = 150, average = 30.0\n"
     ]
    }
   ],
   "source": [
    "f = open('data5.txt', 'r')          # Open file in writing mode\n",
    "su = 0\n",
    "for _ in range(5):                  \n",
    "    n = int(f.readline())           # read a number within a line of data5.txt file\n",
    "    su += n                         # accumulate and add to su\n",
    "\n",
    "print('Sum of the numbers = {}, average = {}'.format(su, su /5))\n",
    "f.close()    "
   ]
  },
  {
   "cell_type": "markdown",
   "metadata": {},
   "source": [
    "#### 4.14. With statement"
   ]
  },
  {
   "cell_type": "code",
   "execution_count": 70,
   "metadata": {},
   "outputs": [],
   "source": [
    "with open('hello.txt', 'w') as f:   # automatically open and close file\n",
    "    f.write('Hello World!')         # write in hello.txt file"
   ]
  },
  {
   "cell_type": "code",
   "execution_count": 71,
   "metadata": {},
   "outputs": [],
   "source": [
    "f = open('hello.txt', 'w')          # Open file\n",
    "try:\n",
    "    f.write('Hello World!')         # write in hello.txt file\n",
    "finally:\n",
    "    f.close()                       # close file"
   ]
  },
  {
   "cell_type": "markdown",
   "metadata": {},
   "source": [
    "#### Q1"
   ]
  },
  {
   "cell_type": "code",
   "execution_count": 86,
   "metadata": {},
   "outputs": [
    {
     "name": "stdout",
     "output_type": "stream",
     "text": [
      "1 0 1 0 1 \n",
      "0 1 0 1 0 \n",
      "1 0 1 0 1 \n",
      "0 1 0 1 0 \n",
      "1 0 1 0 1 \n"
     ]
    }
   ],
   "source": [
    "list1 = []\n",
    "n = int(input(\"Enter n: \"))\n",
    "for i in range(n):\n",
    "    line = []\n",
    "    for j in range(n):\n",
    "        if (i + j) % 2 == 0:\n",
    "            line.append(1)\n",
    "        else:\n",
    "            line.append(0)\n",
    "    list1.append(line)\n",
    "    \n",
    "for i in list1:\n",
    "    for j in i:\n",
    "        print(j, end = ' ')\n",
    "    print()"
   ]
  },
  {
   "cell_type": "markdown",
   "metadata": {},
   "source": [
    "## Unit 14 - Dictionary Method-1"
   ]
  },
  {
   "cell_type": "markdown",
   "metadata": {},
   "source": [
    "## Keywords: Dictionary, Key-Value, Add, Edit, Delete, Save"
   ]
  },
  {
   "cell_type": "code",
   "execution_count": 94,
   "metadata": {},
   "outputs": [
    {
     "name": "stdout",
     "output_type": "stream",
     "text": [
      "Start café menu program... Press q to exit\n",
      "3000\n",
      "green tea not in the menu.\n",
      "input error\n",
      "5000\n",
      "exiting cafe menu program.\n"
     ]
    }
   ],
   "source": [
    "print('Start café menu program... Press q to exit')\n",
    "cafe_menu = {\n",
    "    'Ice coffee' : 3000\n",
    "}\n",
    "\n",
    "while True:\n",
    "    str = input('$ ')\n",
    "    if str.startswith('q'):\n",
    "        break\n",
    "    command = str[0]\n",
    "\n",
    "    if command == '<':\n",
    "        str = str.replace('<', \"\")\n",
    "        inputStr = str.split(':')\n",
    "        if len(inputStr) < 2:\n",
    "            print('input error')\n",
    "            continue\n",
    "        else:\n",
    "            cafe_menu[inputStr[0].strip()] = inputStr[1].strip()\n",
    "\n",
    "    elif command == '>':\n",
    "        str = str.replace('>', \"\")\n",
    "        inputStr = str.strip()\n",
    "        if inputStr in cafe_menu:\n",
    "            print(cafe_menu[inputStr])\n",
    "        else:\n",
    "            print('{} not in the menu.'.format(inputStr))\n",
    "    elif command == 'q':\n",
    "        break\n",
    "    else:\n",
    "        print('input error')\n",
    "print('exiting cafe menu program.')"
   ]
  },
  {
   "cell_type": "markdown",
   "metadata": {},
   "source": [
    "## 1. Add and Edit Key-Value Together"
   ]
  },
  {
   "cell_type": "markdown",
   "metadata": {},
   "source": [
    "#### 1.1. Add, edit dictionary data type"
   ]
  },
  {
   "cell_type": "markdown",
   "metadata": {},
   "source": [
    "#### 1.2. Dictionary code without setdefault"
   ]
  },
  {
   "cell_type": "code",
   "execution_count": 95,
   "metadata": {},
   "outputs": [
    {
     "name": "stdout",
     "output_type": "stream",
     "text": [
      "alphabet counting : {'a': 2, 'b': 3, 'c': 2}\n"
     ]
    }
   ],
   "source": [
    "str1 = ['a', 'b', 'c', 'b', 'a', 'b', 'c']\n",
    "dic = {}\n",
    "for ch in str1:\n",
    "    if ch not in dic.keys():\n",
    "        dic[ch] = 0\n",
    "    dic[ch] += 1\n",
    "\n",
    "print('alphabet counting :', dic)"
   ]
  },
  {
   "cell_type": "markdown",
   "metadata": {},
   "source": [
    "#### 1.3. Dictionary code with setdefault"
   ]
  },
  {
   "cell_type": "code",
   "execution_count": 99,
   "metadata": {},
   "outputs": [
    {
     "name": "stdout",
     "output_type": "stream",
     "text": [
      "[('a', 1)]\n",
      "[('a', 1), ('b', 1)]\n",
      "[('a', 1), ('b', 1), ('c', 1)]\n",
      "[('a', 1), ('b', 2), ('c', 1)]\n",
      "[('a', 2), ('b', 2), ('c', 1)]\n",
      "[('a', 2), ('b', 3), ('c', 1)]\n",
      "[('a', 2), ('b', 3), ('c', 2)]\n",
      "alphabet counting : {'a': 2, 'b': 3, 'c': 2}\n"
     ]
    }
   ],
   "source": [
    "str1 = ['a', 'b', 'c', 'b', 'a', 'b', 'c']\n",
    "dic = {}\n",
    "for ch in str1:\n",
    "    dic.setdefault(ch, 0)\n",
    "    dic[ch] += 1\n",
    "    print(list(dic.items()))\n",
    "\n",
    "print('alphabet counting :', dic)"
   ]
  },
  {
   "cell_type": "code",
   "execution_count": 100,
   "metadata": {},
   "outputs": [
    {
     "name": "stdout",
     "output_type": "stream",
     "text": [
      "{'a': 10, 'b': 20, 'c': 30, 'd': 40, 'f': 50}\n"
     ]
    }
   ],
   "source": [
    "dic = {\n",
    "    'a' : 10,\n",
    "    'b' : 20,\n",
    "    'c' : 30,\n",
    "    'd' : 40\n",
    "}\n",
    "dic.setdefault('f', 50)\n",
    "print(dic)"
   ]
  },
  {
   "cell_type": "markdown",
   "metadata": {},
   "source": [
    "#### 1.4. Update changes value of key"
   ]
  },
  {
   "cell_type": "code",
   "execution_count": 103,
   "metadata": {},
   "outputs": [
    {
     "name": "stdout",
     "output_type": "stream",
     "text": [
      "{'a': 50, 'b': 20, 'c': 30, 'd': 40}\n"
     ]
    }
   ],
   "source": [
    "dic = {\n",
    "    'a' : 10,\n",
    "    'b' : 20,\n",
    "    'c' : 30,\n",
    "    'd' : 40\n",
    "}\n",
    "dic.update(a = 50)\n",
    "print(dic)"
   ]
  },
  {
   "cell_type": "markdown",
   "metadata": {},
   "source": [
    "#### 1.5. When update method adds key that does not exist."
   ]
  },
  {
   "cell_type": "code",
   "execution_count": 104,
   "metadata": {},
   "outputs": [
    {
     "name": "stdout",
     "output_type": "stream",
     "text": [
      "{'a': 50, 'b': 20, 'c': 30, 'd': 40, 'e': 50}\n"
     ]
    }
   ],
   "source": [
    "dic.update(e = 50)\n",
    "print(dic)"
   ]
  },
  {
   "cell_type": "markdown",
   "metadata": {},
   "source": [
    "#### 1.6. Modify multiple items with update method"
   ]
  },
  {
   "cell_type": "code",
   "execution_count": 105,
   "metadata": {},
   "outputs": [
    {
     "name": "stdout",
     "output_type": "stream",
     "text": [
      "{'a': 900, 'b': 20, 'c': 30, 'd': 40, 'e': 50, 'f': 60}\n"
     ]
    }
   ],
   "source": [
    "dic.update(a = 900, f= 60)\n",
    "print(dic)"
   ]
  },
  {
   "cell_type": "markdown",
   "metadata": {},
   "source": [
    "#### 1.7. Precautions for using the update method"
   ]
  },
  {
   "cell_type": "code",
   "execution_count": 107,
   "metadata": {},
   "outputs": [
    {
     "name": "stdout",
     "output_type": "stream",
     "text": [
      "{1: 'ONE', 3: 'THREE'}\n"
     ]
    }
   ],
   "source": [
    "dic2 = {\n",
    "    1: 'one',\n",
    "    3: 'three'\n",
    "}\n",
    "dic2.update({1: 'ONE', 3:'THREE'})\n",
    "print(dic2)"
   ]
  },
  {
   "cell_type": "markdown",
   "metadata": {},
   "source": [
    "#### 1.8. How to modify the update method key when it's not a string"
   ]
  },
  {
   "cell_type": "code",
   "execution_count": 109,
   "metadata": {},
   "outputs": [
    {
     "name": "stdout",
     "output_type": "stream",
     "text": [
      "{1: 'ONE', 3: 'THREE', 2: 'TWO', 4: 'FOUR'}\n"
     ]
    }
   ],
   "source": [
    "dic2.update([[2, 'TWO'], [4, 'FOUR']])\n",
    "print(dic2)"
   ]
  },
  {
   "cell_type": "code",
   "execution_count": 110,
   "metadata": {},
   "outputs": [
    {
     "name": "stdout",
     "output_type": "stream",
     "text": [
      "{1: 'ONE', 3: 'THREE', 2: 'TWO', 4: 'FOUR'}\n"
     ]
    }
   ],
   "source": [
    "dic2.update(((2, 'TWO'), (4, 'FOUR')))\n",
    "print(dic2)"
   ]
  },
  {
   "cell_type": "code",
   "execution_count": null,
   "metadata": {},
   "outputs": [],
   "source": []
  }
 ],
 "metadata": {
  "kernelspec": {
   "display_name": "Python 3",
   "language": "python",
   "name": "python3"
  },
  "language_info": {
   "codemirror_mode": {
    "name": "ipython",
    "version": 3
   },
   "file_extension": ".py",
   "mimetype": "text/x-python",
   "name": "python",
   "nbconvert_exporter": "python",
   "pygments_lexer": "ipython3",
   "version": "3.11.4"
  },
  "orig_nbformat": 4
 },
 "nbformat": 4,
 "nbformat_minor": 2
}
