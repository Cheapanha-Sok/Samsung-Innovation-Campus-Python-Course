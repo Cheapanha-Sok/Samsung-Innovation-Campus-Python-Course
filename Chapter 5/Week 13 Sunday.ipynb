{
 "cells": [
  {
   "cell_type": "markdown",
   "metadata": {},
   "source": [
    "## Unit 27 - Bubble, Selection and Insertion Sort"
   ]
  },
  {
   "cell_type": "markdown",
   "metadata": {},
   "source": [
    "## Keywords: Sorting Problem, Bubble Sort, Selection Sort, Insertion Sort and Quadratic Time"
   ]
  },
  {
   "cell_type": "markdown",
   "metadata": {},
   "source": [
    "## Let's Code"
   ]
  },
  {
   "cell_type": "markdown",
   "metadata": {},
   "source": [
    "## 1. Swap Operation"
   ]
  },
  {
   "cell_type": "markdown",
   "metadata": {},
   "source": [
    "#### 1.1. Swap: exchange the value of two elements"
   ]
  },
  {
   "cell_type": "code",
   "execution_count": 7,
   "metadata": {},
   "outputs": [
    {
     "name": "stdout",
     "output_type": "stream",
     "text": [
      "[10, 20]\n",
      "[20, 10]\n"
     ]
    }
   ],
   "source": [
    "def swap1(S, x, y):\n",
    "    t = S[x]\n",
    "    S[x] = S[y]\n",
    "    S[y] = t\n",
    "S = [10, 20]\n",
    "print(S)\n",
    "swap1(S, 0, 1)\n",
    "print(S)"
   ]
  },
  {
   "cell_type": "markdown",
   "metadata": {},
   "source": [
    "#### 1.2. Swap in Python"
   ]
  },
  {
   "cell_type": "code",
   "execution_count": 8,
   "metadata": {},
   "outputs": [
    {
     "name": "stdout",
     "output_type": "stream",
     "text": [
      "[10, 20]\n",
      "[20, 10]\n"
     ]
    }
   ],
   "source": [
    "def swap1(S, x, y):\n",
    "    S[x], S[y] = S[y], S[x]\n",
    "S = [10, 20]\n",
    "print(S)\n",
    "swap1(S, 0, 1)\n",
    "print(S)"
   ]
  },
  {
   "cell_type": "markdown",
   "metadata": {},
   "source": [
    "## 2. Bubble Sort"
   ]
  },
  {
   "cell_type": "markdown",
   "metadata": {},
   "source": [
    "#### 2.1. Implementing bubble Sort"
   ]
  },
  {
   "cell_type": "code",
   "execution_count": 9,
   "metadata": {},
   "outputs": [],
   "source": [
    "def bubblesort(S):\n",
    "    n = len(S)\n",
    "    for i in range(n):\n",
    "        print(i)\n",
    "        for j in range(n - 1):\n",
    "            if S[j] > S[j + 1]:\n",
    "                S[j], S[j + 1] = S[j + 1], S[j]"
   ]
  },
  {
   "cell_type": "markdown",
   "metadata": {},
   "source": [
    "#### 2.2. Running bubble sort"
   ]
  },
  {
   "cell_type": "code",
   "execution_count": 31,
   "metadata": {},
   "outputs": [
    {
     "name": "stdout",
     "output_type": "stream",
     "text": [
      "[50, 30, 40, 10, 20]\n",
      "[30, 40, 10, 20, 50]\n",
      "[30, 10, 20, 40, 50]\n",
      "[10, 20, 30, 40, 50]\n",
      "[10, 20, 30, 40, 50]\n",
      "[10, 20, 30, 40, 50]\n"
     ]
    }
   ],
   "source": [
    "def bubblesort(S):\n",
    "    n = len(S)\n",
    "    for i in range(n):\n",
    "        print(S)\n",
    "        for j in range(n - 1):\n",
    "            if S[j] > S[j + 1]:\n",
    "                S[j], S[j + 1] = S[j + 1], S[j]\n",
    "S = [50, 30, 40, 10, 20]\n",
    "bubblesort(S)\n",
    "print(S)"
   ]
  },
  {
   "cell_type": "markdown",
   "metadata": {},
   "source": [
    "## 3. Selection Sort"
   ]
  },
  {
   "cell_type": "markdown",
   "metadata": {},
   "source": [
    "#### 3.1. Implementing selection sort without swap"
   ]
  },
  {
   "cell_type": "code",
   "execution_count": 14,
   "metadata": {},
   "outputs": [],
   "source": [
    "def selectinsort1(S):\n",
    "    R = []\n",
    "    while len(S) > 0:\n",
    "        print(R, S)\n",
    "        smallest = S.index(min(S))\n",
    "        R.append(S[smallest])\n",
    "        S.pop(smallest)\n",
    "    return R"
   ]
  },
  {
   "cell_type": "markdown",
   "metadata": {},
   "source": [
    "#### 3.2. Running selection sort without swap"
   ]
  },
  {
   "cell_type": "code",
   "execution_count": 15,
   "metadata": {},
   "outputs": [
    {
     "name": "stdout",
     "output_type": "stream",
     "text": [
      "[] [50, 30, 40, 10, 20]\n",
      "[10] [50, 30, 40, 20]\n",
      "[10, 20] [50, 30, 40]\n",
      "[10, 20, 30] [50, 40]\n",
      "[10, 20, 30, 40] [50]\n",
      "[10, 20, 30, 40, 50]\n",
      "[]\n"
     ]
    }
   ],
   "source": [
    "def selectinsort1(S):\n",
    "    R = []\n",
    "    while len(S) > 0:\n",
    "        print(R, S)\n",
    "        smallest = S.index(min(S))\n",
    "        R.append(S[smallest])\n",
    "        S.pop(smallest)\n",
    "    return R\n",
    "S = [50, 30, 40, 10, 20]\n",
    "R = selectinsort1(S)\n",
    "print(R)\n",
    "print(S)"
   ]
  },
  {
   "cell_type": "markdown",
   "metadata": {},
   "source": [
    "#### 3.3. Implementing In-Place selection sort"
   ]
  },
  {
   "cell_type": "code",
   "execution_count": 17,
   "metadata": {},
   "outputs": [],
   "source": [
    "def selectinsort2(S):\n",
    "    n = len(S)\n",
    "    for i in range(n - 1):\n",
    "        print(S)\n",
    "        smallest = i\n",
    "        for j in range(i + 1, n):\n",
    "            if S[j] < S[smallest]:\n",
    "                smallest = j\n",
    "        S[i], S[smallest] = S[smallest], S[i]"
   ]
  },
  {
   "cell_type": "code",
   "execution_count": 21,
   "metadata": {},
   "outputs": [
    {
     "name": "stdout",
     "output_type": "stream",
     "text": [
      "[50, 30, 40, 10, 20]\n",
      "[10, 30, 40, 50, 20]\n",
      "[10, 20, 40, 50, 30]\n",
      "[10, 20, 30, 50, 40]\n",
      "[10, 20, 30, 40, 50]\n"
     ]
    }
   ],
   "source": [
    "def selectinsort2(S):\n",
    "    n = len(S)\n",
    "    for i in range(n - 1):\n",
    "        print(S)\n",
    "        smallest = i\n",
    "        for j in range(i + 1, n):\n",
    "            if S[j] < S[smallest]:\n",
    "                smallest = j\n",
    "        S[i], S[smallest] = S[smallest], S[i]\n",
    "S = [50, 30, 40, 10, 20]\n",
    "selectinsort2(S)\n",
    "print(S)"
   ]
  },
  {
   "cell_type": "markdown",
   "metadata": {},
   "source": [
    "## 4. Insertion Sort"
   ]
  },
  {
   "cell_type": "markdown",
   "metadata": {},
   "source": [
    "#### 4.1. Implementing insertion sort with additional memory"
   ]
  },
  {
   "cell_type": "code",
   "execution_count": 22,
   "metadata": {},
   "outputs": [],
   "source": [
    "def insertionsort1(S):\n",
    "    n = len(S)\n",
    "    R = []\n",
    "    while len(S) > 0:\n",
    "        print(R, S)\n",
    "        x = S.pop(0)\n",
    "        j = len(R) - 1\n",
    "        while j >= 0 and R[j] > x:\n",
    "            j -= 1\n",
    "        R.insert(j + 1, x)\n",
    "    return R"
   ]
  },
  {
   "cell_type": "markdown",
   "metadata": {},
   "source": [
    "#### 4.2. Running insertion sort with additional memory"
   ]
  },
  {
   "cell_type": "code",
   "execution_count": 24,
   "metadata": {},
   "outputs": [
    {
     "name": "stdout",
     "output_type": "stream",
     "text": [
      "[] [50, 30, 40, 10, 20]\n",
      "[50] [30, 40, 10, 20]\n",
      "[30, 50] [40, 10, 20]\n",
      "[30, 40, 50] [10, 20]\n",
      "[10, 30, 40, 50] [20]\n",
      "[10, 20, 30, 40, 50]\n"
     ]
    }
   ],
   "source": [
    "def insertionsort1(S):\n",
    "    n = len(S)\n",
    "    R = []\n",
    "    while len(S) > 0:\n",
    "        print(R, S)\n",
    "        x = S.pop(0)\n",
    "        j = len(R) - 1\n",
    "        while j >= 0 and R[j] > x:\n",
    "            j -= 1\n",
    "        R.insert(j + 1, x)\n",
    "    return R\n",
    "S = [50, 30, 40, 10, 20]\n",
    "R = insertionsort1(S)\n",
    "print(R)"
   ]
  },
  {
   "cell_type": "markdown",
   "metadata": {},
   "source": [
    "#### 4.3. Implementing In-Place insertion sort"
   ]
  },
  {
   "cell_type": "code",
   "execution_count": 26,
   "metadata": {},
   "outputs": [],
   "source": [
    "def insertionsort2(S):\n",
    "    n = len(S)\n",
    "    R = []\n",
    "    for i in range(1, n):\n",
    "        print(S)\n",
    "        x = S[i]\n",
    "        j = i - 1\n",
    "        while j >= 0 and S[j] > x:\n",
    "            S[j + 1] = S[j]\n",
    "            j -= 1\n",
    "        S[j + 1] = x"
   ]
  },
  {
   "cell_type": "markdown",
   "metadata": {},
   "source": [
    "#### 4.4. Running In-Place insertion sort"
   ]
  },
  {
   "cell_type": "code",
   "execution_count": 33,
   "metadata": {},
   "outputs": [
    {
     "name": "stdout",
     "output_type": "stream",
     "text": [
      "[50, 30, 40, 10, 20]\n",
      "[30, 50, 40, 10, 20]\n",
      "[30, 40, 50, 10, 20]\n",
      "[10, 30, 40, 50, 20]\n",
      "[10, 20, 30, 40, 50]\n"
     ]
    }
   ],
   "source": [
    "def insertionsort2(S):\n",
    "    n = len(S)\n",
    "    R = []\n",
    "    for i in range(1, n):\n",
    "        print(S)\n",
    "        x = S[i]\n",
    "        j = i - 1\n",
    "        while j >= 0 and S[j] > x:\n",
    "            S[j + 1] = S[j]\n",
    "            j -= 1\n",
    "        S[j + 1] = x\n",
    "S = [50, 30, 40, 10, 20]\n",
    "insertionsort2(S)\n",
    "print(S)"
   ]
  },
  {
   "cell_type": "markdown",
   "metadata": {},
   "source": [
    "## Q1. How many swap operations were executed in the bubble sort process below?"
   ]
  },
  {
   "cell_type": "markdown",
   "metadata": {},
   "source": [
    "## 8 times       "
   ]
  },
  {
   "cell_type": "markdown",
   "metadata": {},
   "source": [
    "## Q2. How many comparison operations were executed in the insertion sort process below?"
   ]
  },
  {
   "cell_type": "markdown",
   "metadata": {},
   "source": [
    "## 8 times"
   ]
  },
  {
   "cell_type": "markdown",
   "metadata": {},
   "source": [
    "## Q1"
   ]
  },
  {
   "cell_type": "code",
   "execution_count": 71,
   "metadata": {},
   "outputs": [],
   "source": [
    "def isAnagram(a, b):\n",
    "  return sorted(a.lower()) == sorted(b.lower())"
   ]
  },
  {
   "cell_type": "markdown",
   "metadata": {},
   "source": [
    "## Q2"
   ]
  },
  {
   "cell_type": "code",
   "execution_count": 72,
   "metadata": {},
   "outputs": [
    {
     "name": "stdout",
     "output_type": "stream",
     "text": [
      "True\n",
      "True\n",
      "False\n",
      "False\n"
     ]
    }
   ],
   "source": [
    "print(isAnagram(\"listen\", \"silent\"))\n",
    "print(isAnagram(\"anagram\", \"nagaram\"))\n",
    "print(isAnagram(\"listen\", \"silence\"))\n",
    "print(isAnagram(\"anagram\", \"anagrams\"))"
   ]
  },
  {
   "cell_type": "code",
   "execution_count": null,
   "metadata": {},
   "outputs": [],
   "source": []
  }
 ],
 "metadata": {
  "kernelspec": {
   "display_name": "Python 3",
   "language": "python",
   "name": "python3"
  },
  "language_info": {
   "codemirror_mode": {
    "name": "ipython",
    "version": 3
   },
   "file_extension": ".py",
   "mimetype": "text/x-python",
   "name": "python",
   "nbconvert_exporter": "python",
   "pygments_lexer": "ipython3",
   "version": "3.11.5"
  }
 },
 "nbformat": 4,
 "nbformat_minor": 2
}
