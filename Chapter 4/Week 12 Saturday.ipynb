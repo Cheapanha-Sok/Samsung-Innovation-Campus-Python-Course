{
 "cells": [
  {
   "cell_type": "markdown",
   "metadata": {},
   "source": [
    "## Mission"
   ]
  },
  {
   "cell_type": "code",
   "execution_count": 4,
   "metadata": {},
   "outputs": [
    {
     "data": {
      "text/plain": [
       "True"
      ]
     },
     "execution_count": 4,
     "metadata": {},
     "output_type": "execute_result"
    }
   ],
   "source": [
    "def checked(expr):\n",
    "    opening = \"[{(\"\n",
    "    closing = \"]})\"\n",
    "    stack = []\n",
    "    for char in expr:\n",
    "        if char in opening:\n",
    "            stack.append(char)\n",
    "        elif char in closing:\n",
    "            if len(stack) == 0:\n",
    "                return False\n",
    "            if opening.index(stack.pop()) != closing.index(char):\n",
    "                return False\n",
    "    return len(stack) == 0\n",
    "\n",
    "checked(\"{()}\")"
   ]
  },
  {
   "cell_type": "markdown",
   "metadata": {},
   "source": [
    "## 3. Implement a Stack"
   ]
  },
  {
   "cell_type": "markdown",
   "metadata": {},
   "source": [
    "#### 3.1. Using a list data type"
   ]
  },
  {
   "cell_type": "code",
   "execution_count": 9,
   "metadata": {},
   "outputs": [],
   "source": [
    "stack = []\n",
    "def push(stack, item):\n",
    "    stack.append(item)\n",
    "\n",
    "def pop(stack):\n",
    "    return stack.pop()"
   ]
  },
  {
   "cell_type": "code",
   "execution_count": 10,
   "metadata": {},
   "outputs": [
    {
     "name": "stdout",
     "output_type": "stream",
     "text": [
      "['A']\n",
      "['A', 'B']\n",
      "['A']\n",
      "['A', 'C']\n",
      "['A']\n",
      "[]\n"
     ]
    }
   ],
   "source": [
    "stack = []\n",
    "\n",
    "push(stack, \"A\")\n",
    "print(stack)\n",
    "push(stack, \"B\")\n",
    "print(stack)\n",
    "pop(stack)\n",
    "print(stack)\n",
    "push(stack, \"C\")\n",
    "print(stack)\n",
    "pop(stack)\n",
    "print(stack)\n",
    "pop(stack)\n",
    "print(stack)"
   ]
  },
  {
   "cell_type": "code",
   "execution_count": 8,
   "metadata": {},
   "outputs": [
    {
     "name": "stdout",
     "output_type": "stream",
     "text": [
      "True\n"
     ]
    }
   ],
   "source": [
    "def is_empty(stack):\n",
    "    return True if len(stack) == 0 else False\n",
    "\n",
    "stack = []\n",
    "print(is_empty(stack))"
   ]
  },
  {
   "cell_type": "code",
   "execution_count": 11,
   "metadata": {},
   "outputs": [
    {
     "name": "stdout",
     "output_type": "stream",
     "text": [
      "None\n"
     ]
    }
   ],
   "source": [
    "def pop(stack):\n",
    "    return None if is_empty(stack) else stack.pop()\n",
    "\n",
    "stack = []\n",
    "print(pop(stack))"
   ]
  },
  {
   "cell_type": "markdown",
   "metadata": {},
   "source": [
    "#### 3.2. Define a stack as a class type"
   ]
  },
  {
   "cell_type": "code",
   "execution_count": 18,
   "metadata": {},
   "outputs": [],
   "source": [
    "class Stack:\n",
    "\n",
    "    def __init__(self):\n",
    "        self.stack = []\n",
    "\n",
    "    def is_empty(self):\n",
    "        return True if len(self.stack) == 0 else False\n",
    "    \n",
    "    def push(self, item):\n",
    "        self.stack.append(item)\n",
    "\n",
    "    def pop(self):\n",
    "        return None if self.is_empty() else self.stack.pop()"
   ]
  },
  {
   "cell_type": "code",
   "execution_count": 19,
   "metadata": {},
   "outputs": [
    {
     "name": "stdout",
     "output_type": "stream",
     "text": [
      "B\n",
      "C\n",
      "A\n",
      "None\n"
     ]
    }
   ],
   "source": [
    "stack = Stack()\n",
    "stack.push(\"A\")\n",
    "stack.push(\"B\")\n",
    "print(stack.pop())\n",
    "stack.push(\"C\")\n",
    "print(stack.pop())\n",
    "print(stack.pop())\n",
    "print(stack.pop())"
   ]
  },
  {
   "cell_type": "markdown",
   "metadata": {},
   "source": [
    "## Let's Code"
   ]
  },
  {
   "cell_type": "markdown",
   "metadata": {},
   "source": [
    "## 1. Balanced Parentheses Problem"
   ]
  },
  {
   "cell_type": "markdown",
   "metadata": {},
   "source": [
    "#### 1.3. Codes for the solution"
   ]
  },
  {
   "cell_type": "code",
   "execution_count": 24,
   "metadata": {},
   "outputs": [],
   "source": [
    "def check_parentheses(expr):\n",
    "    opening = \"[{(\"\n",
    "    closing = \"]})\"\n",
    "    stack = Stack()\n",
    "    for char in expr:\n",
    "        if char in opening:\n",
    "            stack.push(char)\n",
    "        elif char in closing:\n",
    "            if stack.is_empty():\n",
    "                return False\n",
    "            if opening.index(stack.pop()) != closing.index(char):\n",
    "                return False\n",
    "    return stack.is_empty()"
   ]
  },
  {
   "cell_type": "code",
   "execution_count": 25,
   "metadata": {},
   "outputs": [
    {
     "name": "stdout",
     "output_type": "stream",
     "text": [
      "Valid\n"
     ]
    }
   ],
   "source": [
    "str = input(\"Input a string of parentheses: \")\n",
    "print(\"Valid\" if check_parentheses(str) else \"Invalid\")"
   ]
  },
  {
   "cell_type": "code",
   "execution_count": 26,
   "metadata": {},
   "outputs": [
    {
     "name": "stdout",
     "output_type": "stream",
     "text": [
      "[10, 30, 50, 70, 90]\n"
     ]
    }
   ],
   "source": [
    "stack = Stack()\n",
    "items = [10 * i for i in range(1, 10)]\n",
    "for item in items:\n",
    "    stack.push(item)\n",
    "    if(item // 10) % 2 == 0:\n",
    "        stack.pop()\n",
    "\n",
    "print(stack.stack)"
   ]
  },
  {
   "cell_type": "code",
   "execution_count": 28,
   "metadata": {},
   "outputs": [
    {
     "name": "stdout",
     "output_type": "stream",
     "text": [
      "<html> <p> </p> </html> "
     ]
    }
   ],
   "source": [
    "text = input(\"Input the string of HTML document: \")\n",
    "\n",
    "start = text.find('<')\n",
    "while start != -1:\n",
    "    end = text.find('>', start + 1)\n",
    "    tag = text[start: end + 1]\n",
    "    print(tag, end = ' ')\n",
    "    start = text.find('<', end + 1)"
   ]
  },
  {
   "cell_type": "markdown",
   "metadata": {},
   "source": [
    "## Unit 23 - Queue"
   ]
  },
  {
   "cell_type": "markdown",
   "metadata": {},
   "source": [
    "## Josephus Problem"
   ]
  },
  {
   "cell_type": "code",
   "execution_count": 29,
   "metadata": {},
   "outputs": [],
   "source": [
    "def josephus_sequence(n, k):\n",
    "    sequence = []\n",
    "    queue = []\n",
    "    for i in range(1, n + 1):\n",
    "        queue.append(i)\n",
    "    j = 1\n",
    "    while len(queue) > 1:\n",
    "        item = queue.pop(0)\n",
    "        if j % k == 0:\n",
    "            sequence.append(item)\n",
    "        else:\n",
    "            queue.append(item)\n",
    "        j += 1\n",
    "    sequence.append(queue.pop())\n",
    "    return sequence"
   ]
  },
  {
   "cell_type": "code",
   "execution_count": 32,
   "metadata": {},
   "outputs": [
    {
     "name": "stdout",
     "output_type": "stream",
     "text": [
      "[3, 6, 9, 12, 15, 18, 21, 24, 27, 30, 33, 36, 39, 1, 5, 10, 14, 19, 23, 28, 32, 37, 41, 7, 13, 20, 26, 34, 40, 8, 17, 29, 38, 11, 25, 2, 22, 4, 35, 16, 31]\n"
     ]
    }
   ],
   "source": [
    "N = int(input(\"Input the number of people(N): \"))\n",
    "K = int(input(\"Input the number to be skipped(K): \"))\n",
    "print(josephus_sequence(N, K))"
   ]
  },
  {
   "cell_type": "code",
   "execution_count": 34,
   "metadata": {},
   "outputs": [],
   "source": [
    "class Queue:\n",
    "\n",
    "    def __init__(self):\n",
    "        self.queue = []\n",
    "\n",
    "    def is_empty(self):\n",
    "        return True if len(self.queue) == 0 else False\n",
    "    \n",
    "    def enqueue(self, item):\n",
    "        self.queue.append(item)\n",
    "\n",
    "    def dequeue(self):\n",
    "        return None if self.is_empty() else self.queue.pop(0)"
   ]
  },
  {
   "cell_type": "code",
   "execution_count": 36,
   "metadata": {},
   "outputs": [
    {
     "name": "stdout",
     "output_type": "stream",
     "text": [
      "A\n",
      "B\n",
      "C\n",
      "None\n"
     ]
    }
   ],
   "source": [
    "queue = Queue()\n",
    "queue.enqueue(\"A\")\n",
    "queue.enqueue(\"B\")\n",
    "print(queue.dequeue())\n",
    "queue.enqueue(\"C\")\n",
    "print(queue.dequeue())\n",
    "print(queue.dequeue())\n",
    "print(queue.dequeue())"
   ]
  },
  {
   "cell_type": "code",
   "execution_count": 37,
   "metadata": {},
   "outputs": [],
   "source": [
    "class Queue:\n",
    "\n",
    "    def __init__(self):\n",
    "        self.queue = []\n",
    "\n",
    "    def is_empty(self):\n",
    "        return True if len(self.queue) == 0 else False\n",
    "    \n",
    "    def enqueue(self, item):\n",
    "        self.queue.append(item)\n",
    "\n",
    "    def dequeue(self):\n",
    "        return None if self.is_empty() else self.queue.pop(0)\n",
    "    \n",
    "    def size(self):\n",
    "        return len(self.queue)"
   ]
  },
  {
   "cell_type": "code",
   "execution_count": 44,
   "metadata": {},
   "outputs": [],
   "source": [
    "def josephus(n, k):\n",
    "    sequence = []\n",
    "    queue = Queue()\n",
    "    for i in range(1, n + 1):\n",
    "        queue.enqueue(i)\n",
    "    j = 1\n",
    "    while queue.size() > 1:\n",
    "        item = queue.dequeue()\n",
    "        if j % k == 0:\n",
    "            sequence.append(item)\n",
    "        else:\n",
    "            queue.enqueue(item)\n",
    "        j += 1\n",
    "    sequence.append(queue.dequeue())\n",
    "    return sequence"
   ]
  },
  {
   "cell_type": "code",
   "execution_count": 45,
   "metadata": {},
   "outputs": [
    {
     "name": "stdout",
     "output_type": "stream",
     "text": [
      "[3, 6, 9, 12, 15, 18, 21, 24, 27, 30, 33, 36, 39, 1, 5, 10, 14, 19, 23, 28, 32, 37, 41, 7, 13, 20, 26, 34, 40, 8, 17, 29, 38, 11, 25, 2, 22, 4, 35, 16, 31]\n"
     ]
    }
   ],
   "source": [
    "N = int(input(\"Input the number of people(N): \"))\n",
    "K = int(input(\"Input the number to be skipped(K): \"))\n",
    "print(josephus(N, K))"
   ]
  },
  {
   "cell_type": "code",
   "execution_count": null,
   "metadata": {},
   "outputs": [],
   "source": []
  }
 ],
 "metadata": {
  "kernelspec": {
   "display_name": "Python 3",
   "language": "python",
   "name": "python3"
  },
  "language_info": {
   "codemirror_mode": {
    "name": "ipython",
    "version": 3
   },
   "file_extension": ".py",
   "mimetype": "text/x-python",
   "name": "python",
   "nbconvert_exporter": "python",
   "pygments_lexer": "ipython3",
   "version": "3.11.5"
  }
 },
 "nbformat": 4,
 "nbformat_minor": 2
}
