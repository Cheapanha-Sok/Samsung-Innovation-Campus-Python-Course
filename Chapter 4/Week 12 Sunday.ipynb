{
 "cells": [
  {
   "cell_type": "code",
   "execution_count": 1,
   "metadata": {},
   "outputs": [],
   "source": [
    "class Queue:\n",
    "\n",
    "    def __init__(self):\n",
    "        self.queue = []\n",
    "\n",
    "    def is_empty(self):\n",
    "        return True if len(self.queue) == 0 else False\n",
    "    \n",
    "    def enqueue(self, item):\n",
    "        self.queue.append(item)\n",
    "\n",
    "    def dequeue(self):\n",
    "        return None if self.is_empty() else self.queue.pop(0)\n",
    "    \n",
    "    def size(self):\n",
    "        return len(self.queue)"
   ]
  },
  {
   "cell_type": "code",
   "execution_count": 10,
   "metadata": {},
   "outputs": [
    {
     "name": "stdout",
     "output_type": "stream",
     "text": [
      "[10]\n",
      "[10, 20]\n",
      "[20, 30]\n",
      "[20, 30, 40]\n",
      "[30, 40, 50]\n",
      "[30, 40, 50, 60]\n",
      "[40, 50, 60, 70]\n",
      "[40, 50, 60, 70, 80]\n",
      "[50, 60, 70, 80, 90]\n",
      "[50, 60, 70, 80, 90, 100]\n",
      "[60, 70, 80, 90, 100]\n"
     ]
    }
   ],
   "source": [
    "queue = Queue()\n",
    "items = [10 * i for i in range(1, 11)]\n",
    "for item in items:\n",
    "    queue.enqueue(item)\n",
    "    print(queue.queue)\n",
    "    if (item // 10) % 2 == 0:\n",
    "        queue.dequeue()\n",
    "print(queue.queue)"
   ]
  },
  {
   "cell_type": "markdown",
   "metadata": {},
   "source": [
    "## Q1"
   ]
  },
  {
   "cell_type": "code",
   "execution_count": 13,
   "metadata": {},
   "outputs": [],
   "source": [
    "class Deque:\n",
    "\n",
    "    def __init__(self):\n",
    "        self.queue = []\n",
    "\n",
    "    def add_first(self, item):\n",
    "        self.queue.insert(0, item)\n",
    "\n",
    "    def remove_first(self):\n",
    "        return self.queue.pop(0)\n",
    "\n",
    "    def add_last(self, item):\n",
    "        self.queue.append(item)\n",
    "\n",
    "    def remove_last(self):\n",
    "        return self.queue.pop()"
   ]
  },
  {
   "cell_type": "code",
   "execution_count": 20,
   "metadata": {},
   "outputs": [
    {
     "name": "stdout",
     "output_type": "stream",
     "text": [
      "[1]\n",
      "[1, 10]\n",
      "[1, 10, 20]\n",
      "[2, 1, 10, 20]\n",
      "[1, 10, 20]\n",
      "[1, 10]\n"
     ]
    }
   ],
   "source": [
    "deque = Deque()\n",
    "deque.add_first(1)\n",
    "print(deque.queue)\n",
    "deque.add_last(10)\n",
    "print(deque.queue)\n",
    "deque.add_last(20)\n",
    "print(deque.queue)\n",
    "deque.add_first(2)\n",
    "print(deque.queue)\n",
    "deque.remove_first()\n",
    "print(deque.queue)\n",
    "deque.remove_last()\n",
    "print(deque.queue)"
   ]
  },
  {
   "cell_type": "markdown",
   "metadata": {},
   "source": [
    "## Unit 24 - Sequential Search"
   ]
  },
  {
   "cell_type": "markdown",
   "metadata": {},
   "source": [
    "## Keywords: Searching Problem, Sequential Search and Linear Time"
   ]
  },
  {
   "cell_type": "code",
   "execution_count": 22,
   "metadata": {},
   "outputs": [],
   "source": [
    "def do_experiment(floor, breaking):\n",
    "    return floor >=  breaking\n",
    "\n",
    "def find_heighest_safe_floor(height, breaking):\n",
    "    for n in range(1, height + 1):\n",
    "        if do_experiment(n, breaking):\n",
    "            return n - 1\n",
    "    return height"
   ]
  },
  {
   "cell_type": "code",
   "execution_count": 25,
   "metadata": {},
   "outputs": [
    {
     "name": "stdout",
     "output_type": "stream",
     "text": [
      "Your egg will break on the 81-th floor\n",
      "Your egg will safe till the 80-th floor\n"
     ]
    }
   ],
   "source": [
    "from random import randint\n",
    "\n",
    "height = int(input(\"Input the number of floors: \"))\n",
    "breaking = randint(1, height)\n",
    "floor = find_heighest_safe_floor(height, breaking)\n",
    "print(\"Your egg will break on the {}-th floor\".format(breaking))\n",
    "print(\"Your egg will safe till the {}-th floor\".format(floor))"
   ]
  },
  {
   "cell_type": "markdown",
   "metadata": {},
   "source": [
    "## 1. Searching Problem"
   ]
  },
  {
   "cell_type": "markdown",
   "metadata": {},
   "source": [
    "## 2. Sequential Search"
   ]
  },
  {
   "cell_type": "markdown",
   "metadata": {},
   "source": [
    "#### 2.1. An algorithm for the sequential search"
   ]
  },
  {
   "cell_type": "code",
   "execution_count": 32,
   "metadata": {},
   "outputs": [],
   "source": [
    "def seq_search(nums, x):\n",
    "    for i in range(len(nums)):\n",
    "        if x == nums[i]:\n",
    "            return i\n",
    "    return -1"
   ]
  },
  {
   "cell_type": "code",
   "execution_count": 33,
   "metadata": {},
   "outputs": [
    {
     "name": "stdout",
     "output_type": "stream",
     "text": [
      "In S, 53 is at position 7\n"
     ]
    }
   ],
   "source": [
    "S = [11, 37, 45, 26, 59, 28, 17, 53]\n",
    "x = 53\n",
    "pos = seq_search(S, x)\n",
    "print(\"In S, {} is at position {}\".format(x, pos))"
   ]
  },
  {
   "cell_type": "markdown",
   "metadata": {},
   "source": [
    "## 3. Finding the largest"
   ]
  },
  {
   "cell_type": "markdown",
   "metadata": {},
   "source": [
    "#### 3.1. An algorithm for finding the largest key"
   ]
  },
  {
   "cell_type": "code",
   "execution_count": 34,
   "metadata": {},
   "outputs": [],
   "source": [
    "def find_largest(nums):\n",
    "    largest = 0\n",
    "    for i in range(1, len(nums)):\n",
    "        if nums[largest] < nums[i]:\n",
    "            largest = i\n",
    "    return largest"
   ]
  },
  {
   "cell_type": "code",
   "execution_count": 38,
   "metadata": {},
   "outputs": [
    {
     "name": "stdout",
     "output_type": "stream",
     "text": [
      "In S, 59 is at position 4\n"
     ]
    }
   ],
   "source": [
    "nums = [11, 37, 45, 26, 59, 28, 17, 53]\n",
    "pos = find_largest(S)\n",
    "print(\"In S, {} is at position {}\".format(nums[pos], pos))"
   ]
  },
  {
   "cell_type": "markdown",
   "metadata": {},
   "source": [
    "## Q1"
   ]
  },
  {
   "cell_type": "code",
   "execution_count": 49,
   "metadata": {},
   "outputs": [],
   "source": [
    "def find_two(nums):\n",
    "    countx = 0\n",
    "    county = 0\n",
    "    x = y = 0\n",
    "    for i in range(1, len(nums)):\n",
    "        if nums[x] < nums[i]:\n",
    "            x = i\n",
    "            countx += 1\n",
    "        elif nums[y] > nums[i]:\n",
    "            y = i\n",
    "            county += 1\n",
    "    print(countx, county)\n",
    "    return x, y"
   ]
  },
  {
   "cell_type": "code",
   "execution_count": 50,
   "metadata": {},
   "outputs": [
    {
     "name": "stdout",
     "output_type": "stream",
     "text": [
      "3 0\n",
      "59 11\n"
     ]
    }
   ],
   "source": [
    "nums = [11, 37, 45, 26, 59, 28, 17, 53]\n",
    "i, j = find_two(nums)\n",
    "print(nums[i], nums[j])"
   ]
  },
  {
   "cell_type": "markdown",
   "metadata": {},
   "source": [
    "## Another Quiz 1"
   ]
  },
  {
   "cell_type": "code",
   "execution_count": 51,
   "metadata": {},
   "outputs": [
    {
     "name": "stdout",
     "output_type": "stream",
     "text": [
      "In S, word \"the\" appeared in 2 times.\n"
     ]
    }
   ],
   "source": [
    "def word_count(sentence, word_search):\n",
    "    count = 0\n",
    "    for i in sentence:\n",
    "        if i == word_search:\n",
    "            count += 1\n",
    "    return count\n",
    "\n",
    "S = list(input(\"Input a sentence: \").split())\n",
    "x = input(\"Input a word to search: \")\n",
    "count = word_count(S, x)\n",
    "print(f\"In S, word \\\"{x}\\\" appeared in {count} times.\")"
   ]
  },
  {
   "cell_type": "markdown",
   "metadata": {},
   "source": [
    "## Unit 25 - Binary Search"
   ]
  },
  {
   "cell_type": "markdown",
   "metadata": {},
   "source": [
    "## Keywords: Searching Problem, Binary Search and Logarithmic Time"
   ]
  },
  {
   "cell_type": "code",
   "execution_count": 52,
   "metadata": {},
   "outputs": [],
   "source": [
    "def do_experiment(floor, breaking):\n",
    "    return floor >= breaking\n",
    "\n",
    "def find_heighest_safe_floor2(height, breaking):\n",
    "    low, high = 1, height\n",
    "    while low < high:\n",
    "        mid = (low + high) // 2\n",
    "        if do_experiment(mid, breaking):\n",
    "            high = mid\n",
    "        else:\n",
    "            low = mid + 1\n",
    "    return low - 1"
   ]
  },
  {
   "cell_type": "code",
   "execution_count": 54,
   "metadata": {},
   "outputs": [
    {
     "name": "stdout",
     "output_type": "stream",
     "text": [
      "Your egg will break on the 7-th floor\n",
      "Your egg will safe till the 6-th floor\n"
     ]
    }
   ],
   "source": [
    "height = int(input(\"Input the number of floors: \"))\n",
    "breaking = int(input(\"Input the first breaking floor: \"))\n",
    "floor = find_heighest_safe_floor2(height, breaking)\n",
    "print(\"Your egg will break on the {}-th floor\".format(breaking))\n",
    "print(\"Your egg will safe till the {}-th floor\".format(floor))"
   ]
  },
  {
   "cell_type": "markdown",
   "metadata": {},
   "source": [
    "## 1. Binary Search"
   ]
  },
  {
   "cell_type": "markdown",
   "metadata": {},
   "source": [
    "#### 1.1. An Algorithm for the binary search"
   ]
  },
  {
   "cell_type": "code",
   "execution_count": 63,
   "metadata": {},
   "outputs": [],
   "source": [
    "def bin_search(nums, x):\n",
    "    low, high = 0, len(nums) - 1\n",
    "    while low < high:\n",
    "        mid = (low + high) // 2\n",
    "        print(low, high, mid)\n",
    "        if nums[mid] == x:\n",
    "            return mid\n",
    "        elif nums[mid] > x:\n",
    "            high = mid - 1\n",
    "        else:\n",
    "            low = mid + 1\n",
    "    return -1"
   ]
  },
  {
   "cell_type": "code",
   "execution_count": 65,
   "metadata": {},
   "outputs": [
    {
     "name": "stdout",
     "output_type": "stream",
     "text": [
      "0 7 3\n",
      "4 7 5\n",
      "6 7 6\n",
      "In S, 77 is at position -1.\n"
     ]
    }
   ],
   "source": [
    "S = [11, 17, 26, 28, 37, 45, 53, 59]\n",
    "x = int(input(\"Input the number to search: \"))\n",
    "pos = bin_search(S, x)\n",
    "print(\"In S, {} is at position {}.\".format(x, pos))"
   ]
  },
  {
   "cell_type": "markdown",
   "metadata": {},
   "source": [
    "## Q1"
   ]
  },
  {
   "cell_type": "code",
   "execution_count": 70,
   "metadata": {},
   "outputs": [
    {
     "name": "stdout",
     "output_type": "stream",
     "text": [
      "Your number is 25.\n",
      "Total 2 times are searched.\n"
     ]
    }
   ],
   "source": [
    "from random import randint\n",
    "\n",
    "maximum = int(input(\"Enter the number of maximum: \"))\n",
    "number = int(input(\"Enter your guessing number: \"))\n",
    "count = 0\n",
    "low, high = 1, maximum\n",
    "while low < high:\n",
    "    mid = (low + high) // 2\n",
    "    count += 1\n",
    "    if mid == number:\n",
    "        print(\"Your number is {}.\".format(number))\n",
    "        break\n",
    "    elif mid > number:\n",
    "        high = mid - 1\n",
    "    else:\n",
    "        low = mid + 1\n",
    "print(\"Total {} times are searched.\".format(count))"
   ]
  },
  {
   "cell_type": "code",
   "execution_count": null,
   "metadata": {},
   "outputs": [],
   "source": []
  }
 ],
 "metadata": {
  "kernelspec": {
   "display_name": "Python 3",
   "language": "python",
   "name": "python3"
  },
  "language_info": {
   "codemirror_mode": {
    "name": "ipython",
    "version": 3
   },
   "file_extension": ".py",
   "mimetype": "text/x-python",
   "name": "python",
   "nbconvert_exporter": "python",
   "pygments_lexer": "ipython3",
   "version": "3.11.5"
  }
 },
 "nbformat": 4,
 "nbformat_minor": 2
}
