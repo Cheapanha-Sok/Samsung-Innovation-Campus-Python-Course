{
 "cells": [
  {
   "cell_type": "markdown",
   "metadata": {},
   "source": [
    "## Unit 31 - Divide-and-Conquer"
   ]
  },
  {
   "cell_type": "markdown",
   "metadata": {},
   "source": [
    "## Mission"
   ]
  },
  {
   "cell_type": "code",
   "execution_count": 1,
   "metadata": {},
   "outputs": [],
   "source": [
    "def find_minimum(row, col, triangle):\n",
    "    if row == len(triangle):\n",
    "        return 0\n",
    "    else:\n",
    "        minimum = min(find_minimum(row + 1, col, triangle),\n",
    "                      find_minimum(row + 1, col + 1, triangle))\n",
    "        return triangle[row][col] + minimum"
   ]
  },
  {
   "cell_type": "code",
   "execution_count": 3,
   "metadata": {},
   "outputs": [
    {
     "name": "stdout",
     "output_type": "stream",
     "text": [
      "The minimum cost is 11\n"
     ]
    }
   ],
   "source": [
    "triangle = [\n",
    "    [2],\n",
    "    [3, 4],\n",
    "    [6, 5, 7],\n",
    "    [4, 1, 8, 3]\n",
    "]\n",
    "\n",
    "minimum = find_minimum(0, 0, triangle)\n",
    "print(\"The minimum cost is\", minimum)"
   ]
  },
  {
   "cell_type": "markdown",
   "metadata": {},
   "source": [
    "## Let's Code"
   ]
  },
  {
   "cell_type": "markdown",
   "metadata": {},
   "source": [
    "## 1. Divide-and-Conquer"
   ]
  },
  {
   "cell_type": "markdown",
   "metadata": {},
   "source": [
    "#### 1.1. Binary Search with Iteration"
   ]
  },
  {
   "cell_type": "code",
   "execution_count": 4,
   "metadata": {},
   "outputs": [],
   "source": [
    "def bin_search(nums, x):\n",
    "    low, high = 0, len(nums) - 1\n",
    "    while low <= high:\n",
    "        mid = (low + high) // 2\n",
    "        if nums[mid] == x:\n",
    "            return mid\n",
    "        elif nums[mid] > x:\n",
    "            high = mid - 1\n",
    "        else:\n",
    "            low = mid + 1\n",
    "    return -1"
   ]
  },
  {
   "cell_type": "code",
   "execution_count": 5,
   "metadata": {},
   "outputs": [],
   "source": [
    "def bin_search2(nums, x, low, high):\n",
    "    if low > high:\n",
    "        return -1\n",
    "    else:\n",
    "        mid = (low + high) // 2\n",
    "        if nums[mid] == x:\n",
    "            return mid\n",
    "        elif nums[mid] > x:\n",
    "            return bin_search2(nums, x, low, mid - 1)\n",
    "        else:\n",
    "            return bin_search2(nums, x, mid + 1, high)"
   ]
  },
  {
   "cell_type": "code",
   "execution_count": 15,
   "metadata": {},
   "outputs": [
    {
     "name": "stdout",
     "output_type": "stream",
     "text": [
      "-1\n"
     ]
    }
   ],
   "source": [
    "nums = [100, 200, 400, 600, 700, 800, 1000]\n",
    "result = bin_search2(nums, 200, 2, 7)\n",
    "print(result)"
   ]
  },
  {
   "cell_type": "markdown",
   "metadata": {},
   "source": [
    "## 2. Triangle Path Problem"
   ]
  },
  {
   "cell_type": "markdown",
   "metadata": {},
   "source": [
    "#### 2.2. Implementation and Coding"
   ]
  },
  {
   "cell_type": "code",
   "execution_count": 17,
   "metadata": {},
   "outputs": [],
   "source": [
    "def find_minimum(row, col, triangle):\n",
    "    if row == len(triangle):\n",
    "        return 0\n",
    "    else:\n",
    "        minimum = min(find_minimum(row + 1, col, triangle),\n",
    "                      find_minimum(row + 1, col + 1, triangle))\n",
    "    return triangle[row][col] + minimum"
   ]
  },
  {
   "cell_type": "markdown",
   "metadata": {},
   "source": [
    "#### 2.3. Running the Code"
   ]
  },
  {
   "cell_type": "code",
   "execution_count": 18,
   "metadata": {},
   "outputs": [
    {
     "name": "stdout",
     "output_type": "stream",
     "text": [
      "The minimum cost is 11\n"
     ]
    }
   ],
   "source": [
    "triangle = [\n",
    "    [2],\n",
    "    [3, 4],\n",
    "    [6, 5, 7],\n",
    "    [4, 1, 8, 3]\n",
    "]\n",
    "\n",
    "minimum = find_minimum(0, 0, triangle)\n",
    "print(\"The minimum cost is\", minimum)"
   ]
  },
  {
   "cell_type": "markdown",
   "metadata": {},
   "source": [
    "## Q1"
   ]
  },
  {
   "cell_type": "code",
   "execution_count": 48,
   "metadata": {},
   "outputs": [],
   "source": [
    "counter = 0\n",
    "\n",
    "def find_heavy_coin(coins):\n",
    "    global counter\n",
    "    counter += 1\n",
    "    \n",
    "    if len(coins) == 1:\n",
    "        return coins[0]\n",
    "    \n",
    "    if len(coins) == 2:\n",
    "        return coins[0] if coins[0].get('weight') > coins[1].get('weight') else coins[1]\n",
    "    \n",
    "    left = coins[:len(coins) // 2]\n",
    "    right = coins[len(coins) // 2:]\n",
    "\n",
    "    left_weight = sum([coin.get('weight') for coin in left])\n",
    "    right_weight = sum([coin.get('weight') for coin in right])\n",
    "\n",
    "    if left_weight > right_weight:\n",
    "        return find_heavy_coin(left)\n",
    "    elif right_weight > left_weight:\n",
    "        return find_heavy_coin(right)\n",
    "    else:\n",
    "        return find_heavy_coin(coins[len(coins) // 2:])"
   ]
  },
  {
   "cell_type": "code",
   "execution_count": 49,
   "metadata": {},
   "outputs": [
    {
     "name": "stdout",
     "output_type": "stream",
     "text": [
      "Heaviest coin: {'coin': 8, 'weight': 111}\n",
      "Number of executions: 3\n"
     ]
    }
   ],
   "source": [
    "coins = [\n",
    "    {\"coin\": 1, \"weight\": 100}, \n",
    "    {\"coin\": 2, \"weight\": 100}, \n",
    "    {\"coin\": 3, \"weight\": 100}, \n",
    "    {\"coin\": 4, \"weight\": 100}, \n",
    "    {\"coin\": 5, \"weight\": 100}, \n",
    "    {\"coin\": 6, \"weight\": 100}, \n",
    "    {\"coin\": 7, \"weight\": 100}, \n",
    "    {\"coin\": 8, \"weight\": 111}\n",
    "]\n",
    "\n",
    "c = find_heavy_coin(coins)\n",
    "print(\"Heaviest coin:\", c)\n",
    "print(\"Number of executions:\", counter)"
   ]
  },
  {
   "cell_type": "markdown",
   "metadata": {},
   "source": [
    "## Q2"
   ]
  },
  {
   "cell_type": "code",
   "execution_count": 50,
   "metadata": {},
   "outputs": [
    {
     "name": "stdout",
     "output_type": "stream",
     "text": [
      "Heaviest coin: {'coin': 8, 'weight': 111}\n",
      "Number of executions: 7\n"
     ]
    }
   ],
   "source": [
    "coins = [\n",
    "    {\"coin\": 1, \"weight\": 100}, \n",
    "    {\"coin\": 2, \"weight\": 100}, \n",
    "    {\"coin\": 3, \"weight\": 100}, \n",
    "    {\"coin\": 4, \"weight\": 100}, \n",
    "    {\"coin\": 5, \"weight\": 100}, \n",
    "    {\"coin\": 6, \"weight\": 100}, \n",
    "    {\"coin\": 7, \"weight\": 100}, \n",
    "    {\"coin\": 8, \"weight\": 111},\n",
    "    {\"coin\": 9, \"weight\": 100}\n",
    "]\n",
    "\n",
    "c = find_heavy_coin(coins)\n",
    "print(\"Heaviest coin:\", c)\n",
    "print(\"Number of executions:\", counter)"
   ]
  },
  {
   "cell_type": "markdown",
   "metadata": {},
   "source": [
    "## Unit 32 - Dynamic Programming"
   ]
  },
  {
   "cell_type": "markdown",
   "metadata": {},
   "source": [
    "## Keywords: Dynamic Programming, Recursive Property, Bottom-Up Approach and Memoization"
   ]
  },
  {
   "cell_type": "markdown",
   "metadata": {},
   "source": [
    "## Mission"
   ]
  },
  {
   "cell_type": "code",
   "execution_count": 51,
   "metadata": {},
   "outputs": [],
   "source": [
    "def fib1(n):\n",
    "    if n == 0 or n == 1:\n",
    "        return n\n",
    "    else:\n",
    "        return fib1(n - 1) + fib1(n - 2)"
   ]
  },
  {
   "cell_type": "code",
   "execution_count": 52,
   "metadata": {},
   "outputs": [
    {
     "name": "stdout",
     "output_type": "stream",
     "text": [
      "55\n"
     ]
    }
   ],
   "source": [
    "N = int(input(\"Input a number: \"))\n",
    "print(fib1(N))"
   ]
  },
  {
   "cell_type": "markdown",
   "metadata": {},
   "source": [
    "## Finding n-th Fibonacci Term with Dynamic Programming"
   ]
  },
  {
   "cell_type": "code",
   "execution_count": 53,
   "metadata": {},
   "outputs": [],
   "source": [
    "F = {\n",
    "    0: 0,\n",
    "    1: 1\n",
    "}\n",
    "\n",
    "def fib2(n):\n",
    "    if n in F:\n",
    "        return F[n]\n",
    "    else:\n",
    "        F[n] = fib2(n - 1) + fib2(n - 2)\n",
    "        return F[n]"
   ]
  },
  {
   "cell_type": "code",
   "execution_count": 54,
   "metadata": {},
   "outputs": [
    {
     "name": "stdout",
     "output_type": "stream",
     "text": [
      "55\n"
     ]
    }
   ],
   "source": [
    "N = int(input(\"Input a number: \"))\n",
    "print(fib1(N))"
   ]
  },
  {
   "cell_type": "markdown",
   "metadata": {},
   "source": [
    "## 1. Dynamic Programming"
   ]
  },
  {
   "cell_type": "markdown",
   "metadata": {},
   "source": [
    "#### 1.1. n-th Fibonacci Term by Recursion"
   ]
  },
  {
   "cell_type": "code",
   "execution_count": 55,
   "metadata": {},
   "outputs": [],
   "source": [
    "def fib1(n):\n",
    "    if n == 0 or n == 1:\n",
    "        return n\n",
    "    else:\n",
    "        return fib1(n - 1) + fib1(n - 2)"
   ]
  },
  {
   "cell_type": "markdown",
   "metadata": {},
   "source": [
    "#### 1.2. n-th Fibonacci Term with Memoization"
   ]
  },
  {
   "cell_type": "code",
   "execution_count": 56,
   "metadata": {},
   "outputs": [],
   "source": [
    "F = {\n",
    "    0: 0,\n",
    "    1: 1\n",
    "}\n",
    "\n",
    "def fib2(n):\n",
    "    if n in F:\n",
    "        return F[n]\n",
    "    else:\n",
    "        F[n] = fib2(n - 1) + fib2(n - 2)\n",
    "        return F[n]"
   ]
  },
  {
   "cell_type": "code",
   "execution_count": 74,
   "metadata": {},
   "outputs": [],
   "source": [
    "def fib3(F, n):\n",
    "    if n <= 1:\n",
    "        return F[n]\n",
    "    else:\n",
    "        if F[n] < 0:\n",
    "            F[n] = fib3(F, n - 1) + fib3(F, n - 2)\n",
    "        return F[n]"
   ]
  },
  {
   "cell_type": "code",
   "execution_count": 75,
   "metadata": {},
   "outputs": [
    {
     "name": "stdout",
     "output_type": "stream",
     "text": [
      "55\n"
     ]
    }
   ],
   "source": [
    "N = int(input(\"Input a number: \"))\n",
    "F = [0, 1] + [-1] * (N - 1)\n",
    "print(fib3(F, N))"
   ]
  },
  {
   "cell_type": "markdown",
   "metadata": {},
   "source": [
    "#### 1.3. Pascal's Triangle by Recursion"
   ]
  },
  {
   "cell_type": "code",
   "execution_count": 59,
   "metadata": {},
   "outputs": [],
   "source": [
    "def bin1(n, k):\n",
    "    if k == 0 or n == k:\n",
    "        return 1\n",
    "    else:\n",
    "        return bin1(n - 1, k - 1) + bin1(n - 1, k)"
   ]
  },
  {
   "cell_type": "code",
   "execution_count": 60,
   "metadata": {},
   "outputs": [
    {
     "name": "stdout",
     "output_type": "stream",
     "text": [
      "binomial(5, 3 is 10)\n"
     ]
    }
   ],
   "source": [
    "n = int(input(\"Input the value of n: \"))\n",
    "k = int(input(\"Input the value of k: \"))\n",
    "print(f\"binomial({n}, {k} is {bin1(n, k)})\")"
   ]
  },
  {
   "cell_type": "markdown",
   "metadata": {},
   "source": [
    "#### 1.4. Pascal's Triangle by Dynamic Programming"
   ]
  },
  {
   "cell_type": "code",
   "execution_count": 61,
   "metadata": {},
   "outputs": [],
   "source": [
    "def bin2(n, k):\n",
    "    B = [[0] * (i + 1) for i in range(n + 1)]\n",
    "    for i in range(n + 1):\n",
    "        for j in range(i + 1):\n",
    "            if j == 0 or j == 1:\n",
    "                B[i][j] = 1\n",
    "            else:\n",
    "                B[i][j] = B[i - 1][j - 1] + B[i - 1]\n",
    "        return B[n][k]"
   ]
  },
  {
   "cell_type": "code",
   "execution_count": 62,
   "metadata": {},
   "outputs": [
    {
     "name": "stdout",
     "output_type": "stream",
     "text": [
      "binomial(5, 3 is 10)\n"
     ]
    }
   ],
   "source": [
    "n = int(input(\"Input the value of n: \"))\n",
    "k = int(input(\"Input the value of k: \"))\n",
    "print(f\"binomial({n}, {k} is {bin1(n, k)})\")"
   ]
  },
  {
   "cell_type": "markdown",
   "metadata": {},
   "source": [
    "## Q1"
   ]
  },
  {
   "cell_type": "code",
   "execution_count": 78,
   "metadata": {},
   "outputs": [],
   "source": [
    "def fib4(n):\n",
    "    count = 0\n",
    "    if n <= 1:\n",
    "        return n\n",
    "    else:\n",
    "        a, b = 0, 1\n",
    "        for i in range(2, n + 1):\n",
    "            a, b = b, a + b\n",
    "            count += 1\n",
    "        return b, count"
   ]
  },
  {
   "cell_type": "code",
   "execution_count": 79,
   "metadata": {},
   "outputs": [
    {
     "name": "stdout",
     "output_type": "stream",
     "text": [
      "(55, 9)\n"
     ]
    }
   ],
   "source": [
    "N = int(input(\"Input a number: \"))\n",
    "print(fib4(N))"
   ]
  },
  {
   "cell_type": "code",
   "execution_count": null,
   "metadata": {},
   "outputs": [],
   "source": []
  }
 ],
 "metadata": {
  "kernelspec": {
   "display_name": "Python 3",
   "language": "python",
   "name": "python3"
  },
  "language_info": {
   "codemirror_mode": {
    "name": "ipython",
    "version": 3
   },
   "file_extension": ".py",
   "mimetype": "text/x-python",
   "name": "python",
   "nbconvert_exporter": "python",
   "pygments_lexer": "ipython3",
   "version": "3.11.5"
  }
 },
 "nbformat": 4,
 "nbformat_minor": 2
}
