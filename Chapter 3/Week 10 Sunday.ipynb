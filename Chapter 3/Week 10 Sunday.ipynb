{
 "cells": [
  {
   "cell_type": "markdown",
   "metadata": {},
   "source": [
    "## 3. Comparison of List Comprehension and Lambda Expression"
   ]
  },
  {
   "cell_type": "markdown",
   "metadata": {},
   "source": [
    "#### 3.1. Syntax of list comprehension"
   ]
  },
  {
   "cell_type": "code",
   "execution_count": 2,
   "metadata": {},
   "outputs": [
    {
     "name": "stdout",
     "output_type": "stream",
     "text": [
      "[1, 4, 9, 16, 25, 36, 49]\n"
     ]
    }
   ],
   "source": [
    "a = [1, 2, 3, 4, 5, 6, 7]\n",
    "a = list(map(lambda x: x**2, a))\n",
    "print(a)"
   ]
  },
  {
   "cell_type": "code",
   "execution_count": 3,
   "metadata": {},
   "outputs": [
    {
     "name": "stdout",
     "output_type": "stream",
     "text": [
      "[1, 4, 9, 16, 25, 36, 49]\n"
     ]
    }
   ],
   "source": [
    "a = [1, 2, 3, 4, 5, 6, 7]\n",
    "a = [x**2 for x in a]\n",
    "print(a)"
   ]
  },
  {
   "cell_type": "code",
   "execution_count": 4,
   "metadata": {},
   "outputs": [
    {
     "name": "stdout",
     "output_type": "stream",
     "text": [
      "[1, 4, 9, 16, 25, 36, 49]\n"
     ]
    }
   ],
   "source": [
    "a = [x**2 for x in range(1, 8)]\n",
    "print(a)"
   ]
  },
  {
   "cell_type": "code",
   "execution_count": 5,
   "metadata": {},
   "outputs": [
    {
     "name": "stdout",
     "output_type": "stream",
     "text": [
      "adults list:  [34, 39, 20, 54]\n"
     ]
    }
   ],
   "source": [
    "ages = [34, 39, 20, 18, 13, 54]\n",
    "adult_ages = list(filter(lambda x: x >= 19, ages))\n",
    "print('adults list: ', adult_ages)"
   ]
  },
  {
   "cell_type": "code",
   "execution_count": 6,
   "metadata": {},
   "outputs": [
    {
     "name": "stdout",
     "output_type": "stream",
     "text": [
      "adults list:  [34, 39, 20, 54]\n"
     ]
    }
   ],
   "source": [
    "ages = [34, 39, 20, 18, 13, 54]\n",
    "print('adults list: ', [x for x in ages if x >= 19])"
   ]
  },
  {
   "cell_type": "markdown",
   "metadata": {},
   "source": [
    "#### 3.2. List comprehension and lambda expression to simplify code"
   ]
  },
  {
   "cell_type": "code",
   "execution_count": 7,
   "metadata": {},
   "outputs": [
    {
     "data": {
      "text/plain": [
       "[0, 1, 2, 3, 4, 5, 6, 7, 8, 9]"
      ]
     },
     "execution_count": 7,
     "metadata": {},
     "output_type": "execute_result"
    }
   ],
   "source": [
    "[x for x in range(10)]"
   ]
  },
  {
   "cell_type": "code",
   "execution_count": 8,
   "metadata": {},
   "outputs": [
    {
     "data": {
      "text/plain": [
       "[0, 1, 4, 9, 16, 25, 36, 49, 64, 81]"
      ]
     },
     "execution_count": 8,
     "metadata": {},
     "output_type": "execute_result"
    }
   ],
   "source": [
    "[x * x for x in range(10)]"
   ]
  },
  {
   "cell_type": "code",
   "execution_count": 9,
   "metadata": {},
   "outputs": [
    {
     "data": {
      "text/plain": [
       "[0, 2, 4, 6, 8]"
      ]
     },
     "execution_count": 9,
     "metadata": {},
     "output_type": "execute_result"
    }
   ],
   "source": [
    "[x for x in range(10) if x % 2 == 0]"
   ]
  },
  {
   "cell_type": "code",
   "execution_count": 10,
   "metadata": {},
   "outputs": [
    {
     "data": {
      "text/plain": [
       "[1, 3, 5, 7, 9]"
      ]
     },
     "execution_count": 10,
     "metadata": {},
     "output_type": "execute_result"
    }
   ],
   "source": [
    "[x for x in range(10) if x % 2 == 1]"
   ]
  },
  {
   "cell_type": "code",
   "execution_count": 11,
   "metadata": {},
   "outputs": [
    {
     "data": {
      "text/plain": [
       "[0, 4, 16, 36, 64]"
      ]
     },
     "execution_count": 11,
     "metadata": {},
     "output_type": "execute_result"
    }
   ],
   "source": [
    "[x * x for x in range(10) if x % 2 == 0]"
   ]
  },
  {
   "cell_type": "code",
   "execution_count": 12,
   "metadata": {},
   "outputs": [
    {
     "data": {
      "text/plain": [
       "[1, 9, 25, 49, 81]"
      ]
     },
     "execution_count": 12,
     "metadata": {},
     "output_type": "execute_result"
    }
   ],
   "source": [
    "[x * x for x in range(10) if x % 2 == 1]"
   ]
  },
  {
   "cell_type": "code",
   "execution_count": 13,
   "metadata": {},
   "outputs": [],
   "source": [
    "s = input('enter multiple integers :').split()"
   ]
  },
  {
   "cell_type": "code",
   "execution_count": 15,
   "metadata": {},
   "outputs": [
    {
     "data": {
      "text/plain": [
       "[10, 20, 30, 40, 50]"
      ]
     },
     "execution_count": 15,
     "metadata": {},
     "output_type": "execute_result"
    }
   ],
   "source": [
    "lst = [int(x) for x in s]\n",
    "lst"
   ]
  },
  {
   "cell_type": "code",
   "execution_count": 16,
   "metadata": {},
   "outputs": [
    {
     "data": {
      "text/plain": [
       "[1, 2, 3]"
      ]
     },
     "execution_count": 16,
     "metadata": {},
     "output_type": "execute_result"
    }
   ],
   "source": [
    "[int(x) for x in input('enter multiple integers :').split()]"
   ]
  },
  {
   "cell_type": "code",
   "execution_count": 25,
   "metadata": {},
   "outputs": [
    {
     "name": "stdout",
     "output_type": "stream",
     "text": [
      "[2, 4, 6, 4, 8, 12, 6, 12, 18]\n"
     ]
    }
   ],
   "source": [
    "product_xy = []\n",
    "for x in [1, 2, 3]:\n",
    "    for y in [2, 4, 6]:\n",
    "        product_xy.append(x * y)\n",
    "print(product_xy)"
   ]
  },
  {
   "cell_type": "code",
   "execution_count": 26,
   "metadata": {},
   "outputs": [
    {
     "name": "stdout",
     "output_type": "stream",
     "text": [
      "[2, 4, 6, 4, 8, 12, 6, 12, 18]\n"
     ]
    }
   ],
   "source": [
    "product_xy = [x * y for x in [1, 2, 3] for y in [2, 4, 6]]\n",
    "print(product_xy)"
   ]
  },
  {
   "cell_type": "markdown",
   "metadata": {},
   "source": [
    "#### 3.3. Application of list comprehension and lambda expression"
   ]
  },
  {
   "cell_type": "code",
   "execution_count": 27,
   "metadata": {},
   "outputs": [
    {
     "data": {
      "text/plain": [
       "[6, 12, 18, 24, 30]"
      ]
     },
     "execution_count": 27,
     "metadata": {},
     "output_type": "execute_result"
    }
   ],
   "source": [
    "[n for n in range(1, 31) if n % 2 == 0 if n % 3 == 0]"
   ]
  },
  {
   "cell_type": "code",
   "execution_count": 28,
   "metadata": {},
   "outputs": [
    {
     "data": {
      "text/plain": [
       "[6, 12, 18, 24, 30]"
      ]
     },
     "execution_count": 28,
     "metadata": {},
     "output_type": "execute_result"
    }
   ],
   "source": [
    "list(filter(lambda x: (x % 2 == 0 and x % 3 == 0), range(1, 31)))"
   ]
  },
  {
   "cell_type": "code",
   "execution_count": 29,
   "metadata": {},
   "outputs": [
    {
     "data": {
      "text/plain": [
       "[30]"
      ]
     },
     "execution_count": 29,
     "metadata": {},
     "output_type": "execute_result"
    }
   ],
   "source": [
    "[n for n in range(1, 31) if n % 2 == 0 if n % 3 == 0 if n % 5 == 0]"
   ]
  },
  {
   "cell_type": "markdown",
   "metadata": {},
   "source": [
    "## Q1"
   ]
  },
  {
   "cell_type": "code",
   "execution_count": 32,
   "metadata": {},
   "outputs": [
    {
     "name": "stdout",
     "output_type": "stream",
     "text": [
      "The number of total students is 6.\n",
      "The number of students with valid scores is 4.\n",
      "[[100, 90, 95], [90, 80, 70], [100, 75, 20], [30, 50, 90]]\n"
     ]
    }
   ],
   "source": [
    "scores = [100, 90, 95, 90, 80, 70, 0, 80, 90, 90, 0, 90, 100, 75, 20, 30, 50, 90]\n",
    "\n",
    "sub_groups = [scores[i: i + 3] for i in range(0, len(scores), 3)]\n",
    "\n",
    "valid_scores = [sub_group for sub_group in sub_groups if 0 not in sub_group]\n",
    "\n",
    "n_students = len(scores) // 3\n",
    "n_students_valid = len(valid_scores)\n",
    "print('The number of total students is {}.'.format(n_students))\n",
    "print('The number of students with valid scores is {}.'.format(n_students_valid))\n",
    "print(valid_scores)"
   ]
  },
  {
   "cell_type": "markdown",
   "metadata": {},
   "source": [
    "## Unit 20 - Closure"
   ]
  },
  {
   "cell_type": "markdown",
   "metadata": {},
   "source": [
    "## Keywords: scoping rule, nested function local variable and global variable, closure and nonlocal"
   ]
  },
  {
   "cell_type": "markdown",
   "metadata": {},
   "source": [
    "## Mission"
   ]
  },
  {
   "cell_type": "code",
   "execution_count": 33,
   "metadata": {},
   "outputs": [
    {
     "name": "stdout",
     "output_type": "stream",
     "text": [
      "maximum population: 9765\n",
      "minimum population: 1531\n",
      "difference betweem maximum population and minimum population: 8234\n",
      "average population: 4422.75\n"
     ]
    }
   ],
   "source": [
    "def urban(city):\n",
    "    global max_pop, min_pop, pop_sum\n",
    "    n = 0\n",
    "    for name, pop in city.items():\n",
    "        if pop > max_pop:\n",
    "            max_pop = pop\n",
    "        if pop < min_pop:\n",
    "            min_pop = pop\n",
    "        pop_sum += pop\n",
    "        n += 1\n",
    "    print('maximum population:', max_pop)\n",
    "    print('minimum population:', min_pop)\n",
    "    print('difference betweem maximum population and minimum population:', max_pop - min_pop)\n",
    "    print('average population:', pop_sum / n)\n",
    "\n",
    "max_pop = 0\n",
    "min_pop = 1000000\n",
    "pop_sum = 0\n",
    "# store population statistics (unit : thousands) data in a dictionary\n",
    "city_pop = {\n",
    "    'A' : 9765,\n",
    "    'B' : 3441,\n",
    "    'C' : 2954,\n",
    "    'D' : 1531\n",
    "}\n",
    "urban(city_pop)"
   ]
  },
  {
   "cell_type": "markdown",
   "metadata": {},
   "source": [
    "## Key concept"
   ]
  },
  {
   "cell_type": "markdown",
   "metadata": {},
   "source": [
    "## 1. Python's scoping rule"
   ]
  },
  {
   "cell_type": "markdown",
   "metadata": {},
   "source": [
    "#### 1.1. Scope rule"
   ]
  },
  {
   "cell_type": "markdown",
   "metadata": {},
   "source": [
    "#### 1.2. Python's scoping rule"
   ]
  },
  {
   "cell_type": "code",
   "execution_count": 34,
   "metadata": {},
   "outputs": [
    {
     "name": "stdout",
     "output_type": "stream",
     "text": [
      "30 20 11\n",
      "30 40 11\n"
     ]
    }
   ],
   "source": [
    "x = 10\n",
    "y = 11  # Corresponds to Global variable\n",
    "def foo():\n",
    "    x = 20  # foo function corresponds to Local variable\n",
    "    def bar():\n",
    "        a = 30  # bar function corresponds to Enclosure\n",
    "        print(a, x, y) # each variable corresponds to L, E and G\n",
    "    bar()\n",
    "    x = 40\n",
    "    bar()\n",
    "\n",
    "foo()"
   ]
  },
  {
   "cell_type": "code",
   "execution_count": 46,
   "metadata": {},
   "outputs": [
    {
     "data": {
      "text/plain": [
       "<function abs(x, /)>"
      ]
     },
     "execution_count": 46,
     "metadata": {},
     "output_type": "execute_result"
    }
   ],
   "source": [
    "abs # built-in function abs()"
   ]
  },
  {
   "cell_type": "code",
   "execution_count": 47,
   "metadata": {},
   "outputs": [],
   "source": [
    "abs = 10 # global function abs()"
   ]
  },
  {
   "cell_type": "code",
   "execution_count": 48,
   "metadata": {},
   "outputs": [
    {
     "ename": "TypeError",
     "evalue": "'int' object is not callable",
     "output_type": "error",
     "traceback": [
      "\u001b[1;31m---------------------------------------------------------------------------\u001b[0m",
      "\u001b[1;31mTypeError\u001b[0m                                 Traceback (most recent call last)",
      "\u001b[1;32mc:\\Users\\USER\\Desktop\\Samsung-Innovation-Campus-Python-Course\\Chapter 3\\Week 10 Sunday.ipynb Cell 37\u001b[0m line \u001b[0;36m1\n\u001b[1;32m----> <a href='vscode-notebook-cell:/c%3A/Users/USER/Desktop/Samsung-Innovation-Campus-Python-Course/Chapter%203/Week%2010%20Sunday.ipynb#Y100sZmlsZQ%3D%3D?line=0'>1</a>\u001b[0m \u001b[39mabs\u001b[39;49m(\u001b[39m-\u001b[39;49m\u001b[39m5\u001b[39;49m) \u001b[39m# global function abs() blocks built-in function abs()\u001b[39;00m\n",
      "\u001b[1;31mTypeError\u001b[0m: 'int' object is not callable"
     ]
    }
   ],
   "source": [
    "abs(-5) # global function abs() blocks built-in function abs()"
   ]
  },
  {
   "cell_type": "code",
   "execution_count": 49,
   "metadata": {},
   "outputs": [
    {
     "name": "stdout",
     "output_type": "stream",
     "text": [
      "10\n"
     ]
    }
   ],
   "source": [
    "del abs # delete global function\n",
    "print(abs(-10)) # built-in function abs appears"
   ]
  },
  {
   "cell_type": "code",
   "execution_count": 52,
   "metadata": {},
   "outputs": [
    {
     "name": "stdout",
     "output_type": "stream",
     "text": [
      "counter = 200\n",
      "counter = 100\n"
     ]
    }
   ],
   "source": [
    "def print_counter():\n",
    "    counter = 200\n",
    "    print('counter =', counter) # counter value inside the function\n",
    "\n",
    "counter = 100\n",
    "print_counter()\n",
    "print('counter =', counter)"
   ]
  },
  {
   "cell_type": "markdown",
   "metadata": {},
   "source": [
    "#### 1.3. Local variable and global function"
   ]
  },
  {
   "cell_type": "code",
   "execution_count": 53,
   "metadata": {},
   "outputs": [
    {
     "name": "stdout",
     "output_type": "stream",
     "text": [
      "counter = 200\n",
      "counter = 200\n"
     ]
    }
   ],
   "source": [
    "def print_counter():\n",
    "    global counter\n",
    "    counter = 200\n",
    "    print('counter =', counter) # counter value inside the function\n",
    "\n",
    "counter = 100\n",
    "print_counter()\n",
    "print('counter =', counter)"
   ]
  },
  {
   "cell_type": "markdown",
   "metadata": {},
   "source": [
    "#### 1.4. First-class function"
   ]
  },
  {
   "cell_type": "code",
   "execution_count": 54,
   "metadata": {},
   "outputs": [
    {
     "name": "stdout",
     "output_type": "stream",
     "text": [
      "callfunc(greet) function call\n",
      "Hello\n"
     ]
    }
   ],
   "source": [
    "def callfunc(func):\n",
    "    func()\n",
    "\n",
    "def greet():\n",
    "    print('Hello')\n",
    "\n",
    "print('callfunc(greet) function call')\n",
    "callfunc(greet)"
   ]
  },
  {
   "cell_type": "code",
   "execution_count": 56,
   "metadata": {},
   "outputs": [
    {
     "name": "stdout",
     "output_type": "stream",
     "text": [
      "a = 300\n",
      "b = -100\n"
     ]
    }
   ],
   "source": [
    "def plus(a, b):\n",
    "    return a + b\n",
    "def minus(a, b):\n",
    "    return a - b\n",
    "l_list = [plus, minus]\n",
    "a = l_list[0](100, 200)\n",
    "b = l_list[1](100, 200)\n",
    "print('a =', a)\n",
    "print('b =', b)"
   ]
  },
  {
   "cell_type": "markdown",
   "metadata": {},
   "source": [
    "#### 1.5. High-level functions implemented by first-class functions"
   ]
  },
  {
   "cell_type": "code",
   "execution_count": 57,
   "metadata": {},
   "outputs": [
    {
     "data": {
      "text/plain": [
       "7"
      ]
     },
     "execution_count": 57,
     "metadata": {},
     "output_type": "execute_result"
    }
   ],
   "source": [
    "def add(a, b):\n",
    "    return a + b\n",
    "\n",
    "def f(g, a, b):\n",
    "    return g(a, b)\n",
    "\n",
    "f(add, 3, 4)"
   ]
  },
  {
   "cell_type": "markdown",
   "metadata": {},
   "source": [
    "## 2. Outer Function and Nested Function"
   ]
  },
  {
   "cell_type": "markdown",
   "metadata": {},
   "source": [
    "#### 2.1. Example of defining nested function in Python"
   ]
  },
  {
   "cell_type": "code",
   "execution_count": 58,
   "metadata": {},
   "outputs": [
    {
     "name": "stdout",
     "output_type": "stream",
     "text": [
      "<i>hello</i>\n",
      "<b>hello</b>\n"
     ]
    }
   ],
   "source": [
    "def decorate(style = 'italic'):\n",
    "    def italic(s):\n",
    "        return '<i>' + s + '</i>'\n",
    "    def bold(s):\n",
    "        return '<b>' + s + '</b>'\n",
    "    if style == 'italic':\n",
    "        return italic\n",
    "    else:\n",
    "        return bold\n",
    "dec = decorate()\n",
    "print(dec('hello'))\n",
    "dec2 = decorate('bold')\n",
    "print(dec2('hello'))"
   ]
  },
  {
   "cell_type": "markdown",
   "metadata": {},
   "source": [
    "#### 2.2. Reasons for using nested function"
   ]
  },
  {
   "cell_type": "code",
   "execution_count": 59,
   "metadata": {},
   "outputs": [
    {
     "name": "stdout",
     "output_type": "stream",
     "text": [
      "hello\n"
     ]
    }
   ],
   "source": [
    "def another_func():\n",
    "    print('hello')\n",
    "def outer_func():\n",
    "    return another_func()\n",
    "\n",
    "outer_func()"
   ]
  },
  {
   "cell_type": "markdown",
   "metadata": {},
   "source": [
    "## 3. Process of Finding Nonlocal Variable"
   ]
  },
  {
   "cell_type": "markdown",
   "metadata": {},
   "source": [
    "#### 3.1. Keyword 'global'"
   ]
  },
  {
   "cell_type": "code",
   "execution_count": 60,
   "metadata": {},
   "outputs": [
    {
     "name": "stdout",
     "output_type": "stream",
     "text": [
      "2\n"
     ]
    }
   ],
   "source": [
    "n1 = 1\n",
    "def func1():\n",
    "    def func2():\n",
    "        global n1\n",
    "        n1 += 1\n",
    "        print(n1)\n",
    "    func2()\n",
    "\n",
    "func1()"
   ]
  },
  {
   "cell_type": "markdown",
   "metadata": {},
   "source": [
    "#### 3.2 Necessity of nonlocal keyword"
   ]
  },
  {
   "cell_type": "code",
   "execution_count": 61,
   "metadata": {},
   "outputs": [
    {
     "ename": "NameError",
     "evalue": "name 'n2' is not defined",
     "output_type": "error",
     "traceback": [
      "\u001b[1;31m---------------------------------------------------------------------------\u001b[0m",
      "\u001b[1;31mNameError\u001b[0m                                 Traceback (most recent call last)",
      "\u001b[1;32mc:\\Users\\USER\\Desktop\\Samsung-Innovation-Campus-Python-Course\\Chapter 3\\Week 10 Sunday.ipynb Cell 56\u001b[0m line \u001b[0;36m9\n\u001b[0;32m      <a href='vscode-notebook-cell:/c%3A/Users/USER/Desktop/Samsung-Innovation-Campus-Python-Course/Chapter%203/Week%2010%20Sunday.ipynb#Y140sZmlsZQ%3D%3D?line=5'>6</a>\u001b[0m         \u001b[39mprint\u001b[39m(n2)\n\u001b[0;32m      <a href='vscode-notebook-cell:/c%3A/Users/USER/Desktop/Samsung-Innovation-Campus-Python-Course/Chapter%203/Week%2010%20Sunday.ipynb#Y140sZmlsZQ%3D%3D?line=6'>7</a>\u001b[0m     func2()\n\u001b[1;32m----> <a href='vscode-notebook-cell:/c%3A/Users/USER/Desktop/Samsung-Innovation-Campus-Python-Course/Chapter%203/Week%2010%20Sunday.ipynb#Y140sZmlsZQ%3D%3D?line=8'>9</a>\u001b[0m func1()\n",
      "\u001b[1;32mc:\\Users\\USER\\Desktop\\Samsung-Innovation-Campus-Python-Course\\Chapter 3\\Week 10 Sunday.ipynb Cell 56\u001b[0m line \u001b[0;36m7\n\u001b[0;32m      <a href='vscode-notebook-cell:/c%3A/Users/USER/Desktop/Samsung-Innovation-Campus-Python-Course/Chapter%203/Week%2010%20Sunday.ipynb#Y140sZmlsZQ%3D%3D?line=4'>5</a>\u001b[0m     n2 \u001b[39m+\u001b[39m\u001b[39m=\u001b[39m \u001b[39m1\u001b[39m\n\u001b[0;32m      <a href='vscode-notebook-cell:/c%3A/Users/USER/Desktop/Samsung-Innovation-Campus-Python-Course/Chapter%203/Week%2010%20Sunday.ipynb#Y140sZmlsZQ%3D%3D?line=5'>6</a>\u001b[0m     \u001b[39mprint\u001b[39m(n2)\n\u001b[1;32m----> <a href='vscode-notebook-cell:/c%3A/Users/USER/Desktop/Samsung-Innovation-Campus-Python-Course/Chapter%203/Week%2010%20Sunday.ipynb#Y140sZmlsZQ%3D%3D?line=6'>7</a>\u001b[0m func2()\n",
      "\u001b[1;32mc:\\Users\\USER\\Desktop\\Samsung-Innovation-Campus-Python-Course\\Chapter 3\\Week 10 Sunday.ipynb Cell 56\u001b[0m line \u001b[0;36m5\n\u001b[0;32m      <a href='vscode-notebook-cell:/c%3A/Users/USER/Desktop/Samsung-Innovation-Campus-Python-Course/Chapter%203/Week%2010%20Sunday.ipynb#Y140sZmlsZQ%3D%3D?line=2'>3</a>\u001b[0m \u001b[39mdef\u001b[39;00m \u001b[39mfunc2\u001b[39m():\n\u001b[0;32m      <a href='vscode-notebook-cell:/c%3A/Users/USER/Desktop/Samsung-Innovation-Campus-Python-Course/Chapter%203/Week%2010%20Sunday.ipynb#Y140sZmlsZQ%3D%3D?line=3'>4</a>\u001b[0m     \u001b[39mglobal\u001b[39;00m n2\n\u001b[1;32m----> <a href='vscode-notebook-cell:/c%3A/Users/USER/Desktop/Samsung-Innovation-Campus-Python-Course/Chapter%203/Week%2010%20Sunday.ipynb#Y140sZmlsZQ%3D%3D?line=4'>5</a>\u001b[0m     n2 \u001b[39m+\u001b[39m\u001b[39m=\u001b[39m \u001b[39m1\u001b[39m\n\u001b[0;32m      <a href='vscode-notebook-cell:/c%3A/Users/USER/Desktop/Samsung-Innovation-Campus-Python-Course/Chapter%203/Week%2010%20Sunday.ipynb#Y140sZmlsZQ%3D%3D?line=5'>6</a>\u001b[0m     \u001b[39mprint\u001b[39m(n2)\n",
      "\u001b[1;31mNameError\u001b[0m: name 'n2' is not defined"
     ]
    }
   ],
   "source": [
    "def func1():\n",
    "    n2 = 1\n",
    "    def func2():\n",
    "        global n2\n",
    "        n2 += 1\n",
    "        print(n2)\n",
    "    func2()\n",
    "\n",
    "func1()"
   ]
  },
  {
   "cell_type": "code",
   "execution_count": 62,
   "metadata": {},
   "outputs": [
    {
     "name": "stdout",
     "output_type": "stream",
     "text": [
      "2\n"
     ]
    }
   ],
   "source": [
    "def func1():\n",
    "    n3 = 1\n",
    "    def func2():\n",
    "        nonlocal n3\n",
    "        n3 += 1\n",
    "        print(n3)\n",
    "    func2()\n",
    "\n",
    "func1()"
   ]
  },
  {
   "cell_type": "markdown",
   "metadata": {},
   "source": [
    "#### 3.3. nonlocal keyword and binding"
   ]
  },
  {
   "cell_type": "code",
   "execution_count": 63,
   "metadata": {},
   "outputs": [
    {
     "name": "stdout",
     "output_type": "stream",
     "text": [
      "80\n",
      "20\n"
     ]
    }
   ],
   "source": [
    "x = 20\n",
    "def f():\n",
    "    x = 40\n",
    "    def g():\n",
    "        nonlocal x\n",
    "        x = 80\n",
    "    g()\n",
    "    print(x)\n",
    "\n",
    "f()\n",
    "print(x)"
   ]
  },
  {
   "cell_type": "markdown",
   "metadata": {},
   "source": [
    "#### 3.4. Relation between nonlocal and global variable"
   ]
  },
  {
   "cell_type": "code",
   "execution_count": 64,
   "metadata": {},
   "outputs": [
    {
     "ename": "SyntaxError",
     "evalue": "no binding for nonlocal 'x' found (3836761902.py, line 3)",
     "output_type": "error",
     "traceback": [
      "\u001b[1;36m  Cell \u001b[1;32mIn[64], line 3\u001b[1;36m\u001b[0m\n\u001b[1;33m    nonlocal x\u001b[0m\n\u001b[1;37m    ^\u001b[0m\n\u001b[1;31mSyntaxError\u001b[0m\u001b[1;31m:\u001b[0m no binding for nonlocal 'x' found\n"
     ]
    }
   ],
   "source": [
    "x = 70\n",
    "def f():\n",
    "    nonlocal x\n",
    "    x = 140\n",
    "\n",
    "f()\n",
    "print(x)"
   ]
  },
  {
   "cell_type": "markdown",
   "metadata": {},
   "source": [
    "#### 3.5. Process of finding nonlocal variable"
   ]
  },
  {
   "cell_type": "code",
   "execution_count": 66,
   "metadata": {},
   "outputs": [
    {
     "name": "stdout",
     "output_type": "stream",
     "text": [
      "[Level 2] a = 333\n",
      "[Level 1] a = 777\n"
     ]
    }
   ],
   "source": [
    "def f():\n",
    "    a = 777\n",
    "    def g():\n",
    "        a = 100\n",
    "        def h():\n",
    "            nonlocal a\n",
    "            a = 333\n",
    "        h()\n",
    "        print('[Level 2] a = {}'.format(a))\n",
    "    g()\n",
    "    print('[Level 1] a = {}'.format(a))\n",
    "\n",
    "f()"
   ]
  },
  {
   "cell_type": "markdown",
   "metadata": {},
   "source": [
    "## 4. Concept of Closure"
   ]
  },
  {
   "cell_type": "markdown",
   "metadata": {},
   "source": [
    "#### 4.1. About Closure"
   ]
  },
  {
   "cell_type": "code",
   "execution_count": 68,
   "metadata": {},
   "outputs": [
    {
     "name": "stdout",
     "output_type": "stream",
     "text": [
      "2 4 6\n"
     ]
    }
   ],
   "source": [
    "def closure_calc():\n",
    "    a = 2\n",
    "    def mult(x):\n",
    "        return a * x\n",
    "    return mult\n",
    "\n",
    "c = closure_calc()\n",
    "print(c(1), c(2), c(3))"
   ]
  },
  {
   "cell_type": "markdown",
   "metadata": {},
   "source": [
    "#### 4.4. Main usage of closure"
   ]
  },
  {
   "cell_type": "code",
   "execution_count": 69,
   "metadata": {},
   "outputs": [
    {
     "name": "stdout",
     "output_type": "stream",
     "text": [
      "c1 1\n",
      "c1 2\n",
      "c2 1\n"
     ]
    }
   ],
   "source": [
    "def makecounter():\n",
    "    count = 0\n",
    "    def counter():\n",
    "        nonlocal count\n",
    "        count += 1\n",
    "        return count\n",
    "    return counter\n",
    "c1 = makecounter()\n",
    "c2 = makecounter()\n",
    "print('c1', c1())\n",
    "print('c1', c1())\n",
    "print('c2', c2())"
   ]
  },
  {
   "cell_type": "markdown",
   "metadata": {},
   "source": [
    "#### 4.5. How to generate a closure"
   ]
  },
  {
   "cell_type": "code",
   "execution_count": 70,
   "metadata": {},
   "outputs": [
    {
     "name": "stdout",
     "output_type": "stream",
     "text": [
      "8 11 14 17 20\n"
     ]
    }
   ],
   "source": [
    "def calc():\n",
    "    a = 3\n",
    "    b = 5\n",
    "    def mul_add(x):\n",
    "        return a * x + b\n",
    "    return mul_add\n",
    "\n",
    "c = calc()\n",
    "print(c(1), c(2), c(3), c(4), c(5))"
   ]
  },
  {
   "cell_type": "markdown",
   "metadata": {},
   "source": [
    "## 5. Making Closure with Lambda"
   ]
  },
  {
   "cell_type": "markdown",
   "metadata": {},
   "source": [
    "#### 5.1. Code example of making closure with lambda"
   ]
  },
  {
   "cell_type": "code",
   "execution_count": 71,
   "metadata": {},
   "outputs": [
    {
     "name": "stdout",
     "output_type": "stream",
     "text": [
      "8 11 14 17 20\n"
     ]
    }
   ],
   "source": [
    "def closure_calc():\n",
    "    a = 2\n",
    "    b = 3\n",
    "    return lambda x: a * x + b\n",
    "\n",
    "c = calc()\n",
    "print(c(1), c(2), c(3), c(4), c(5))"
   ]
  },
  {
   "cell_type": "markdown",
   "metadata": {},
   "source": [
    "## 6. Change Local Variable of Closure"
   ]
  },
  {
   "cell_type": "markdown",
   "metadata": {},
   "source": [
    "#### 6.1. Code example of changing a local variable of a closure"
   ]
  },
  {
   "cell_type": "code",
   "execution_count": 72,
   "metadata": {},
   "outputs": [
    {
     "name": "stdout",
     "output_type": "stream",
     "text": [
      "5 12 21\n"
     ]
    }
   ],
   "source": [
    "def calc():\n",
    "    a = 2\n",
    "    b = 3\n",
    "    total = 0\n",
    "    def mul_add(x):\n",
    "        nonlocal total\n",
    "        total = total + a * x + b\n",
    "        return total\n",
    "    return mul_add\n",
    "\n",
    "c = calc()\n",
    "print(c(1), c(2), c(3))"
   ]
  },
  {
   "cell_type": "markdown",
   "metadata": {},
   "source": [
    "## Q1"
   ]
  },
  {
   "cell_type": "code",
   "execution_count": 77,
   "metadata": {},
   "outputs": [
    {
     "name": "stdout",
     "output_type": "stream",
     "text": [
      "hello\n"
     ]
    }
   ],
   "source": [
    "def greeting():\n",
    "    def say_hi():\n",
    "        print('hello')\n",
    "    say_hi()\n",
    "\n",
    "greeting()"
   ]
  },
  {
   "cell_type": "markdown",
   "metadata": {},
   "source": [
    "## Q2"
   ]
  },
  {
   "cell_type": "code",
   "execution_count": 78,
   "metadata": {},
   "outputs": [
    {
     "name": "stdout",
     "output_type": "stream",
     "text": [
      "14\n"
     ]
    }
   ],
   "source": [
    "def calc():\n",
    "    a = 3\n",
    "    b = 5\n",
    "    def mul_add(x):\n",
    "        return a * x + b\n",
    "    return mul_add\n",
    "\n",
    "c = calc()\n",
    "print(c(3))"
   ]
  },
  {
   "cell_type": "markdown",
   "metadata": {},
   "source": [
    "## Q3"
   ]
  },
  {
   "cell_type": "code",
   "execution_count": 79,
   "metadata": {},
   "outputs": [
    {
     "name": "stdout",
     "output_type": "stream",
     "text": [
      "14\n"
     ]
    }
   ],
   "source": [
    "def calc():\n",
    "    a = 3\n",
    "    b = 5\n",
    "    return lambda x: a * x + b\n",
    "\n",
    "c = calc()\n",
    "print(c(3))"
   ]
  },
  {
   "cell_type": "code",
   "execution_count": null,
   "metadata": {},
   "outputs": [],
   "source": []
  }
 ],
 "metadata": {
  "kernelspec": {
   "display_name": "Python 3",
   "language": "python",
   "name": "python3"
  },
  "language_info": {
   "codemirror_mode": {
    "name": "ipython",
    "version": 3
   },
   "file_extension": ".py",
   "mimetype": "text/x-python",
   "name": "python",
   "nbconvert_exporter": "python",
   "pygments_lexer": "ipython3",
   "version": "3.11.5"
  }
 },
 "nbformat": 4,
 "nbformat_minor": 2
}
