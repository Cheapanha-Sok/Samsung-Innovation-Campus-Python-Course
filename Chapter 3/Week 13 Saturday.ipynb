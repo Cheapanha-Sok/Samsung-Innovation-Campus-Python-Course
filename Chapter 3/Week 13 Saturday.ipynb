{
 "cells": [
  {
   "cell_type": "markdown",
   "metadata": {},
   "source": [
    "## Unit 26 - Hash Table"
   ]
  },
  {
   "cell_type": "markdown",
   "metadata": {},
   "source": [
    "## Keywords: Hash Table, Hashing, Hash Function, Dictionary and Constant Time"
   ]
  },
  {
   "cell_type": "markdown",
   "metadata": {},
   "source": [
    "## Mission"
   ]
  },
  {
   "cell_type": "code",
   "execution_count": 4,
   "metadata": {},
   "outputs": [],
   "source": [
    "table = {\n",
    "    'I': 1,\n",
    "    'V': 5,\n",
    "    'X': 10,\n",
    "    'L': 50,\n",
    "    'C': 100,\n",
    "    'D': 500,\n",
    "    'M': 1000,\n",
    "}\n",
    "def roam_to_int(str):\n",
    "    result = 0\n",
    "    for i in range(len(str) - 1):\n",
    "        if table[str[i]] < table[str[i + 1]]:\n",
    "            result -= table[str[i]]\n",
    "        else:\n",
    "            result += table[str[i]]\n",
    "    return result + table[str[-1]]"
   ]
  },
  {
   "cell_type": "code",
   "execution_count": 3,
   "metadata": {},
   "outputs": [
    {
     "name": "stdout",
     "output_type": "stream",
     "text": [
      "1444\n"
     ]
    }
   ],
   "source": [
    "roman = input(\"Input a Roman number: \")\n",
    "number = roam_to_int(roman)\n",
    "print(number)"
   ]
  },
  {
   "cell_type": "code",
   "execution_count": 6,
   "metadata": {},
   "outputs": [
    {
     "name": "stdout",
     "output_type": "stream",
     "text": [
      "1584 The Little Prince\n",
      "1929 The Old Man and the Sea\n",
      "1678 The Little Mermaid\n",
      "1837 Beauty and the Beast\n",
      "1133 The Last Leaf\n"
     ]
    }
   ],
   "source": [
    "books = [\n",
    "    \"The Little Prince\",\n",
    "    \"The Old Man and the Sea\",\n",
    "    \"The Little Mermaid\",\n",
    "    \"Beauty and the Beast\",\n",
    "    \"The Last Leaf\"\n",
    "]\n",
    "\n",
    "for book in books:\n",
    "    key = sum(map(ord, book))\n",
    "    print(key, book)"
   ]
  },
  {
   "cell_type": "markdown",
   "metadata": {},
   "source": [
    "## 1. Hash Table"
   ]
  },
  {
   "cell_type": "markdown",
   "metadata": {},
   "source": [
    "#### 1.4. Define a hash table as a class type"
   ]
  },
  {
   "cell_type": "code",
   "execution_count": 12,
   "metadata": {},
   "outputs": [],
   "source": [
    "class HashTable:\n",
    "    def __init__(self, size):\n",
    "        self.size = size\n",
    "        self.table = {}\n",
    "        for i in range(size):\n",
    "            self.table[i] = []\n",
    "\n",
    "    def hash(self, key):\n",
    "        return key % self.size\n",
    "    \n",
    "    def get(self, key):\n",
    "        return self.table[self.hash(key)]\n",
    "    \n",
    "    def put(self, key, value):\n",
    "        bucket = self.table[self.hash(key)]\n",
    "        if value not in bucket:\n",
    "            bucket.append(value)"
   ]
  },
  {
   "cell_type": "code",
   "execution_count": 14,
   "metadata": {},
   "outputs": [
    {
     "name": "stdout",
     "output_type": "stream",
     "text": [
      "0 []\n",
      "1 []\n",
      "2 []\n",
      "3 []\n",
      "4 []\n",
      "5 []\n",
      "6 []\n",
      "7 []\n"
     ]
    }
   ],
   "source": [
    "table = HashTable(8)\n",
    "for key in table.table.keys():\n",
    "    print(key, table.table[key])"
   ]
  },
  {
   "cell_type": "code",
   "execution_count": null,
   "metadata": {},
   "outputs": [],
   "source": []
  }
 ],
 "metadata": {
  "kernelspec": {
   "display_name": "Python 3",
   "language": "python",
   "name": "python3"
  },
  "language_info": {
   "codemirror_mode": {
    "name": "ipython",
    "version": 3
   },
   "file_extension": ".py",
   "mimetype": "text/x-python",
   "name": "python",
   "nbconvert_exporter": "python",
   "pygments_lexer": "ipython3",
   "version": "3.11.5"
  }
 },
 "nbformat": 4,
 "nbformat_minor": 2
}
