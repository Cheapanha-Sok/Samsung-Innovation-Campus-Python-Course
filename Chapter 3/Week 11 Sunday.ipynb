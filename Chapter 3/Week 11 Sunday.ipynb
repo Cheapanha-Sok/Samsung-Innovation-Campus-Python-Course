{
 "cells": [
  {
   "cell_type": "markdown",
   "metadata": {},
   "source": [
    "## Unit 21 - Class"
   ]
  },
  {
   "cell_type": "markdown",
   "metadata": {},
   "source": [
    "## Keywords - Object, Class, Instance, Constructor, self Parameter and Inheritance"
   ]
  },
  {
   "cell_type": "markdown",
   "metadata": {},
   "source": [
    "## Mission"
   ]
  },
  {
   "cell_type": "code",
   "execution_count": 3,
   "metadata": {},
   "outputs": [
    {
     "name": "stdout",
     "output_type": "stream",
     "text": [
      "The balance of David's account 1234-0001 is 0 won.\n",
      "2000 won has been deposited. The balance is 2000 won.\n",
      "The balance of David's account 1234-0001 is 2,000 won.\n",
      "The balance of David's account 1234-0001 is 1,500 won.\n",
      "The account balance is 1500 won. This is smaller than the request amount of withdrawal 5000 won.\n"
     ]
    }
   ],
   "source": [
    "class BankAccount:\n",
    "    \"\"\"A class example in python that models a bank account\"\"\"\n",
    "    def __init__(self, name, account_num, balance = 0):\n",
    "        self.name= name\n",
    "        self.account_num = account_num\n",
    "        self.balance = balance\n",
    "\n",
    "    def get_name():\n",
    "        return self.name\n",
    "\n",
    "    def get_account_num():\n",
    "        return self.account_num\n",
    "\n",
    "    def get_balance():\n",
    "        return self.balance\n",
    "\n",
    "    def deposit(self, amount):\n",
    "        self.balance += amount\n",
    "        print('{} won has been deposited. The balance is {} won.'.format(amount, \\\n",
    "            self.balance))\n",
    "\n",
    "        return self.balance\n",
    "\n",
    "    def withdraw(self, amount):\n",
    "        if self.balance - amount > 0:\n",
    "            self.balance -= amount\n",
    "        else:\n",
    "            print('The account balance is {} won. This is smaller than the request amount of withdrawal {} won.'.format(self.balance, amount))\n",
    "\n",
    "    def __str__(self):\n",
    "        return 'The balance of {}\\'s account {} is {:,} won.'.format(self.name, \\\n",
    "            self.account_num, self.balance)\n",
    "\n",
    "    \n",
    "account1 = BankAccount(\"David\", \"1234-0001\")\n",
    "print(account1)\n",
    "account1.deposit(2000)\n",
    "print(account1)\n",
    "account1.withdraw(500)\n",
    "print(account1)\n",
    "account1.withdraw(5000)"
   ]
  },
  {
   "cell_type": "markdown",
   "metadata": {},
   "source": [
    "## 1. Definition and Concept of Object"
   ]
  },
  {
   "cell_type": "markdown",
   "metadata": {},
   "source": [
    "#### 1.1. Programming and Concept"
   ]
  },
  {
   "cell_type": "code",
   "execution_count": 54,
   "metadata": {},
   "outputs": [
    {
     "data": {
      "text/plain": [
       "['cat', 'dog', 'lion', 'tiger']"
      ]
     },
     "execution_count": 54,
     "metadata": {},
     "output_type": "execute_result"
    }
   ],
   "source": [
    "animals = ['lion', 'tiger', 'cat', 'dog']\n",
    "animals.sort()\n",
    "animals"
   ]
  },
  {
   "cell_type": "code",
   "execution_count": 55,
   "metadata": {},
   "outputs": [
    {
     "data": {
      "text/plain": [
       "['cat', 'dog', 'lion', 'tiger', 'rabbit']"
      ]
     },
     "execution_count": 55,
     "metadata": {},
     "output_type": "execute_result"
    }
   ],
   "source": [
    "animals.append('rabbit')\n",
    "animals"
   ]
  },
  {
   "cell_type": "code",
   "execution_count": 56,
   "metadata": {},
   "outputs": [
    {
     "data": {
      "text/plain": [
       "['rabbit', 'tiger', 'lion', 'dog', 'cat']"
      ]
     },
     "execution_count": 56,
     "metadata": {},
     "output_type": "execute_result"
    }
   ],
   "source": [
    "animals.reverse()\n",
    "animals"
   ]
  },
  {
   "cell_type": "markdown",
   "metadata": {},
   "source": [
    "#### 1.3. Syntax for calling Python's objects and methods"
   ]
  },
  {
   "cell_type": "code",
   "execution_count": 57,
   "metadata": {},
   "outputs": [
    {
     "data": {
      "text/plain": [
       "'TIGER'"
      ]
     },
     "execution_count": 57,
     "metadata": {},
     "output_type": "execute_result"
    }
   ],
   "source": [
    "'tiger'.upper()"
   ]
  },
  {
   "cell_type": "markdown",
   "metadata": {},
   "source": [
    "## 2. Examples of Class Usage in Previous Units"
   ]
  },
  {
   "cell_type": "markdown",
   "metadata": {},
   "source": [
    "#### 2.1. Examples of using classes and objects"
   ]
  },
  {
   "cell_type": "code",
   "execution_count": 58,
   "metadata": {},
   "outputs": [
    {
     "data": {
      "text/plain": [
       "'cat'"
      ]
     },
     "execution_count": 58,
     "metadata": {},
     "output_type": "execute_result"
    }
   ],
   "source": [
    "s = animals.pop()\n",
    "s"
   ]
  },
  {
   "cell_type": "code",
   "execution_count": 59,
   "metadata": {},
   "outputs": [
    {
     "data": {
      "text/plain": [
       "'CAT'"
      ]
     },
     "execution_count": 59,
     "metadata": {},
     "output_type": "execute_result"
    }
   ],
   "source": [
    "s.upper()"
   ]
  },
  {
   "cell_type": "code",
   "execution_count": 60,
   "metadata": {},
   "outputs": [
    {
     "data": {
      "text/plain": [
       "1"
      ]
     },
     "execution_count": 60,
     "metadata": {},
     "output_type": "execute_result"
    }
   ],
   "source": [
    "s.find('a')"
   ]
  },
  {
   "cell_type": "markdown",
   "metadata": {},
   "source": [
    "#### 2.3. Specific functionalities of type and id function"
   ]
  },
  {
   "cell_type": "code",
   "execution_count": 61,
   "metadata": {},
   "outputs": [
    {
     "data": {
      "text/plain": [
       "list"
      ]
     },
     "execution_count": 61,
     "metadata": {},
     "output_type": "execute_result"
    }
   ],
   "source": [
    "animals = ['lion', 'tiger', 'cat', 'dog']\n",
    "type(animals)"
   ]
  },
  {
   "cell_type": "code",
   "execution_count": 62,
   "metadata": {},
   "outputs": [
    {
     "data": {
      "text/plain": [
       "2250262650432"
      ]
     },
     "execution_count": 62,
     "metadata": {},
     "output_type": "execute_result"
    }
   ],
   "source": [
    "id(animals)"
   ]
  },
  {
   "cell_type": "code",
   "execution_count": 63,
   "metadata": {},
   "outputs": [
    {
     "data": {
      "text/plain": [
       "str"
      ]
     },
     "execution_count": 63,
     "metadata": {},
     "output_type": "execute_result"
    }
   ],
   "source": [
    "s = 'tiger'\n",
    "type(s)"
   ]
  },
  {
   "cell_type": "code",
   "execution_count": 64,
   "metadata": {},
   "outputs": [
    {
     "data": {
      "text/plain": [
       "2250261792304"
      ]
     },
     "execution_count": 64,
     "metadata": {},
     "output_type": "execute_result"
    }
   ],
   "source": [
    "id(s)"
   ]
  },
  {
   "cell_type": "code",
   "execution_count": 65,
   "metadata": {},
   "outputs": [],
   "source": [
    "animals = ['lion', 'tiger', 'cat', 'dog']\n",
    "others = animals"
   ]
  },
  {
   "cell_type": "code",
   "execution_count": 66,
   "metadata": {},
   "outputs": [
    {
     "data": {
      "text/plain": [
       "2250262110528"
      ]
     },
     "execution_count": 66,
     "metadata": {},
     "output_type": "execute_result"
    }
   ],
   "source": [
    "id(animals)"
   ]
  },
  {
   "cell_type": "code",
   "execution_count": 67,
   "metadata": {},
   "outputs": [
    {
     "data": {
      "text/plain": [
       "2250262110528"
      ]
     },
     "execution_count": 67,
     "metadata": {},
     "output_type": "execute_result"
    }
   ],
   "source": [
    "id(others)"
   ]
  },
  {
   "cell_type": "markdown",
   "metadata": {},
   "source": [
    "## 4. Declaring Class, and Constructor and self Parameter"
   ]
  },
  {
   "cell_type": "markdown",
   "metadata": {},
   "source": [
    "#### 4.1. Simple syntax for class definition"
   ]
  },
  {
   "cell_type": "code",
   "execution_count": 6,
   "metadata": {},
   "outputs": [
    {
     "name": "stdout",
     "output_type": "stream",
     "text": [
      "<__main__.Cat object at 0x0000020BEDBDF310>\n"
     ]
    }
   ],
   "source": [
    "class Cat: # Define the Cat class\n",
    "    pass\n",
    "\n",
    "nabi = Cat() # Generate an instance of the Cat\n",
    "print(nabi)"
   ]
  },
  {
   "cell_type": "markdown",
   "metadata": {},
   "source": [
    "#### 4.2. Using methods and self"
   ]
  },
  {
   "cell_type": "code",
   "execution_count": 7,
   "metadata": {},
   "outputs": [
    {
     "name": "stdout",
     "output_type": "stream",
     "text": [
      "meow meow~~~\n"
     ]
    }
   ],
   "source": [
    "class Cat:\n",
    "    def meow(self):\n",
    "        print('meow meow~~~')\n",
    "\n",
    "nabi = Cat()\n",
    "nabi.meow()"
   ]
  },
  {
   "cell_type": "markdown",
   "metadata": {},
   "source": [
    "#### 4.3. Syntax for calling methods"
   ]
  },
  {
   "cell_type": "code",
   "execution_count": 8,
   "metadata": {},
   "outputs": [
    {
     "name": "stdout",
     "output_type": "stream",
     "text": [
      "meow meow~~~\n",
      "meow meow~~~\n",
      "meow meow~~~\n"
     ]
    }
   ],
   "source": [
    "class Cat:\n",
    "    def meow(self):\n",
    "        print('meow meow~~~')\n",
    "\n",
    "nabi = Cat()\n",
    "nabi.meow()\n",
    "nero = Cat()\n",
    "nero.meow()\n",
    "mimi = Cat()\n",
    "mimi.meow()"
   ]
  },
  {
   "cell_type": "markdown",
   "metadata": {},
   "source": [
    "#### 4.5. Class definition and __init__, __str__ special method"
   ]
  },
  {
   "cell_type": "code",
   "execution_count": 9,
   "metadata": {},
   "outputs": [
    {
     "name": "stdout",
     "output_type": "stream",
     "text": [
      "Cat(name=nabi, color=black)\n",
      "Cat(name=nero, color=white)\n"
     ]
    }
   ],
   "source": [
    "class Cat:\n",
    "    def __init__(self, name, color):\n",
    "        self.name = name\n",
    "        self.color = color\n",
    "\n",
    "    # A string expression format of the Cat class\n",
    "    def __str__(self):\n",
    "        return 'Cat(name=' + self.name + ', color=' + self.color + ')'\n",
    "    \n",
    "nabi = Cat('nabi', 'black') # generate instance nabi\n",
    "nero = Cat('nero', 'white') # generate instance nero\n",
    "\n",
    "print(nabi)\n",
    "print(nero)"
   ]
  },
  {
   "cell_type": "markdown",
   "metadata": {},
   "source": [
    "#### 4.7. When is the __str__ special method called"
   ]
  },
  {
   "cell_type": "code",
   "execution_count": 10,
   "metadata": {},
   "outputs": [
    {
     "name": "stdout",
     "output_type": "stream",
     "text": [
      "information of nabi : Cat(name=nabi, color=black)\n"
     ]
    }
   ],
   "source": [
    "print('information of nabi : {}'.format(nabi))"
   ]
  },
  {
   "cell_type": "markdown",
   "metadata": {},
   "source": [
    "## 5. Structure of Method"
   ]
  },
  {
   "cell_type": "markdown",
   "metadata": {},
   "source": [
    "#### 5.1. Definition of method and exemplary code of calling method"
   ]
  },
  {
   "cell_type": "code",
   "execution_count": 15,
   "metadata": {},
   "outputs": [
    {
     "name": "stdout",
     "output_type": "stream",
     "text": [
      "My name is nabi, color is black, meow meow~~\n",
      "My name is nero, color is white, meow meow~~\n",
      "My name is mimi, color is brown, meow meow~~\n"
     ]
    }
   ],
   "source": [
    "class Cat:\n",
    "    def __init__(self, name, color):\n",
    "        self.name = name\n",
    "        self.color = color\n",
    "\n",
    "    # A string expression format of the Cat class\n",
    "    def meow(self):\n",
    "        print('My name is {}, color is {}, meow meow~~'.format(self.name, self.color))\n",
    "    \n",
    "nabi = Cat('nabi', 'black') # generate instance nabi\n",
    "nero = Cat('nero', 'white') # generate instance nero\n",
    "mimi = Cat('mimi', 'brown') # generate instance mimi\n",
    "\n",
    "nabi.meow()\n",
    "nero.meow()\n",
    "mimi.meow()"
   ]
  },
  {
   "cell_type": "markdown",
   "metadata": {},
   "source": [
    "#### 5.3. Exemplary code for calling methods"
   ]
  },
  {
   "cell_type": "code",
   "execution_count": 17,
   "metadata": {},
   "outputs": [
    {
     "name": "stdout",
     "output_type": "stream",
     "text": [
      "My name is nabi, color is black, meow meow~~\n",
      "My name is nero, color is white, meow meow~~\n",
      "My name is mimi, color is brown, meow meow~~\n"
     ]
    }
   ],
   "source": [
    "class Cat:\n",
    "    # Called a constructor or the initialized method\n",
    "    def __init__(self, name, color):\n",
    "        self.name = name    # Generate an instance variable named name\n",
    "        self.color = color  # Generate an instance variable named color\n",
    "\n",
    "    # The method that prints the information of a cat\n",
    "    def meow(self):\n",
    "        print('My name is {}, color is {}, meow meow~~'.format(self.name, self.color))\n",
    "    \n",
    "nabi = Cat('nabi', 'black') # generate instance nabi\n",
    "nero = Cat('nero', 'white') # generate instance nero\n",
    "mimi = Cat('mimi', 'brown') # generate instance mimi\n",
    "\n",
    "nabi.meow()\n",
    "nero.meow()\n",
    "mimi.meow()"
   ]
  },
  {
   "cell_type": "markdown",
   "metadata": {},
   "source": [
    "## 6. Class Variables and Methods"
   ]
  },
  {
   "cell_type": "markdown",
   "metadata": {},
   "source": [
    "#### 6.1. What are instance variables?"
   ]
  },
  {
   "cell_type": "code",
   "execution_count": 19,
   "metadata": {},
   "outputs": [
    {
     "name": "stdout",
     "output_type": "stream",
     "text": [
      "Area of c1: 50.24\n",
      "Area of c2: 113.076\n",
      "Area of c3: 78.53750000000001\n"
     ]
    }
   ],
   "source": [
    "class Circle:\n",
    "    def __init__(self, name, radius, PI):\n",
    "        self.__name = name\n",
    "        self.__radius = radius\n",
    "        self.__PI = PI\n",
    "\n",
    "    def area(self):\n",
    "        return self.__PI * self.__radius ** 2\n",
    "    \n",
    "c1 = Circle(\"C1\", 4, 3.14)\n",
    "print(\"Area of c1:\", c1.area())\n",
    "c2 = Circle(\"C2\", 6, 3.141)\n",
    "print(\"Area of c2:\", c2.area())\n",
    "c3 = Circle(\"C3\", 5, 3.1415)\n",
    "print(\"Area of c3:\", c3.area())"
   ]
  },
  {
   "cell_type": "markdown",
   "metadata": {},
   "source": [
    "#### 6.3. Defining class variables"
   ]
  },
  {
   "cell_type": "code",
   "execution_count": 21,
   "metadata": {},
   "outputs": [
    {
     "name": "stdout",
     "output_type": "stream",
     "text": [
      "Area of c1: 50.264\n",
      "Area of c2: 113.09400000000001\n",
      "Area of c3: 78.53750000000001\n"
     ]
    }
   ],
   "source": [
    "class Circle:\n",
    "    PI = 3.1415\n",
    "    def __init__(self, name, radius):\n",
    "        self.__name = name\n",
    "        self.__radius = radius\n",
    "\n",
    "    def area(self):\n",
    "        return Circle.PI * self.__radius ** 2\n",
    "    \n",
    "c1 = Circle(\"C1\", 4)\n",
    "print(\"Area of c1:\", c1.area())\n",
    "c2 = Circle(\"C2\", 6)\n",
    "print(\"Area of c2:\", c2.area())\n",
    "c3 = Circle(\"C3\", 5)\n",
    "print(\"Area of c3:\", c3.area())"
   ]
  },
  {
   "cell_type": "markdown",
   "metadata": {},
   "source": [
    "#### 6.5. __dict__ which displays attribute information of class objects"
   ]
  },
  {
   "cell_type": "code",
   "execution_count": 27,
   "metadata": {},
   "outputs": [
    {
     "name": "stdout",
     "output_type": "stream",
     "text": [
      "Attribute of c1: {'_Circle__name': 'C1', '_Circle__radius': 4}\n",
      "Value of c1's name variable: C1\n",
      "Value of c1's name variable: 4\n"
     ]
    }
   ],
   "source": [
    "class Circle:\n",
    "    PI = 3.14\n",
    "    def __init__(self, name, radius):\n",
    "        self.__name = name\n",
    "        self.__radius = radius\n",
    "    \n",
    "c1 = Circle(\"C1\", 4)\n",
    "print(\"Attribute of c1:\", c1.__dict__)\n",
    "print('Value of c1\\'s name variable:', c1.__dict__['_Circle__name'])\n",
    "print('Value of c1\\'s name variable:', c1.__dict__['_Circle__radius'])"
   ]
  },
  {
   "cell_type": "markdown",
   "metadata": {},
   "source": [
    "## 7. Class Inheritance"
   ]
  },
  {
   "cell_type": "markdown",
   "metadata": {},
   "source": [
    "#### 7.1. Concept of class and inheritance"
   ]
  },
  {
   "cell_type": "markdown",
   "metadata": {},
   "source": [
    "#### 7.2. Syntax of clas and inheritance"
   ]
  },
  {
   "cell_type": "code",
   "execution_count": 32,
   "metadata": {},
   "outputs": [
    {
     "name": "stdout",
     "output_type": "stream",
     "text": [
      "a.PI = 3.14\n",
      "b.PI = 3.14\n"
     ]
    }
   ],
   "source": [
    "class A:\n",
    "    PI = 3.14\n",
    "\n",
    "class B(A):\n",
    "    pass\n",
    "\n",
    "a = A()\n",
    "b = B()\n",
    "print('a.PI =', a.PI)\n",
    "print('b.PI =', b.PI)"
   ]
  },
  {
   "cell_type": "markdown",
   "metadata": {},
   "source": [
    "## Q1"
   ]
  },
  {
   "cell_type": "code",
   "execution_count": 33,
   "metadata": {},
   "outputs": [
    {
     "name": "stdout",
     "output_type": "stream",
     "text": [
      "woof woof\n"
     ]
    }
   ],
   "source": [
    "class Dog:\n",
    "\n",
    "    def bark(self):\n",
    "        print('woof woof')\n",
    "\n",
    "my_dog = Dog()\n",
    "my_dog.bark()"
   ]
  },
  {
   "cell_type": "markdown",
   "metadata": {},
   "source": [
    "## Q2"
   ]
  },
  {
   "cell_type": "code",
   "execution_count": 34,
   "metadata": {},
   "outputs": [
    {
     "name": "stdout",
     "output_type": "stream",
     "text": [
      "Bingo : woof woof\n"
     ]
    }
   ],
   "source": [
    "class Dog:\n",
    "    def __init__(self, name):\n",
    "        self.name = name\n",
    "\n",
    "    def bark(self):\n",
    "        print('{} : woof woof'.format(self.name))\n",
    "    \n",
    "my_dog = Dog('Bingo')\n",
    "my_dog.bark()"
   ]
  },
  {
   "cell_type": "markdown",
   "metadata": {},
   "source": [
    "## Let's Code"
   ]
  },
  {
   "cell_type": "markdown",
   "metadata": {},
   "source": [
    "## 1. Class Design and Encapsulation"
   ]
  },
  {
   "cell_type": "markdown",
   "metadata": {},
   "source": [
    "#### 1.1. Importance of Encapsulation"
   ]
  },
  {
   "cell_type": "code",
   "execution_count": 38,
   "metadata": {},
   "outputs": [
    {
     "name": "stdout",
     "output_type": "stream",
     "text": [
      "Cat(name=)nabi, age=3)\n",
      "Cat(name=)nabi, age=-5)\n"
     ]
    }
   ],
   "source": [
    "class Cat:\n",
    "    def __init__(self, name, age):\n",
    "        self.name = name\n",
    "        self.age = age\n",
    "\n",
    "    # string expression format of a Cat objects\n",
    "    def __str__(self):\n",
    "        return 'Cat(name=)' + self.name + ', age=' + str(self.age) + ')'\n",
    "    \n",
    "nabi = Cat('nabi', 3)\n",
    "print(nabi)\n",
    "nabi.age = 4\n",
    "nabi.age = -5\n",
    "print(nabi)"
   ]
  },
  {
   "cell_type": "markdown",
   "metadata": {},
   "source": [
    "#### 1.2. Concept of encapsulation"
   ]
  },
  {
   "cell_type": "markdown",
   "metadata": {},
   "source": [
    "#### 1.3. Code example of encapsulation"
   ]
  },
  {
   "cell_type": "code",
   "execution_count": 42,
   "metadata": {},
   "outputs": [
    {
     "name": "stdout",
     "output_type": "stream",
     "text": [
      "Cat(name=)nabi, age=3)\n",
      "Cat(name=)nabi, age=4)\n"
     ]
    }
   ],
   "source": [
    "class Cat:\n",
    "    def __init__(self, name, age):\n",
    "        self.__name = name\n",
    "        self.__age = age\n",
    "\n",
    "    # string expression format of a Cat objects\n",
    "    def __str__(self):\n",
    "        return 'Cat(name=)' + self.__name + ', age=' + str(self.__age) + ')'\n",
    "    \n",
    "    # limits random external access on self.__age and prevents age from being negative\n",
    "    def set_age(self, age):\n",
    "        if age > 0:\n",
    "            self.__age = age\n",
    "\n",
    "    def get_age(self):\n",
    "        return self.__age\n",
    "\n",
    "nabi = Cat('nabi', 3)\n",
    "print(nabi)\n",
    "nabi.set_age(4)\n",
    "nabi.set_age(-5)\n",
    "print(nabi)"
   ]
  },
  {
   "cell_type": "markdown",
   "metadata": {},
   "source": [
    "## 2. Object's identity operator :is, is not"
   ]
  },
  {
   "cell_type": "code",
   "execution_count": 43,
   "metadata": {},
   "outputs": [
    {
     "name": "stdout",
     "output_type": "stream",
     "text": [
      "list_a is not list_b\n"
     ]
    }
   ],
   "source": [
    "list_a = [10, 20, 30]\n",
    "list_b = [10, 20, 30]\n",
    "if list_a is list_b:\n",
    "    print('list_a is list_b')\n",
    "else:\n",
    "    print('list_a is not list_b')"
   ]
  },
  {
   "cell_type": "markdown",
   "metadata": {},
   "source": [
    "#### 2.1. Referring identical object via object's id"
   ]
  },
  {
   "cell_type": "code",
   "execution_count": 45,
   "metadata": {},
   "outputs": [
    {
     "name": "stdout",
     "output_type": "stream",
     "text": [
      "id(list_a) = 2250256035840 id(list_b) = 2250268515392\n"
     ]
    }
   ],
   "source": [
    "print('id(list_a) =', id(list_a), 'id(list_b) =', id(list_b))"
   ]
  },
  {
   "cell_type": "code",
   "execution_count": 44,
   "metadata": {},
   "outputs": [
    {
     "name": "stdout",
     "output_type": "stream",
     "text": [
      "a is b\n"
     ]
    }
   ],
   "source": [
    "a = 'ABC'\n",
    "b = 'ABC'\n",
    "if a is b:\n",
    "    print('a is b')\n",
    "else:\n",
    "    print('a is not b')"
   ]
  },
  {
   "cell_type": "markdown",
   "metadata": {},
   "source": [
    "## 3. Class and special methods"
   ]
  },
  {
   "cell_type": "markdown",
   "metadata": {},
   "source": [
    "#### 3.1. Necessity of special methods"
   ]
  },
  {
   "cell_type": "code",
   "execution_count": 68,
   "metadata": {},
   "outputs": [
    {
     "name": "stdout",
     "output_type": "stream",
     "text": [
      "The history saving thread hit an unexpected error (OperationalError('database or disk is full')).History will not be written to the database."
     ]
    },
    {
     "ename": "TypeError",
     "evalue": "unsupported operand type(s) for +: 'Vector2D' and 'Vector2D'",
     "output_type": "error",
     "traceback": [
      "\u001b[1;31m---------------------------------------------------------------------------\u001b[0m",
      "\u001b[1;31mTypeError\u001b[0m                                 Traceback (most recent call last)",
      "\u001b[1;32mc:\\Users\\USER\\Desktop\\Samsung-Innovation-Campus-Python-Course\\Chapter 3\\Week 11 Sunday.ipynb Cell 70\u001b[0m line \u001b[0;36m8\n\u001b[0;32m      <a href='vscode-notebook-cell:/c%3A/Users/USER/Desktop/Samsung-Innovation-Campus-Python-Course/Chapter%203/Week%2011%20Sunday.ipynb#Y212sZmlsZQ%3D%3D?line=5'>6</a>\u001b[0m v1 \u001b[39m=\u001b[39m Vector2D(\u001b[39m30\u001b[39m, \u001b[39m40\u001b[39m)\n\u001b[0;32m      <a href='vscode-notebook-cell:/c%3A/Users/USER/Desktop/Samsung-Innovation-Campus-Python-Course/Chapter%203/Week%2011%20Sunday.ipynb#Y212sZmlsZQ%3D%3D?line=6'>7</a>\u001b[0m v2 \u001b[39m=\u001b[39m Vector2D(\u001b[39m10\u001b[39m, \u001b[39m20\u001b[39m)\n\u001b[1;32m----> <a href='vscode-notebook-cell:/c%3A/Users/USER/Desktop/Samsung-Innovation-Campus-Python-Course/Chapter%203/Week%2011%20Sunday.ipynb#Y212sZmlsZQ%3D%3D?line=7'>8</a>\u001b[0m v3 \u001b[39m=\u001b[39m v1 \u001b[39m+\u001b[39;49m v2\n\u001b[0;32m      <a href='vscode-notebook-cell:/c%3A/Users/USER/Desktop/Samsung-Innovation-Campus-Python-Course/Chapter%203/Week%2011%20Sunday.ipynb#Y212sZmlsZQ%3D%3D?line=8'>9</a>\u001b[0m \u001b[39mprint\u001b[39m(\u001b[39m'\u001b[39m\u001b[39mv1 + v2 =\u001b[39m\u001b[39m'\u001b[39m, v3)\n",
      "\u001b[1;31mTypeError\u001b[0m: unsupported operand type(s) for +: 'Vector2D' and 'Vector2D'"
     ]
    },
    {
     "name": "stdout",
     "output_type": "stream",
     "text": [
      "\n"
     ]
    }
   ],
   "source": [
    "class Vector2D:\n",
    "    def __init__(self, x, y):\n",
    "        self.x = x\n",
    "        self.y = y\n",
    "\n",
    "v1 = Vector2D(30, 40)\n",
    "v2 = Vector2D(10, 20)\n",
    "v3 = v1 + v2\n",
    "print('v1 + v2 =', v3)"
   ]
  },
  {
   "cell_type": "code",
   "execution_count": 72,
   "metadata": {},
   "outputs": [
    {
     "name": "stdout",
     "output_type": "stream",
     "text": [
      "v1.add(v2) = (40, 60)\n"
     ]
    }
   ],
   "source": [
    "class Vector2D:\n",
    "    def __init__(self, x, y):\n",
    "        self.x = x\n",
    "        self.y = y\n",
    "\n",
    "    def __str__(self):\n",
    "        return \"({}, {})\".format(self.x, self.y)\n",
    "    \n",
    "    def add(self, other):\n",
    "        return Vector2D(self.x + other.x, self.y + other.y)\n",
    "\n",
    "v1 = Vector2D(30, 40)\n",
    "v2 = Vector2D(10, 20)\n",
    "v3 = v1.add(v2)\n",
    "print('v1.add(v2) =', v3)"
   ]
  },
  {
   "cell_type": "markdown",
   "metadata": {},
   "source": [
    "#### 3.2. Defining special methods"
   ]
  },
  {
   "cell_type": "code",
   "execution_count": 82,
   "metadata": {},
   "outputs": [
    {
     "name": "stdout",
     "output_type": "stream",
     "text": [
      "v1 + v2 = (40, 60)\n",
      "v1 - v2 = (20, 20)\n",
      "v1 * v2 = (300, 800)\n"
     ]
    }
   ],
   "source": [
    "class Vector2D:\n",
    "    def __init__(self, x, y):\n",
    "        self.x = x\n",
    "        self.y = y\n",
    "\n",
    "    def __add__(self, other):\n",
    "        return Vector2D(self.x + other.x, self.y + other.y)\n",
    "    \n",
    "    def __sub__(self, other):\n",
    "        return Vector2D(self.x - other.x, self.y - other.y)\n",
    "    \n",
    "    def __mul__(self, other):\n",
    "        return Vector2D(self.x * other.x, self.y * other.y)\n",
    "\n",
    "    def __str__(self):\n",
    "        return \"({}, {})\".format(self.x, self.y)\n",
    "    \n",
    "\n",
    "v1 = Vector2D(30, 40)\n",
    "v2 = Vector2D(10, 20)\n",
    "v3 = v1 + v2\n",
    "print('v1 + v2 =', v3)\n",
    "v4 = v1 - v2\n",
    "print('v1 - v2 =', v4)\n",
    "v5 = v1 * v2\n",
    "print('v1 * v2 =', v5)"
   ]
  },
  {
   "cell_type": "markdown",
   "metadata": {},
   "source": [
    "#### 4. Meaning of object, reference and assignment operator"
   ]
  },
  {
   "cell_type": "markdown",
   "metadata": {},
   "source": [
    "#### 4.1. Meaning of object, reference and assignment operator"
   ]
  },
  {
   "cell_type": "code",
   "execution_count": 83,
   "metadata": {},
   "outputs": [
    {
     "data": {
      "text/plain": [
       "140715525009288"
      ]
     },
     "execution_count": 83,
     "metadata": {},
     "output_type": "execute_result"
    }
   ],
   "source": [
    "n = 100\n",
    "id(100)"
   ]
  },
  {
   "cell_type": "code",
   "execution_count": 84,
   "metadata": {},
   "outputs": [
    {
     "data": {
      "text/plain": [
       "140715525009288"
      ]
     },
     "execution_count": 84,
     "metadata": {},
     "output_type": "execute_result"
    }
   ],
   "source": [
    "id(n)"
   ]
  },
  {
   "cell_type": "code",
   "execution_count": 85,
   "metadata": {},
   "outputs": [
    {
     "data": {
      "text/plain": [
       "140715525009288"
      ]
     },
     "execution_count": 85,
     "metadata": {},
     "output_type": "execute_result"
    }
   ],
   "source": [
    "n = 100\n",
    "m = n\n",
    "id(n)"
   ]
  },
  {
   "cell_type": "code",
   "execution_count": 86,
   "metadata": {},
   "outputs": [
    {
     "data": {
      "text/plain": [
       "140715525009288"
      ]
     },
     "execution_count": 86,
     "metadata": {},
     "output_type": "execute_result"
    }
   ],
   "source": [
    "id(m)"
   ]
  },
  {
   "cell_type": "code",
   "execution_count": 87,
   "metadata": {},
   "outputs": [
    {
     "name": "stdout",
     "output_type": "stream",
     "text": [
      "140715525009288\n",
      "140715525009288\n"
     ]
    }
   ],
   "source": [
    "n = 100\n",
    "m = 100\n",
    "print(id(n))\n",
    "print(id(m))"
   ]
  },
  {
   "cell_type": "markdown",
   "metadata": {},
   "source": [
    "#### 4.2. Assignment operator means referring other object"
   ]
  },
  {
   "cell_type": "code",
   "execution_count": 88,
   "metadata": {},
   "outputs": [
    {
     "data": {
      "text/plain": [
       "140715525012488"
      ]
     },
     "execution_count": 88,
     "metadata": {},
     "output_type": "execute_result"
    }
   ],
   "source": [
    "n = 100\n",
    "m = n\n",
    "n = 200\n",
    "id(n)"
   ]
  },
  {
   "cell_type": "code",
   "execution_count": 89,
   "metadata": {},
   "outputs": [
    {
     "data": {
      "text/plain": [
       "140715525009288"
      ]
     },
     "execution_count": 89,
     "metadata": {},
     "output_type": "execute_result"
    }
   ],
   "source": [
    "id(m)"
   ]
  },
  {
   "cell_type": "code",
   "execution_count": 90,
   "metadata": {},
   "outputs": [
    {
     "data": {
      "text/plain": [
       "140715525009288"
      ]
     },
     "execution_count": 90,
     "metadata": {},
     "output_type": "execute_result"
    }
   ],
   "source": [
    "n = 100\n",
    "id(n)"
   ]
  },
  {
   "cell_type": "code",
   "execution_count": 91,
   "metadata": {},
   "outputs": [
    {
     "data": {
      "text/plain": [
       "140715525009320"
      ]
     },
     "execution_count": 91,
     "metadata": {},
     "output_type": "execute_result"
    }
   ],
   "source": [
    "n = n + 1\n",
    "id(n)"
   ]
  },
  {
   "cell_type": "markdown",
   "metadata": {},
   "source": [
    "## 5. Class and Inheritance"
   ]
  },
  {
   "cell_type": "markdown",
   "metadata": {},
   "source": [
    "#### 5.1. Class of hierarchical structure"
   ]
  },
  {
   "cell_type": "markdown",
   "metadata": {},
   "source": [
    "#### 5.2. Constructing class of hierarchical structure"
   ]
  },
  {
   "cell_type": "code",
   "execution_count": 92,
   "metadata": {},
   "outputs": [],
   "source": [
    "class Person:\n",
    "    def __init__(self, name):\n",
    "        self.name = name\n",
    "\n",
    "    def get_name(self):\n",
    "        return self.name"
   ]
  },
  {
   "cell_type": "code",
   "execution_count": 94,
   "metadata": {},
   "outputs": [],
   "source": [
    "class Manager(Person):\n",
    "    ...\n",
    "class Employee(Person):\n",
    "    ..."
   ]
  },
  {
   "cell_type": "code",
   "execution_count": 99,
   "metadata": {},
   "outputs": [
    {
     "name": "stdout",
     "output_type": "stream",
     "text": [
      "Staff : David Doe, staffID : 1111\n",
      "Staff : Paul Carter, staffID : 2222\n",
      "Manager : Anna Smith, position : CFO\n"
     ]
    }
   ],
   "source": [
    "class Person:\n",
    "    def __init__(self, name):\n",
    "        self.name = name\n",
    "\n",
    "    def get_name(self):\n",
    "        return self.name\n",
    "    \n",
    "class Employee(Person):\n",
    "    def __init__(self, name, staff_id):\n",
    "        Person.__init__(self, name)\n",
    "        self.staff_id = staff_id\n",
    "    \n",
    "    def info(self):\n",
    "        return 'Staff : ' + self.get_name() + ', staffID : ' + str(self.staff_id)\n",
    "    \n",
    "class Manager(Person):\n",
    "    def __init__(self, name, position):\n",
    "        Person.__init__(self, name)\n",
    "        self.position = position\n",
    "    \n",
    "    def info(self):\n",
    "        return 'Manager : ' + self.get_name() + ', position : ' + str(self.position)\n",
    "    \n",
    "worker1 = Employee('David Doe', 1111)\n",
    "worker2 = Employee('Paul Carter', 2222)\n",
    "cfo = Manager('Anna Smith', 'CFO')\n",
    "\n",
    "print(worker1.info())\n",
    "print(worker2.info())\n",
    "print(cfo.info())"
   ]
  },
  {
   "cell_type": "code",
   "execution_count": null,
   "metadata": {},
   "outputs": [],
   "source": []
  }
 ],
 "metadata": {
  "kernelspec": {
   "display_name": "Python 3",
   "language": "python",
   "name": "python3"
  },
  "language_info": {
   "codemirror_mode": {
    "name": "ipython",
    "version": 3
   },
   "file_extension": ".py",
   "mimetype": "text/x-python",
   "name": "python",
   "nbconvert_exporter": "python",
   "pygments_lexer": "ipython3",
   "version": "3.11.5"
  }
 },
 "nbformat": 4,
 "nbformat_minor": 2
}
