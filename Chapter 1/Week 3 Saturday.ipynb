{
 "cells": [
  {
   "cell_type": "markdown",
   "metadata": {},
   "source": [
    "## Unit 6 - Conditional Statement-1 : Conditions and Decision Making"
   ]
  },
  {
   "cell_type": "markdown",
   "metadata": {},
   "source": [
    "#### 2. Mission"
   ]
  },
  {
   "cell_type": "markdown",
   "metadata": {},
   "source": [
    "#### 2.1. How the lottery machine works"
   ]
  },
  {
   "cell_type": "code",
   "execution_count": 10,
   "metadata": {},
   "outputs": [
    {
     "name": "stdout",
     "output_type": "stream",
     "text": [
      "You won the lottery\n"
     ]
    }
   ],
   "source": [
    "n1, n2, n3 = 2, 3, 9\n",
    "\n",
    "n = 0\n",
    "a, b, c = input(\"Enter a three-digit lottery number : \").split()\n",
    "a = int(a)\n",
    "b = int(b)\n",
    "c = int(c)\n",
    "\n",
    "if a == n1 or a == n2 or a == n3: # If one of the numbers match the winning number\n",
    "    n += 1                        # Increase n\n",
    "if b == n1 or b == n2 or b == n3:\n",
    "    n += 1\n",
    "if c == n1 or c == n2 or c == n3:\n",
    "    n += 1\n",
    "\n",
    "if n == 3:                        # If n is 3, three numbers matched\n",
    "    print(\"You won the lottery\")"
   ]
  },
  {
   "cell_type": "markdown",
   "metadata": {},
   "source": [
    "## Key Concept"
   ]
  },
  {
   "cell_type": "markdown",
   "metadata": {},
   "source": [
    "#### 1. if Conditional Statements"
   ]
  },
  {
   "cell_type": "markdown",
   "metadata": {},
   "source": [
    "#### 1.2. Basic control structures of a program"
   ]
  },
  {
   "cell_type": "code",
   "execution_count": 12,
   "metadata": {},
   "outputs": [
    {
     "name": "stdout",
     "output_type": "stream",
     "text": [
      "num =  100\n",
      "num =  200\n",
      "num =  300\n"
     ]
    }
   ],
   "source": [
    "num = 100\n",
    "print('num = ', num)\n",
    "num += 100\n",
    "print('num = ', num)\n",
    "num += 100\n",
    "print('num = ', num)\n"
   ]
  },
  {
   "cell_type": "code",
   "execution_count": 13,
   "metadata": {},
   "outputs": [
    {
     "name": "stdout",
     "output_type": "stream",
     "text": [
      "youth discount\n"
     ]
    }
   ],
   "source": [
    "age = 18\n",
    "if age < 20:\n",
    "    print('youth discount')"
   ]
  },
  {
   "cell_type": "markdown",
   "metadata": {},
   "source": [
    "#### 1.10. Block of if statement"
   ]
  },
  {
   "cell_type": "code",
   "execution_count": 14,
   "metadata": {},
   "outputs": [
    {
     "ename": "IndentationError",
     "evalue": "expected an indented block (705879708.py, line 3)",
     "output_type": "error",
     "traceback": [
      "\u001b[1;36m  Input \u001b[1;32mIn [14]\u001b[1;36m\u001b[0m\n\u001b[1;33m    print('youth discount')\u001b[0m\n\u001b[1;37m    ^\u001b[0m\n\u001b[1;31mIndentationError\u001b[0m\u001b[1;31m:\u001b[0m expected an indented block\n"
     ]
    }
   ],
   "source": [
    "age = 18\n",
    "if age < 20:\n",
    "print('youth discount')"
   ]
  },
  {
   "cell_type": "markdown",
   "metadata": {},
   "source": [
    "#### 1.11. Indentation"
   ]
  },
  {
   "cell_type": "code",
   "execution_count": 15,
   "metadata": {},
   "outputs": [
    {
     "name": "stdout",
     "output_type": "stream",
     "text": [
      "youth discount\n",
      "Welcome\n"
     ]
    }
   ],
   "source": [
    "age = 18\n",
    "if age < 20:\n",
    "    print('youth discount')\n",
    "print('Welcome')"
   ]
  },
  {
   "cell_type": "code",
   "execution_count": 16,
   "metadata": {},
   "outputs": [
    {
     "name": "stdout",
     "output_type": "stream",
     "text": [
      "Welcome\n"
     ]
    }
   ],
   "source": [
    "age = 24\n",
    "if age < 20:\n",
    "    print('youth discount')\n",
    "print('Welcome')"
   ]
  },
  {
   "cell_type": "markdown",
   "metadata": {},
   "source": [
    "#### Calculate Quadratic Equation"
   ]
  },
  {
   "cell_type": "code",
   "execution_count": 27,
   "metadata": {},
   "outputs": [
    {
     "name": "stdout",
     "output_type": "stream",
     "text": [
      "There are 2 roots\n",
      "Root1:  -0.19098300562505255 Root2:  -1.3090169943749475\n"
     ]
    }
   ],
   "source": [
    "import math\n",
    "\n",
    "a = int(input('Enter a: '))\n",
    "b = int(input('Enter b: '))\n",
    "c = int(input('Enter c: '))\n",
    "\n",
    "delta = (b * b) - 4 * a * c\n",
    "if delta < 0:\n",
    "    print('No root')\n",
    "elif delta > 0:\n",
    "    print('There are 2 roots')\n",
    "\n",
    "    root1 = (- b + (math.sqrt(delta))) / (2 * a)\n",
    "    root2 = (- b - (math.sqrt(delta))) / (2 * a)\n",
    "\n",
    "    print('Root1: ', root1, 'Root2: ', root2)\n",
    "elif delta == 0:\n",
    "    print('Root1 = Root2')\n",
    "    root1 = root2 = - b / (2 * a)\n",
    "    print('Root1 = Root2: ', root1)\n",
    "\n"
   ]
  },
  {
   "cell_type": "markdown",
   "metadata": {},
   "source": [
    "#### 2. Applying Numeric and String Conditions to Conditional Statements"
   ]
  },
  {
   "cell_type": "markdown",
   "metadata": {},
   "source": [
    "#### 2.1 Code to verify if a number is a multiple of 3"
   ]
  },
  {
   "cell_type": "markdown",
   "metadata": {},
   "source": [
    "#### Q1. game score calculation"
   ]
  },
  {
   "cell_type": "code",
   "execution_count": 30,
   "metadata": {},
   "outputs": [
    {
     "name": "stdout",
     "output_type": "stream",
     "text": [
      "Game score: 100\n"
     ]
    }
   ],
   "source": [
    "user_score = int(input(\"Enter game score\"))\n",
    "\n",
    "if user_score > 1000:\n",
    "    print(\"Game score:\", user_score)\n",
    "    print(\"You are master.\")\n",
    "\n",
    "print(\"Game score:\", user_score)"
   ]
  },
  {
   "cell_type": "markdown",
   "metadata": {},
   "source": [
    "#### Q2. Write a program that receives any integer x between -100 and 100 and 1 prints x on the screen and 2 prints x is a natural number"
   ]
  },
  {
   "cell_type": "code",
   "execution_count": 7,
   "metadata": {},
   "outputs": [
    {
     "name": "stdout",
     "output_type": "stream",
     "text": [
      "x = -10\n"
     ]
    }
   ],
   "source": [
    "x = int(input(\"Enter integer\"))\n",
    "if x >= 0 and x <= 100:\n",
    "    print(x, \"is a natural number.\")\n",
    "\n",
    "else:\n",
    "    print(\"x =\", x)"
   ]
  },
  {
   "cell_type": "code",
   "execution_count": 1,
   "metadata": {},
   "outputs": [
    {
     "name": "stdout",
     "output_type": "stream",
     "text": [
      "Input:  10 20 30\n",
      "Input seperated by split() method:  ['10', '20', '30']\n"
     ]
    }
   ],
   "source": [
    "str1 = input('Enter three integers divided by space: ')\n",
    "print('Input: ', str1)\n",
    "print('Input seperated by split() method: ', str1.split())"
   ]
  },
  {
   "cell_type": "code",
   "execution_count": 2,
   "metadata": {},
   "outputs": [
    {
     "name": "stdout",
     "output_type": "stream",
     "text": [
      "Input:  10 20 30\n",
      "Input seperated by split() method:  ['10 20 30']\n"
     ]
    }
   ],
   "source": [
    "str1 = input('Enter three integers divided by space: ')\n",
    "print('Input: ', str1)\n",
    "print('Input seperated by split() method: ', str1.split(','))"
   ]
  },
  {
   "cell_type": "markdown",
   "metadata": {},
   "source": [
    "#### Q1. Write a program that receives age as input and prints \"Adult\" if age is 20 or over, \"Youth\" if under 20 and equal to or over 10, and \"Kid\" if under 10"
   ]
  },
  {
   "cell_type": "code",
   "execution_count": 9,
   "metadata": {},
   "outputs": [
    {
     "name": "stdout",
     "output_type": "stream",
     "text": [
      "Kid\n"
     ]
    }
   ],
   "source": [
    "age = int(input(\"Enter age: \"))\n",
    "\n",
    "if age < 10:\n",
    "    print(\"Kid\")\n",
    "if age >= 20:\n",
    "    print(\"Adult\")\n",
    "if age < 20 and age >= 10:\n",
    "    print(\"Youth\")"
   ]
  }
 ],
 "metadata": {
  "kernelspec": {
   "display_name": "base",
   "language": "python",
   "name": "python3"
  },
  "language_info": {
   "codemirror_mode": {
    "name": "ipython",
    "version": 3
   },
   "file_extension": ".py",
   "mimetype": "text/x-python",
   "name": "python",
   "nbconvert_exporter": "python",
   "pygments_lexer": "ipython3",
   "version": "3.9.12"
  },
  "orig_nbformat": 4
 },
 "nbformat": 4,
 "nbformat_minor": 2
}
