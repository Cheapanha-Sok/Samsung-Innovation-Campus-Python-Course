{
 "cells": [
  {
   "cell_type": "code",
   "execution_count": 1,
   "metadata": {},
   "outputs": [
    {
     "name": "stdout",
     "output_type": "stream",
     "text": [
      "Hello from Samsung Innovation Campus Coding & Programming with Python\n"
     ]
    }
   ],
   "source": [
    "print(\"Hello from Samsung Innovation Campus Coding & Programming with Python\")"
   ]
  },
  {
   "cell_type": "code",
   "execution_count": 2,
   "metadata": {},
   "outputs": [
    {
     "name": "stdout",
     "output_type": "stream",
     "text": [
      "Hello! I will introduce myself.\n",
      "Name: Penh Polydet\n",
      "Age: 20\n",
      "Job: Student\n",
      "Address: Phnom Penh, Cambodia\n",
      "Place of Birth: Phnom Penh, Cambodia\n"
     ]
    }
   ],
   "source": [
    "print(\"Hello! I will introduce myself.\")\n",
    "print(\"Name: Penh Polydet\")\n",
    "print(\"Age: 20\")\n",
    "print(\"Job: Student\")\n",
    "print(\"Address: Phnom Penh, Cambodia\")\n",
    "print(\"Place of Birth: Phnom Penh, Cambodia\")\n"
   ]
  }
 ],
 "metadata": {
  "kernelspec": {
   "display_name": "base",
   "language": "python",
   "name": "python3"
  },
  "language_info": {
   "codemirror_mode": {
    "name": "ipython",
    "version": 3
   },
   "file_extension": ".py",
   "mimetype": "text/x-python",
   "name": "python",
   "nbconvert_exporter": "python",
   "pygments_lexer": "ipython3",
   "version": "3.10.11"
  },
  "orig_nbformat": 4
 },
 "nbformat": 4,
 "nbformat_minor": 2
}
