{
 "cells": [
  {
   "cell_type": "markdown",
   "metadata": {},
   "source": [
    "## Unit 8 Loop-1"
   ]
  },
  {
   "cell_type": "markdown",
   "metadata": {},
   "source": [
    "#### Keyword: for, in, iteration and range"
   ]
  },
  {
   "cell_type": "markdown",
   "metadata": {},
   "source": [
    "#### Mission"
   ]
  },
  {
   "cell_type": "code",
   "execution_count": 4,
   "metadata": {},
   "outputs": [
    {
     "name": "stdout",
     "output_type": "stream",
     "text": [
      "Possible combinations of David's sandwich shop\n",
      "Rye bread + Meatball + Lettuce + Mayonnaise\n",
      "Rye bread + Meatball + Lettuce + Honey Mustard\n",
      "Rye bread + Meatball + Lettuce + Chili\n",
      "Rye bread + Meatball + Tomato + Mayonnaise\n",
      "Rye bread + Meatball + Tomato + Honey Mustard\n",
      "Rye bread + Meatball + Tomato + Chili\n",
      "Rye bread + Meatball + Cucumber + Mayonnaise\n",
      "Rye bread + Meatball + Cucumber + Honey Mustard\n",
      "Rye bread + Meatball + Cucumber + Chili\n",
      "Rye bread + Sausage + Lettuce + Mayonnaise\n",
      "Rye bread + Sausage + Lettuce + Honey Mustard\n",
      "Rye bread + Sausage + Lettuce + Chili\n",
      "Rye bread + Sausage + Tomato + Mayonnaise\n",
      "Rye bread + Sausage + Tomato + Honey Mustard\n",
      "Rye bread + Sausage + Tomato + Chili\n",
      "Rye bread + Sausage + Cucumber + Mayonnaise\n",
      "Rye bread + Sausage + Cucumber + Honey Mustard\n",
      "Rye bread + Sausage + Cucumber + Chili\n",
      "Rye bread + Chicken breast + Lettuce + Mayonnaise\n",
      "Rye bread + Chicken breast + Lettuce + Honey Mustard\n",
      "Rye bread + Chicken breast + Lettuce + Chili\n",
      "Rye bread + Chicken breast + Tomato + Mayonnaise\n",
      "Rye bread + Chicken breast + Tomato + Honey Mustard\n",
      "Rye bread + Chicken breast + Tomato + Chili\n",
      "Rye bread + Chicken breast + Cucumber + Mayonnaise\n",
      "Rye bread + Chicken breast + Cucumber + Honey Mustard\n",
      "Rye bread + Chicken breast + Cucumber + Chili\n",
      "Wheat + Meatball + Lettuce + Mayonnaise\n",
      "Wheat + Meatball + Lettuce + Honey Mustard\n",
      "Wheat + Meatball + Lettuce + Chili\n",
      "Wheat + Meatball + Tomato + Mayonnaise\n",
      "Wheat + Meatball + Tomato + Honey Mustard\n",
      "Wheat + Meatball + Tomato + Chili\n",
      "Wheat + Meatball + Cucumber + Mayonnaise\n",
      "Wheat + Meatball + Cucumber + Honey Mustard\n",
      "Wheat + Meatball + Cucumber + Chili\n",
      "Wheat + Sausage + Lettuce + Mayonnaise\n",
      "Wheat + Sausage + Lettuce + Honey Mustard\n",
      "Wheat + Sausage + Lettuce + Chili\n",
      "Wheat + Sausage + Tomato + Mayonnaise\n",
      "Wheat + Sausage + Tomato + Honey Mustard\n",
      "Wheat + Sausage + Tomato + Chili\n",
      "Wheat + Sausage + Cucumber + Mayonnaise\n",
      "Wheat + Sausage + Cucumber + Honey Mustard\n",
      "Wheat + Sausage + Cucumber + Chili\n",
      "Wheat + Chicken breast + Lettuce + Mayonnaise\n",
      "Wheat + Chicken breast + Lettuce + Honey Mustard\n",
      "Wheat + Chicken breast + Lettuce + Chili\n",
      "Wheat + Chicken breast + Tomato + Mayonnaise\n",
      "Wheat + Chicken breast + Tomato + Honey Mustard\n",
      "Wheat + Chicken breast + Tomato + Chili\n",
      "Wheat + Chicken breast + Cucumber + Mayonnaise\n",
      "Wheat + Chicken breast + Cucumber + Honey Mustard\n",
      "Wheat + Chicken breast + Cucumber + Chili\n",
      "White + Meatball + Lettuce + Mayonnaise\n",
      "White + Meatball + Lettuce + Honey Mustard\n",
      "White + Meatball + Lettuce + Chili\n",
      "White + Meatball + Tomato + Mayonnaise\n",
      "White + Meatball + Tomato + Honey Mustard\n",
      "White + Meatball + Tomato + Chili\n",
      "White + Meatball + Cucumber + Mayonnaise\n",
      "White + Meatball + Cucumber + Honey Mustard\n",
      "White + Meatball + Cucumber + Chili\n",
      "White + Sausage + Lettuce + Mayonnaise\n",
      "White + Sausage + Lettuce + Honey Mustard\n",
      "White + Sausage + Lettuce + Chili\n",
      "White + Sausage + Tomato + Mayonnaise\n",
      "White + Sausage + Tomato + Honey Mustard\n",
      "White + Sausage + Tomato + Chili\n",
      "White + Sausage + Cucumber + Mayonnaise\n",
      "White + Sausage + Cucumber + Honey Mustard\n",
      "White + Sausage + Cucumber + Chili\n",
      "White + Chicken breast + Lettuce + Mayonnaise\n",
      "White + Chicken breast + Lettuce + Honey Mustard\n",
      "White + Chicken breast + Lettuce + Chili\n",
      "White + Chicken breast + Tomato + Mayonnaise\n",
      "White + Chicken breast + Tomato + Honey Mustard\n",
      "White + Chicken breast + Tomato + Chili\n",
      "White + Chicken breast + Cucumber + Mayonnaise\n",
      "White + Chicken breast + Cucumber + Honey Mustard\n",
      "White + Chicken breast + Cucumber + Chili\n"
     ]
    }
   ],
   "source": [
    "breads = [\"Rye bread\", \"Wheat\", \"White\"]\n",
    "meats = [\"Meatball\", \"Sausage\", \"Chicken breast\"]\n",
    "vegis = [\"Lettuce\", \"Tomato\", \"Cucumber\"]\n",
    "sauces = [\"Mayonnaise\", \"Honey Mustard\", \"Chili\"]\n",
    "\n",
    "print(\"Possible combinations of David's sandwich shop\")\n",
    "for b in breads:\n",
    "    for m in meats:\n",
    "        for v in vegis:\n",
    "            for s in sauces:\n",
    "                print(b + \" + \" + m + \" + \" + v + \" + \" + s)"
   ]
  },
  {
   "cell_type": "markdown",
   "metadata": {},
   "source": [
    "## Key Concept"
   ]
  },
  {
   "cell_type": "markdown",
   "metadata": {},
   "source": [
    "## 1. Basic of for statement"
   ]
  },
  {
   "cell_type": "markdown",
   "metadata": {},
   "source": [
    "#### 1.1. Necessity of iterated statements"
   ]
  },
  {
   "cell_type": "code",
   "execution_count": 5,
   "metadata": {},
   "outputs": [
    {
     "name": "stdout",
     "output_type": "stream",
     "text": [
      "Welcome to everyone!!\n",
      "Welcome to everyone!!\n",
      "Welcome to everyone!!\n",
      "Welcome to everyone!!\n",
      "Welcome to everyone!!\n"
     ]
    }
   ],
   "source": [
    "print('Welcome to everyone!!')\n",
    "print('Welcome to everyone!!')\n",
    "print('Welcome to everyone!!')\n",
    "print('Welcome to everyone!!')\n",
    "print('Welcome to everyone!!')"
   ]
  },
  {
   "cell_type": "code",
   "execution_count": 6,
   "metadata": {},
   "outputs": [
    {
     "name": "stdout",
     "output_type": "stream",
     "text": [
      "Welcome to everyone!!\n",
      "Welcome to everyone!!\n",
      "Welcome to everyone!!\n",
      "Welcome to everyone!!\n",
      "Welcome to everyone!!\n"
     ]
    }
   ],
   "source": [
    "for i in range(5):\n",
    "    print('Welcome to everyone!!')"
   ]
  },
  {
   "cell_type": "markdown",
   "metadata": {},
   "source": [
    "#### 1.4. loop control variable"
   ]
  },
  {
   "cell_type": "code",
   "execution_count": 7,
   "metadata": {},
   "outputs": [
    {
     "name": "stdout",
     "output_type": "stream",
     "text": [
      "0 Welcome to everyone!!\n",
      "1 Welcome to everyone!!\n",
      "2 Welcome to everyone!!\n",
      "3 Welcome to everyone!!\n",
      "4 Welcome to everyone!!\n"
     ]
    }
   ],
   "source": [
    "for i in range(5):\n",
    "    print(i, 'Welcome to everyone!!')"
   ]
  },
  {
   "cell_type": "markdown",
   "metadata": {},
   "source": [
    "#### Can use _ : is an Anonymization of loop control variables -> Since the newly assigned variable i in the above loop statement is a loop that is not used in the execution statement, you can anonymized the variable by substituting it with an underscore (_) as follows."
   ]
  },
  {
   "cell_type": "code",
   "execution_count": 8,
   "metadata": {},
   "outputs": [
    {
     "name": "stdout",
     "output_type": "stream",
     "text": [
      "Welcome to everyone!!\n",
      "Welcome to everyone!!\n",
      "Welcome to everyone!!\n",
      "Welcome to everyone!!\n",
      "Welcome to everyone!!\n"
     ]
    }
   ],
   "source": [
    "for _ in range(5):\n",
    "    print('Welcome to everyone!!')"
   ]
  },
  {
   "cell_type": "markdown",
   "metadata": {},
   "source": [
    "## 2. range"
   ]
  },
  {
   "cell_type": "markdown",
   "metadata": {},
   "source": [
    "#### 2.2. Structure of range"
   ]
  },
  {
   "cell_type": "markdown",
   "metadata": {},
   "source": [
    "#### range(start = 0, end, step = 1)"
   ]
  },
  {
   "cell_type": "code",
   "execution_count": 9,
   "metadata": {},
   "outputs": [
    {
     "ename": "TypeError",
     "evalue": "'float' object cannot be interpreted as an integer",
     "output_type": "error",
     "traceback": [
      "\u001b[1;31m---------------------------------------------------------------------------\u001b[0m",
      "\u001b[1;31mTypeError\u001b[0m                                 Traceback (most recent call last)",
      "Cell \u001b[1;32mIn[9], line 1\u001b[0m\n\u001b[1;32m----> 1\u001b[0m \u001b[39mfor\u001b[39;00m i \u001b[39min\u001b[39;00m \u001b[39mrange\u001b[39;49m(\u001b[39m0.9\u001b[39;49m):\n\u001b[0;32m      2\u001b[0m     \u001b[39mprint\u001b[39m(i, \u001b[39m'\u001b[39m\u001b[39mWelcome to everyone!!\u001b[39m\u001b[39m'\u001b[39m)\n",
      "\u001b[1;31mTypeError\u001b[0m: 'float' object cannot be interpreted as an integer"
     ]
    }
   ],
   "source": [
    "for i in range(0.9):\n",
    "    print(i, 'Welcome to everyone!!')"
   ]
  },
  {
   "cell_type": "markdown",
   "metadata": {},
   "source": [
    "#### 2.2. About range"
   ]
  },
  {
   "cell_type": "code",
   "execution_count": 14,
   "metadata": {},
   "outputs": [
    {
     "name": "stdout",
     "output_type": "stream",
     "text": [
      "[0, 1, 2, 3, 4]\n"
     ]
    }
   ],
   "source": [
    "print(list(range(0, 5, 1))) # start = 0, end = 5, step = 1, so 0, 1, 2, 3, 4 as list"
   ]
  },
  {
   "cell_type": "code",
   "execution_count": 15,
   "metadata": {},
   "outputs": [
    {
     "name": "stdout",
     "output_type": "stream",
     "text": [
      "[0, 2, 4]\n"
     ]
    }
   ],
   "source": [
    "\n",
    "print(list(range(0, 5, 2))) # start = 0, end = 5, step = 2, so 0, 2, 4 as list"
   ]
  },
  {
   "cell_type": "code",
   "execution_count": 16,
   "metadata": {},
   "outputs": [
    {
     "name": "stdout",
     "output_type": "stream",
     "text": [
      "[2, 3, 4]\n"
     ]
    }
   ],
   "source": [
    "print(list(range(2, 5))) # start = 2, end = 5, step = 1, so 2, 3, 4 as list"
   ]
  },
  {
   "cell_type": "code",
   "execution_count": 17,
   "metadata": {},
   "outputs": [
    {
     "name": "stdout",
     "output_type": "stream",
     "text": [
      "[0, 2, 4, 6, 8]\n"
     ]
    }
   ],
   "source": [
    "print(list(range(0, 10, 2))) # start = 0, end = 10, step = 2, so 0, 2, 4, 6, 8 as list"
   ]
  },
  {
   "cell_type": "markdown",
   "metadata": {},
   "source": [
    "#### 2.3. Problem solving using for in range"
   ]
  },
  {
   "cell_type": "code",
   "execution_count": 21,
   "metadata": {},
   "outputs": [
    {
     "name": "stdout",
     "output_type": "stream",
     "text": [
      "Sum of numbers from 1 to 10: 55\n"
     ]
    }
   ],
   "source": [
    "s = 0\n",
    "for i in range(1, 11): # start = 1, end = 10, so 1 -> 10\n",
    "    s += i\n",
    "print('Sum of numbers from 1 to 10:', s)"
   ]
  },
  {
   "cell_type": "markdown",
   "metadata": {},
   "source": [
    "#### 2.4. Overlap of sum() function and variable name sum"
   ]
  },
  {
   "cell_type": "code",
   "execution_count": 22,
   "metadata": {},
   "outputs": [
    {
     "name": "stdout",
     "output_type": "stream",
     "text": [
      "55\n"
     ]
    }
   ],
   "source": [
    "print(sum(range(1, 11)))"
   ]
  },
  {
   "cell_type": "markdown",
   "metadata": {},
   "source": [
    "#### 2.5. Computing factorial"
   ]
  },
  {
   "cell_type": "markdown",
   "metadata": {},
   "source": [
    "\\begin{equation}\n",
    "n!=\\prod_{i=0}^n k = n \\cdot (n - 1) \\cdot (n - 2) \\cdot\\cdot\\cdot\\cdot\\cdot 3 \\cdot 2 \\cdot 1\n",
    "\\end{equation}"
   ]
  },
  {
   "cell_type": "code",
   "execution_count": 15,
   "metadata": {},
   "outputs": [
    {
     "name": "stdout",
     "output_type": "stream",
     "text": [
      "5! = 120\n"
     ]
    }
   ],
   "source": [
    "n = int(input('Enter a number: '))\n",
    "fact = 1\n",
    "for i in range(1, n + 1):\n",
    "    fact = fact * i\n",
    "print(str(n) + '! =', fact)"
   ]
  },
  {
   "cell_type": "markdown",
   "metadata": {},
   "source": [
    "## 3. Sequence object iteration"
   ]
  },
  {
   "cell_type": "markdown",
   "metadata": {},
   "source": [
    "#### 3.1. Object with order"
   ]
  },
  {
   "cell_type": "code",
   "execution_count": 36,
   "metadata": {},
   "outputs": [
    {
     "name": "stdout",
     "output_type": "stream",
     "text": [
      "n = 11\n",
      "n = 22\n",
      "n = 33\n",
      "n = 44\n",
      "n = 55\n",
      "n = 66\n"
     ]
    }
   ],
   "source": [
    "numbers = [11, 22, 33, 44, 55, 66]\n",
    "for n in numbers:\n",
    "    print('n =', n)"
   ]
  },
  {
   "cell_type": "markdown",
   "metadata": {},
   "source": [
    "#### 3.2. Cumulative addition code example"
   ]
  },
  {
   "cell_type": "code",
   "execution_count": 3,
   "metadata": {},
   "outputs": [
    {
     "name": "stdout",
     "output_type": "stream",
     "text": [
      "Sum of list items : 150\n"
     ]
    }
   ],
   "source": [
    "numbers = [10, 20, 30, 40, 50]\n",
    "s = 0\n",
    "for i in numbers:\n",
    "    s += i\n",
    "print('Sum of list items :', s)"
   ]
  },
  {
   "cell_type": "code",
   "execution_count": 4,
   "metadata": {},
   "outputs": [
    {
     "name": "stdout",
     "output_type": "stream",
     "text": [
      "Sum of list items : 150\n"
     ]
    }
   ],
   "source": [
    "numbers = [10, 20, 30, 40, 50]\n",
    "print('Sum of list items :', sum(numbers))"
   ]
  },
  {
   "cell_type": "markdown",
   "metadata": {},
   "source": [
    "#### 3.3. Converting string data type to list data type"
   ]
  },
  {
   "cell_type": "code",
   "execution_count": 5,
   "metadata": {},
   "outputs": [
    {
     "name": "stdout",
     "output_type": "stream",
     "text": [
      "['H', 'e', 'l', 'l', 'o']\n"
     ]
    }
   ],
   "source": [
    "st = 'Hello'\n",
    "print(list(st))"
   ]
  },
  {
   "cell_type": "markdown",
   "metadata": {},
   "source": [
    "#### 3.4. How to use string data type in for loops"
   ]
  },
  {
   "cell_type": "code",
   "execution_count": 8,
   "metadata": {},
   "outputs": [
    {
     "name": "stdout",
     "output_type": "stream",
     "text": [
      "H e l l o "
     ]
    }
   ],
   "source": [
    "for ch in 'Hello':\n",
    "    print(ch, end = ' ')"
   ]
  },
  {
   "cell_type": "markdown",
   "metadata": {},
   "source": [
    "#### Note"
   ]
  },
  {
   "cell_type": "code",
   "execution_count": 10,
   "metadata": {},
   "outputs": [
    {
     "name": "stdout",
     "output_type": "stream",
     "text": [
      "s-e-p\n"
     ]
    }
   ],
   "source": [
    "print('s', 'e', 'p', sep = '-')"
   ]
  },
  {
   "cell_type": "code",
   "execution_count": 11,
   "metadata": {},
   "outputs": [
    {
     "name": "stdout",
     "output_type": "stream",
     "text": [
      "My name is David\n"
     ]
    }
   ],
   "source": [
    "print(\"My name is\", end = \" \")\n",
    "print(\"David\")"
   ]
  },
  {
   "cell_type": "code",
   "execution_count": 13,
   "metadata": {},
   "outputs": [
    {
     "name": "stdout",
     "output_type": "stream",
     "text": [
      "My name is : David\n"
     ]
    }
   ],
   "source": [
    "print(\"My name is\", end = \" : \")\n",
    "print(\"David\")"
   ]
  },
  {
   "cell_type": "markdown",
   "metadata": {},
   "source": [
    "#### Q1. Decalring the list bts = ['V', 'J-Hope', 'RM', 'Jungkook', 'Jin', 'Jimin', 'Suga']. Then write a code that prints all items in this list using the for statement."
   ]
  },
  {
   "cell_type": "code",
   "execution_count": 16,
   "metadata": {},
   "outputs": [
    {
     "name": "stdout",
     "output_type": "stream",
     "text": [
      "V\n",
      "J-Hope\n",
      "RM\n",
      "Jungkook\n",
      "Jin\n",
      "Jimin\n",
      "Suga\n"
     ]
    }
   ],
   "source": [
    "bts = ['V', 'J-Hope', 'RM', 'Jungkook', 'Jin', 'Jimin', 'Suga']\n",
    "\n",
    "for i in bts:\n",
    "    print(i)"
   ]
  },
  {
   "cell_type": "markdown",
   "metadata": {},
   "source": [
    "#### Q2. Use Cumulative addition to compute and print the sum of integers from 1 to 100."
   ]
  },
  {
   "cell_type": "code",
   "execution_count": 17,
   "metadata": {},
   "outputs": [
    {
     "name": "stdout",
     "output_type": "stream",
     "text": [
      "Sum of integers from 1 to 100 : 5050\n"
     ]
    }
   ],
   "source": [
    "print('Sum of integers from 1 to 100 :', sum(range(1, 101)))"
   ]
  },
  {
   "cell_type": "markdown",
   "metadata": {},
   "source": [
    "#### Q3. Use the step value of the range function to find the sum of even numbers from 1 to 100"
   ]
  },
  {
   "cell_type": "code",
   "execution_count": 24,
   "metadata": {},
   "outputs": [
    {
     "name": "stdout",
     "output_type": "stream",
     "text": [
      "Sum of even from 1 to 100 : 2550\n"
     ]
    }
   ],
   "source": [
    "print('Sum of even from 1 to 100 :', sum(range(0, 101, 2)))"
   ]
  },
  {
   "cell_type": "markdown",
   "metadata": {},
   "source": [
    "#### Q4. Use the step value of the range function to find the sum of odd numbers from 1 to 100"
   ]
  },
  {
   "cell_type": "code",
   "execution_count": 26,
   "metadata": {},
   "outputs": [
    {
     "name": "stdout",
     "output_type": "stream",
     "text": [
      "Sum of integers from 1 to 100 : 2500\n"
     ]
    }
   ],
   "source": [
    "print('Sum of integers from 1 to 100 :', sum(range(1, 100, 2)))"
   ]
  },
  {
   "cell_type": "markdown",
   "metadata": {},
   "source": [
    "## Let's Code"
   ]
  },
  {
   "cell_type": "markdown",
   "metadata": {},
   "source": [
    "## 1. Structure of Loop Statement"
   ]
  },
  {
   "cell_type": "markdown",
   "metadata": {},
   "source": [
    "#### 1.2. Use for loop for iteration of controlled number of times"
   ]
  },
  {
   "cell_type": "code",
   "execution_count": 2,
   "metadata": {},
   "outputs": [
    {
     "name": "stdout",
     "output_type": "stream",
     "text": [
      "Welcome.\n",
      "Welcome.\n",
      "Welcome.\n",
      "Welcome.\n",
      "Welcome.\n"
     ]
    }
   ],
   "source": [
    "for i in [1, 2, 3, 4, 5]: # There must be : at the end\n",
    "    print(\"Welcome.\")       # Must indent"
   ]
  },
  {
   "cell_type": "markdown",
   "metadata": {},
   "source": [
    "#### 1.4. Sequence object that follows for - in"
   ]
  },
  {
   "cell_type": "code",
   "execution_count": 7,
   "metadata": {},
   "outputs": [
    {
     "name": "stdout",
     "output_type": "stream",
     "text": [
      "i = 1\n",
      "i = 2\n",
      "i = 3\n",
      "i = 4\n",
      "i = 5\n"
     ]
    }
   ],
   "source": [
    "for i in [1, 2, 3, 4, 5]: # place the list after in and : after the list\n",
    "    print(\"i =\", i)         # print values of i"
   ]
  },
  {
   "cell_type": "code",
   "execution_count": 8,
   "metadata": {},
   "outputs": [
    {
     "name": "stdout",
     "output_type": "stream",
     "text": [
      "i = H\n",
      "i = e\n",
      "i = l\n",
      "i = l\n",
      "i = o\n"
     ]
    }
   ],
   "source": [
    "for i in \"Hello\":   # place the list after in and : after the list\n",
    "    print(\"i =\", i) # print i values"
   ]
  },
  {
   "cell_type": "markdown",
   "metadata": {},
   "source": [
    "#### 1.5. Range function that comes with the for statement"
   ]
  },
  {
   "cell_type": "code",
   "execution_count": 9,
   "metadata": {},
   "outputs": [
    {
     "name": "stdout",
     "output_type": "stream",
     "text": [
      "Welcome to\n",
      "Python corporation!\n",
      "Welcome to\n",
      "Python corporation!\n",
      "Welcome to\n",
      "Python corporation!\n",
      "Welcome to\n",
      "Python corporation!\n",
      "Welcome to\n",
      "Python corporation!\n"
     ]
    }
   ],
   "source": [
    "for i in range(5):\n",
    "    print(\"Welcome to\")\n",
    "    print(\"Python corporation!\")"
   ]
  },
  {
   "cell_type": "markdown",
   "metadata": {},
   "source": [
    "#### 1.6. Characteristics of the range function"
   ]
  },
  {
   "cell_type": "code",
   "execution_count": 10,
   "metadata": {},
   "outputs": [
    {
     "name": "stdout",
     "output_type": "stream",
     "text": [
      "[0, 1, 2, 3, 4]\n"
     ]
    }
   ],
   "source": [
    "print(list(range(5))) # range(start = 0, end = 5, step = 1)"
   ]
  },
  {
   "cell_type": "markdown",
   "metadata": {},
   "source": [
    "#### 1.7. range function examples"
   ]
  },
  {
   "cell_type": "code",
   "execution_count": 14,
   "metadata": {},
   "outputs": [
    {
     "name": "stdout",
     "output_type": "stream",
     "text": [
      "1 2 3 4 5 "
     ]
    }
   ],
   "source": [
    "for i in range(1, 6, 1): # range(start = 1, end = 6, step = 1)\n",
    "    print(i, end = \" \")"
   ]
  },
  {
   "cell_type": "code",
   "execution_count": 15,
   "metadata": {},
   "outputs": [
    {
     "name": "stdout",
     "output_type": "stream",
     "text": [
      "1 3 5 7 9 "
     ]
    }
   ],
   "source": [
    "for i in range(1, 10, 2): # range(start = 1, end = 10, step = 2)\n",
    "    print(i, end = \" \")"
   ]
  },
  {
   "cell_type": "code",
   "execution_count": 17,
   "metadata": {},
   "outputs": [
    {
     "name": "stdout",
     "output_type": "stream",
     "text": [
      "10 9 8 7 6 5 4 3 2 1 "
     ]
    }
   ],
   "source": [
    "for i in range(10, 0, -1): # range(start = 10, end = 0, step = -1)\n",
    "    print(i, end = \" \")"
   ]
  },
  {
   "cell_type": "markdown",
   "metadata": {},
   "source": [
    "## 2. format function"
   ]
  },
  {
   "cell_type": "markdown",
   "metadata": {},
   "source": [
    "#### 2.1. format function code example"
   ]
  },
  {
   "cell_type": "code",
   "execution_count": 18,
   "metadata": {},
   "outputs": [
    {
     "name": "stdout",
     "output_type": "stream",
     "text": [
      "  100\n"
     ]
    }
   ],
   "source": [
    "# formatting integer value\n",
    "print('{:5d}'.format(100))"
   ]
  },
  {
   "cell_type": "code",
   "execution_count": 21,
   "metadata": {},
   "outputs": [
    {
     "name": "stdout",
     "output_type": "stream",
     "text": [
      "   10\n"
     ]
    }
   ],
   "source": [
    "# formatting integer value\n",
    "print('{:5d}'.format(10))"
   ]
  },
  {
   "cell_type": "code",
   "execution_count": 25,
   "metadata": {},
   "outputs": [
    {
     "name": "stdout",
     "output_type": "stream",
     "text": [
      " 3.140\n"
     ]
    }
   ],
   "source": [
    "# formatting real number value\n",
    "print('{:6.3f}'.format(3.14))"
   ]
  },
  {
   "cell_type": "code",
   "execution_count": 23,
   "metadata": {},
   "outputs": [
    {
     "name": "stdout",
     "output_type": "stream",
     "text": [
      "  3.14\n"
     ]
    }
   ],
   "source": [
    "# formatting real number value\n",
    "print('{:6.2f}'.format(3.14))"
   ]
  },
  {
   "cell_type": "markdown",
   "metadata": {},
   "source": [
    "#### Q1. Agency A is planning to issue tickets of a concert hall for idol singers' concert. Here, the number n is the input and the seat number is arranged as follows n * n seats are placed when n is given as input. The below arrangement of the seat numbers is called a snake matrix because the array increases in ones in the shape of a snake's trunk. Write a program that produces arrays of these numbers."
   ]
  },
  {
   "cell_type": "code",
   "execution_count": 77,
   "metadata": {},
   "outputs": [
    {
     "name": "stdout",
     "output_type": "stream",
     "text": [
      " 1  2  3  4  5 \n",
      "10  9  8  7  6 \n",
      "11 12 13 14 15 \n",
      "20 19 18 17 16 \n",
      "21 22 23 24 25 "
     ]
    }
   ],
   "source": [
    "n = int(input(\"Enter n :\"))\n",
    "for i in range(1, n + 1):\n",
    "    print(\"{:2d}\".format(i), end = \" \")\n",
    "print()\n",
    "for j in range(10, 10 - n, -1):\n",
    "    print(\"{:2d}\".format(j), end = \" \")\n",
    "print()\n",
    "for k in range(11, 21 - n):\n",
    "    print(\"{:2d}\".format(k), end = \" \")\n",
    "print()\n",
    "for l in range(20, 20 - n, -1):\n",
    "    print(\"{:2d}\".format(l), end = \" \")\n",
    "print()\n",
    "for m in range(21, 31 - n):\n",
    "    print(\"{:2d}\".format(m), end = \" \")"
   ]
  }
 ],
 "metadata": {
  "kernelspec": {
   "display_name": "Python 3",
   "language": "python",
   "name": "python3"
  },
  "language_info": {
   "codemirror_mode": {
    "name": "ipython",
    "version": 3
   },
   "file_extension": ".py",
   "mimetype": "text/x-python",
   "name": "python",
   "nbconvert_exporter": "python",
   "pygments_lexer": "ipython3",
   "version": "3.10.11"
  },
  "orig_nbformat": 4
 },
 "nbformat": 4,
 "nbformat_minor": 2
}
