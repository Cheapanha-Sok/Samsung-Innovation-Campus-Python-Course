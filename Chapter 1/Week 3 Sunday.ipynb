{
 "cells": [
  {
   "cell_type": "markdown",
   "metadata": {},
   "source": [
    "## Unit 7 - Conditional Statement-2"
   ]
  },
  {
   "cell_type": "markdown",
   "metadata": {},
   "source": [
    "#### 2. Mission"
   ]
  },
  {
   "cell_type": "markdown",
   "metadata": {},
   "source": [
    "#### 2.1. Process of penalty shootout game"
   ]
  },
  {
   "cell_type": "code",
   "execution_count": 21,
   "metadata": {},
   "outputs": [
    {
     "name": "stdout",
     "output_type": "stream",
     "text": [
      "Offense failed.\n",
      "computer defense position : Left\n"
     ]
    }
   ],
   "source": [
    "import random\n",
    "\n",
    "n = random.randint(1, 5)\n",
    "if n == 1:\n",
    "    computer_choice = \"Left\"\n",
    "elif n == 2:\n",
    "    computer_choice = \"Middle\"\n",
    "elif n == 3:\n",
    "    computer_choice = \"Right\"\n",
    "elif n == 4:\n",
    "    computer_choice = \"Top Left\"\n",
    "elif n == 5:\n",
    "    computer_choice = \"Top Right\"\n",
    "\n",
    "user_choice = input(\"Which side will you attack?(left, middle, right, top left, top right) : \")\n",
    "if computer_choice == user_choice:\n",
    "    print(\"Offense failed.\")\n",
    "else:\n",
    "    print(\"Congrats!! Offense succeeded.\")\n",
    "print('computer defense position :', computer_choice)"
   ]
  },
  {
   "cell_type": "markdown",
   "metadata": {},
   "source": [
    "#### Key Concept"
   ]
  },
  {
   "cell_type": "markdown",
   "metadata": {},
   "source": [
    "#### 1. Two-way Decision-Making Using else, and elif Statement"
   ]
  },
  {
   "cell_type": "markdown",
   "metadata": {},
   "source": [
    "#### 1.1. else statement which is executed when the condition is false"
   ]
  },
  {
   "cell_type": "code",
   "execution_count": 28,
   "metadata": {},
   "outputs": [
    {
     "name": "stdout",
     "output_type": "stream",
     "text": [
      "Not accepted.\n"
     ]
    }
   ],
   "source": [
    "score = int(input(\"Enter score: \"))\n",
    "if score > 90:\n",
    "    print('Accepted')\n",
    "    print('Also receive a scholarship')\n",
    "else:\n",
    "    print('Not accepted.')"
   ]
  },
  {
   "cell_type": "markdown",
   "metadata": {},
   "source": [
    "#### 1.2. if statement without else statement"
   ]
  },
  {
   "cell_type": "code",
   "execution_count": 29,
   "metadata": {},
   "outputs": [
    {
     "name": "stdout",
     "output_type": "stream",
     "text": [
      "It is morning\n"
     ]
    }
   ],
   "source": [
    "hour = 10\n",
    "if hour < 12:\n",
    "    print('It is morning')\n",
    "if hour >= 12:\n",
    "    print('It is afternoon')"
   ]
  },
  {
   "cell_type": "markdown",
   "metadata": {},
   "source": [
    "#### 1.3. if-else statement"
   ]
  },
  {
   "cell_type": "code",
   "execution_count": 30,
   "metadata": {},
   "outputs": [
    {
     "name": "stdout",
     "output_type": "stream",
     "text": [
      "It is morning\n"
     ]
    }
   ],
   "source": [
    "hour = 10\n",
    "if hour < 12:\n",
    "    print('It is morning')\n",
    "else:\n",
    "    print('It is afternoon')"
   ]
  },
  {
   "cell_type": "markdown",
   "metadata": {},
   "source": [
    "#### 1.5. if-else statement to determine odd/even numbers"
   ]
  },
  {
   "cell_type": "code",
   "execution_count": 31,
   "metadata": {},
   "outputs": [
    {
     "name": "stdout",
     "output_type": "stream",
     "text": [
      "10 is an even number.\n"
     ]
    }
   ],
   "source": [
    "num = 10\n",
    "if num % 2 == 0:\n",
    "    print(num, 'is an even number.')\n",
    "else:\n",
    "    print(num, 'is an odd number.')"
   ]
  },
  {
   "cell_type": "markdown",
   "metadata": {},
   "source": [
    "#### 1.6. Writing if-else statement inside if-else statement"
   ]
  },
  {
   "cell_type": "code",
   "execution_count": 34,
   "metadata": {},
   "outputs": [
    {
     "name": "stdout",
     "output_type": "stream",
     "text": [
      "It is positive.\n"
     ]
    }
   ],
   "source": [
    "num = int(input(\"Enter an integer: \"))\n",
    "if num >= 0:\n",
    "    if num == 0:\n",
    "        print(\"It is 0.\")\n",
    "    else:\n",
    "        print(\"It is positive.\")\n",
    "else:\n",
    "    print(\"It is negative.\")"
   ]
  },
  {
   "cell_type": "markdown",
   "metadata": {},
   "source": [
    "#### 1.7. Using nested if - else statement to discriminate even/odd numbers"
   ]
  },
  {
   "cell_type": "code",
   "execution_count": 35,
   "metadata": {},
   "outputs": [
    {
     "name": "stdout",
     "output_type": "stream",
     "text": [
      "100 is not negative.\n",
      "100 is an even number.\n"
     ]
    }
   ],
   "source": [
    "num = 100\n",
    "if num < 0:\n",
    "    print(num, 'is negative.')\n",
    "else:\n",
    "    print(num, 'is not negative.')\n",
    "    if num % 2 == 0:\n",
    "        print(num, 'is an even number.')\n",
    "    else:\n",
    "        print(num, 'is an odd number.')"
   ]
  },
  {
   "cell_type": "markdown",
   "metadata": {},
   "source": [
    "## 2. Nested Condtional Statement"
   ]
  },
  {
   "cell_type": "markdown",
   "metadata": {},
   "source": [
    "#### 2.2. Code example that prints positive, negative, and 0 after receiving integer as an input"
   ]
  },
  {
   "cell_type": "code",
   "execution_count": 36,
   "metadata": {},
   "outputs": [
    {
     "name": "stdout",
     "output_type": "stream",
     "text": [
      "It is positive.\n"
     ]
    }
   ],
   "source": [
    "num = int(input(\"Enter an integer: \"))\n",
    "\n",
    "if num > 0:\n",
    "    print(\"It is positive.\")\n",
    "elif num == 0:\n",
    "    print(\"It is 0.\")\n",
    "else:\n",
    "    print(\"It is negative.\")"
   ]
  },
  {
   "cell_type": "markdown",
   "metadata": {},
   "source": [
    "#### 2.4. Grade Generator example A: Code using multiple if statements"
   ]
  },
  {
   "cell_type": "code",
   "execution_count": 38,
   "metadata": {},
   "outputs": [
    {
     "name": "stdout",
     "output_type": "stream",
     "text": [
      "Your grade is : B\n"
     ]
    }
   ],
   "source": [
    "score = int(input(\"Enter score: \"))\n",
    "if score >= 90:\n",
    "    grade = 'A'\n",
    "if score < 90 and score >= 80:\n",
    "    grade = 'B'\n",
    "if score < 80 and score >= 70:\n",
    "    grade = 'C'\n",
    "if score < 70 and score >= 60:\n",
    "    grade = 'D'\n",
    "if score < 60:\n",
    "    grade = 'F'\n",
    "print('Your grade is :', grade)"
   ]
  },
  {
   "cell_type": "markdown",
   "metadata": {},
   "source": [
    "#### 2.5. Grade generator example B: Grade generator code using if-else statement"
   ]
  },
  {
   "cell_type": "code",
   "execution_count": 39,
   "metadata": {},
   "outputs": [
    {
     "name": "stdout",
     "output_type": "stream",
     "text": [
      "Your grade is : B\n"
     ]
    }
   ],
   "source": [
    "score = int(input(\"Enter score: \"))\n",
    "if score >= 90:\n",
    "    grade = 'A'\n",
    "else:\n",
    "    if score >= 80:\n",
    "        grade = 'B'\n",
    "    else:\n",
    "        if score >= 70:\n",
    "            grade = 'C'\n",
    "        else:\n",
    "            if score >= 60:\n",
    "                grade = 'D'\n",
    "            else:     \n",
    "                if score < 60:\n",
    "                    grade = 'F'\n",
    "print('Your grade is :', grade)"
   ]
  },
  {
   "cell_type": "markdown",
   "metadata": {},
   "source": [
    "#### 2.8. Grade generator example C: Grade generator code using if-elif-else"
   ]
  },
  {
   "cell_type": "code",
   "execution_count": 40,
   "metadata": {},
   "outputs": [
    {
     "name": "stdout",
     "output_type": "stream",
     "text": [
      "Your grade is : B\n"
     ]
    }
   ],
   "source": [
    "score = int(input(\"Enter score: \"))\n",
    "if score >= 90:\n",
    "    grade = 'A'\n",
    "elif score >= 80:\n",
    "    grade = 'B'\n",
    "elif score >= 70:\n",
    "    grade = 'C'\n",
    "elif score >= 60:\n",
    "    grade = 'D'\n",
    "else:\n",
    "    grade = 'F'\n",
    "print('Your grade is :', grade)"
   ]
  },
  {
   "cell_type": "markdown",
   "metadata": {},
   "source": [
    "#### 2.10. Example of a complex conditional expression"
   ]
  },
  {
   "cell_type": "markdown",
   "metadata": {},
   "source": [
    "#### Code Fruit shop"
   ]
  },
  {
   "cell_type": "code",
   "execution_count": 67,
   "metadata": {},
   "outputs": [
    {
     "name": "stdout",
     "output_type": "stream",
     "text": [
      "##################################################\n",
      "This is Penh Polydet's fruit shop\n",
      "1. Apple( price : 5000 won )\n",
      "2. Grape( price : 6000 won )\n",
      "3. Melon( price : 8000 won )\n",
      "4. Orange( price : 2000 won )\n",
      "##################################################\n",
      "Fruit selected : Grape\n",
      "Price : 6000\n",
      "Total price is 12000 won\n",
      "20000 won received. Your change is 8000\n"
     ]
    }
   ],
   "source": [
    "print(\"#\" * 50)\n",
    "print(\"This is Penh Polydet's fruit shop\")\n",
    "print(\"1. Apple( price : 5000 won )\") \n",
    "print(\"2. Grape( price : 6000 won )\") \n",
    "print(\"3. Melon( price : 8000 won )\") \n",
    "print(\"4. Orange( price : 2000 won )\") \n",
    "print(\"#\" * 50)\n",
    "fruit = int(input(\"Enter item number (between 1~4) >>\"))\n",
    "quantity = int(input(\"Enter number of item(between 1~10) >>\"))\n",
    "if fruit == 1:\n",
    "    fruit = \"Apple\"\n",
    "    price = 5000\n",
    "elif fruit == 2:\n",
    "    fruit = \"Grape\"\n",
    "    price = 6000\n",
    "elif fruit == 3:\n",
    "    fruit = \"Melon\"\n",
    "    price = 8000\n",
    "elif fruit == 4:\n",
    "    fruit = \"Orange\"\n",
    "    price = 2000\n",
    "print(\"Fruit selected :\", fruit)\n",
    "print(\"Price :\", price)\n",
    "print(\"Total price is\", price * quantity, \"won\")\n",
    "money = int(input(\"Insert money please(ex: 15000) >>>\"))\n",
    "if money < price * quantity:\n",
    "    print(\"not enough money\")\n",
    "else:\n",
    "    print(money, \"won received. Your change is\", money - price * quantity)"
   ]
  },
  {
   "cell_type": "markdown",
   "metadata": {},
   "source": [
    "#### Q1. Receive an alphabetical letter from the user and print \"It is a vowel\" for a, e, i, o, u and \"It is a consonant\" for any other letters."
   ]
  },
  {
   "cell_type": "code",
   "execution_count": 80,
   "metadata": {},
   "outputs": [
    {
     "name": "stdout",
     "output_type": "stream",
     "text": [
      "K is a consonant\n"
     ]
    }
   ],
   "source": [
    "letter = input(\"Enter the alphabet: \").lower()\n",
    "\n",
    "if letter == 'a' or letter == 'e' or letter == 'i' or letter == 'o' or letter == 'u':\n",
    "    print(\"It is a vowel\")\n",
    "else:\n",
    "    print(letter.upper(), \"is a consonant\")"
   ]
  },
  {
   "cell_type": "markdown",
   "metadata": {},
   "source": [
    "#### Q2. Write the following program which receives two integers a, b as input, determines whether a is a multiple of b and prints the result."
   ]
  },
  {
   "cell_type": "code",
   "execution_count": 90,
   "metadata": {},
   "outputs": [
    {
     "name": "stdout",
     "output_type": "stream",
     "text": [
      "30 is a multiple of 3\n"
     ]
    }
   ],
   "source": [
    "a, b = input(\"Write two integers: \").split()\n",
    "\n",
    "if int(a) % int(b) == 0:\n",
    "    print(a, \"is a multiple of\", b)\n",
    "else:\n",
    "    print(a, \"is not a multiple of\", b)"
   ]
  },
  {
   "cell_type": "markdown",
   "metadata": {},
   "source": [
    "## 1. if-elif Statement Application Example"
   ]
  },
  {
   "cell_type": "markdown",
   "metadata": {},
   "source": [
    "#### 1.2. The program resolution code for ID verification"
   ]
  },
  {
   "cell_type": "code",
   "execution_count": 91,
   "metadata": {},
   "outputs": [
    {
     "name": "stdout",
     "output_type": "stream",
     "text": [
      "Welcome.\n"
     ]
    }
   ],
   "source": [
    "d = \"Polydet\"\n",
    "s = input(\"Enter the ID: \")\n",
    "if s == d:\n",
    "    print(\"Welcome.\")\n",
    "else:\n",
    "    print(\"ID not found.\")\n"
   ]
  },
  {
   "cell_type": "markdown",
   "metadata": {},
   "source": [
    "#### 1.3. Program to verify ID and password"
   ]
  },
  {
   "cell_type": "code",
   "execution_count": 95,
   "metadata": {},
   "outputs": [
    {
     "name": "stdout",
     "output_type": "stream",
     "text": [
      "Welcome.\n"
     ]
    }
   ],
   "source": [
    "my_id = \"penh\"\n",
    "password = \"@polydetAa\"\n",
    "string1 = input(\"Enter ID: \")\n",
    "string2 = input(\"Enter password: \")\n",
    "if string1 == my_id and string2 == password:\n",
    "    print(\"Welcome.\")\n",
    "elif string1 != my_id:\n",
    "    print(\"ID is not found.\")\n",
    "elif string2 != password:\n",
    "    print(\"The password is wrong.\")"
   ]
  },
  {
   "cell_type": "markdown",
   "metadata": {},
   "source": [
    "## 2. random Module Preview"
   ]
  },
  {
   "cell_type": "markdown",
   "metadata": {},
   "source": [
    "#### 2.1. Code example of random number generation"
   ]
  },
  {
   "cell_type": "code",
   "execution_count": 97,
   "metadata": {},
   "outputs": [
    {
     "name": "stdout",
     "output_type": "stream",
     "text": [
      "58\n"
     ]
    }
   ],
   "source": [
    "import random\n",
    "\n",
    "number = random.randint(1, 100)\n",
    "print(number)"
   ]
  },
  {
   "cell_type": "markdown",
   "metadata": {},
   "source": [
    "#### 2.2. Coin tossing game using a random function"
   ]
  },
  {
   "cell_type": "code",
   "execution_count": 104,
   "metadata": {},
   "outputs": [
    {
     "name": "stdout",
     "output_type": "stream",
     "text": [
      "1\n"
     ]
    }
   ],
   "source": [
    "import random\n",
    "\n",
    "number = random.randrange(2)\n",
    "print(number)"
   ]
  },
  {
   "cell_type": "code",
   "execution_count": 105,
   "metadata": {},
   "outputs": [
    {
     "name": "stdout",
     "output_type": "stream",
     "text": [
      "Start coin tossing game.\n",
      "Front.\n",
      "Game finished.\n"
     ]
    }
   ],
   "source": [
    "import random\n",
    "\n",
    "print(\"Start coin tossing game.\")\n",
    "coin = random.randrange(2)\n",
    "if coin == 0:\n",
    "    print(\"Front.\")\n",
    "else:\n",
    "    print(\"Back.\")\n",
    "print(\"Game finished.\")"
   ]
  },
  {
   "cell_type": "markdown",
   "metadata": {},
   "source": [
    "#### Q1. Calculator in Python"
   ]
  },
  {
   "cell_type": "code",
   "execution_count": 118,
   "metadata": {},
   "outputs": [
    {
     "name": "stdout",
     "output_type": "stream",
     "text": [
      "1) Addition   2) Subtraction   3) Multiplication   4) Division\n",
      "10 + 2 = 12\n"
     ]
    }
   ],
   "source": [
    "print(\"1) Addition   2) Subtraction   3) Multiplication   4) Division\")\n",
    "choice = int(input(\"Enter the desired number of operation : \"))\n",
    "if choice <= 4:\n",
    "    num1, num2 = input(\"Enter two numbers for operation.\").split()\n",
    "    num1 = int(num1)\n",
    "    num2 = int(num2)\n",
    "    if choice == 1:\n",
    "        print(num1, \"+\", num2, \"=\", num1 + num2)\n",
    "    elif choice == 2:\n",
    "        print(num1, \"-\", num2, \"=\", num1 - num2)\n",
    "    elif choice == 3:\n",
    "        print(num1, \"*\", num2, \"=\", num1 * num2)\n",
    "    elif choice == 4:\n",
    "        print(num1, \"/\", num2, \"=\", num1 / num2)\n",
    "else:\n",
    "    print(\"Entered an incorrect number.\")\n"
   ]
  },
  {
   "cell_type": "code",
   "execution_count": 123,
   "metadata": {},
   "outputs": [
    {
     "name": "stdout",
     "output_type": "stream",
     "text": [
      "3\n"
     ]
    }
   ],
   "source": [
    "# Python Calculator one line\n",
    "print(eval(input()))"
   ]
  }
 ],
 "metadata": {
  "kernelspec": {
   "display_name": "base",
   "language": "python",
   "name": "python3"
  },
  "language_info": {
   "codemirror_mode": {
    "name": "ipython",
    "version": 3
   },
   "file_extension": ".py",
   "mimetype": "text/x-python",
   "name": "python",
   "nbconvert_exporter": "python",
   "pygments_lexer": "ipython3",
   "version": "3.9.12"
  },
  "orig_nbformat": 4
 },
 "nbformat": 4,
 "nbformat_minor": 2
}
